{
 "cells": [
  {
   "cell_type": "markdown",
   "metadata": {},
   "source": [
    "# Pandas crash course: things you can do with a DataFrame"
   ]
  },
  {
   "cell_type": "markdown",
   "metadata": {},
   "source": [
    "This magic command reduces the noise in exception tracebacks."
   ]
  },
  {
   "cell_type": "code",
   "execution_count": 1,
   "metadata": {},
   "outputs": [
    {
     "name": "stdout",
     "output_type": "stream",
     "text": [
      "Exception reporting mode: Plain\n"
     ]
    }
   ],
   "source": [
    "%xmode Plain"
   ]
  },
  {
   "cell_type": "markdown",
   "metadata": {},
   "source": [
    "## Summary\n",
    "\n",
    "These notes demonstrate what you can do with the two key Pandas data types: `Series` and `DataFrame`.  For a fuller treatment, see Chapter 3 of [Python Data Science Handbook](https://jakevdp.github.io/PythonDataScienceHandbook/) by Jake VanDerplas."
   ]
  },
  {
   "cell_type": "markdown",
   "metadata": {},
   "source": [
    "## Warming up"
   ]
  },
  {
   "cell_type": "markdown",
   "metadata": {},
   "source": [
    "Before we look at Pandas, we'll quickly look at two data types that are built into Python: `list` and `dict`."
   ]
  },
  {
   "cell_type": "markdown",
   "metadata": {},
   "source": [
    "### `list`\n",
    "\n",
    "A Python list is an ordered collection of items of any type.  Items in a list don't have to be the same type, but they usually are.  (More about types later.)"
   ]
  },
  {
   "cell_type": "markdown",
   "metadata": {},
   "source": [
    "We can define a list directly in our code.  For instance, here's a list of the names some Oxford colleges:"
   ]
  },
  {
   "cell_type": "code",
   "execution_count": 2,
   "metadata": {},
   "outputs": [
    {
     "data": {
      "text/plain": [
       "[\"St Anne's\",\n",
       " \"St Antony's\",\n",
       " \"St Benet's\",\n",
       " \"St Catherine's\",\n",
       " 'St Cross',\n",
       " 'St Edmund',\n",
       " \"St Hilda's\",\n",
       " \"St Hugh's\",\n",
       " \"St John's\",\n",
       " \"St Peter's\"]"
      ]
     },
     "execution_count": 2,
     "metadata": {},
     "output_type": "execute_result"
    }
   ],
   "source": [
    "colleges = [\"St Anne's\", \"St Antony's\", \"St Benet's\", \"St Catherine's\", \"St Cross\", \"St Edmund\", \"St Hilda's\", \"St Hugh's\", \"St John's\", \"St Peter's\"]\n",
    "colleges"
   ]
  },
  {
   "cell_type": "markdown",
   "metadata": {},
   "source": [
    "Or we can get a list as a result of calling some function that returns a list.  For instance, here's a list of all files in the one of the directories in the OpenPrescribing codebase (on my laptop):"
   ]
  },
  {
   "cell_type": "code",
   "execution_count": 3,
   "metadata": {},
   "outputs": [
    {
     "data": {
      "text/plain": [
       "['clean_up_bq_test_data.sh',\n",
       " 'crontab-openprescribing',\n",
       " 'fetch_and_import_ncso_concessions.sh',\n",
       " 'fetch_drug_tariff.sh',\n",
       " 'run_pipeline_e2e_tests.sh']"
      ]
     },
     "execution_count": 3,
     "metadata": {},
     "output_type": "execute_result"
    }
   ],
   "source": [
    "import os\n",
    "filenames = os.listdir('/Users/inglesp/work/ebmdatalab/openprescribing/deploy')\n",
    "filenames"
   ]
  },
  {
   "cell_type": "markdown",
   "metadata": {},
   "source": [
    "Once we have a list, there are several things we can do with it."
   ]
  },
  {
   "cell_type": "markdown",
   "metadata": {},
   "source": [
    "We can find out how many items are in it:"
   ]
  },
  {
   "cell_type": "code",
   "execution_count": 4,
   "metadata": {},
   "outputs": [
    {
     "data": {
      "text/plain": [
       "10"
      ]
     },
     "execution_count": 4,
     "metadata": {},
     "output_type": "execute_result"
    }
   ],
   "source": [
    "len(colleges)"
   ]
  },
  {
   "cell_type": "markdown",
   "metadata": {},
   "source": [
    "We can find out whether a given item is in the list:"
   ]
  },
  {
   "cell_type": "code",
   "execution_count": 5,
   "metadata": {},
   "outputs": [
    {
     "data": {
      "text/plain": [
       "True"
      ]
     },
     "execution_count": 5,
     "metadata": {},
     "output_type": "execute_result"
    }
   ],
   "source": [
    "\"St Anne's\" in colleges"
   ]
  },
  {
   "cell_type": "code",
   "execution_count": 6,
   "metadata": {},
   "outputs": [
    {
     "data": {
      "text/plain": [
       "False"
      ]
     },
     "execution_count": 6,
     "metadata": {},
     "output_type": "execute_result"
    }
   ],
   "source": [
    "\"St Stephen's\" in colleges"
   ]
  },
  {
   "cell_type": "markdown",
   "metadata": {},
   "source": [
    "We can access the item at a given position (called an \"index\") in the list:"
   ]
  },
  {
   "cell_type": "code",
   "execution_count": 7,
   "metadata": {},
   "outputs": [
    {
     "data": {
      "text/plain": [
       "\"St Benet's\""
      ]
     },
     "execution_count": 7,
     "metadata": {},
     "output_type": "execute_result"
    }
   ],
   "source": [
    "colleges[2]"
   ]
  },
  {
   "cell_type": "markdown",
   "metadata": {},
   "source": [
    "Note that the first index is zero:"
   ]
  },
  {
   "cell_type": "code",
   "execution_count": 8,
   "metadata": {},
   "outputs": [
    {
     "data": {
      "text/plain": [
       "\"St Anne's\""
      ]
     },
     "execution_count": 8,
     "metadata": {},
     "output_type": "execute_result"
    }
   ],
   "source": [
    "colleges[0]"
   ]
  },
  {
   "cell_type": "markdown",
   "metadata": {},
   "source": [
    "If we try to access an item by an index that is too big, Python raises an `IndexError`:"
   ]
  },
  {
   "cell_type": "code",
   "execution_count": 9,
   "metadata": {},
   "outputs": [
    {
     "ename": "IndexError",
     "evalue": "list index out of range",
     "output_type": "error",
     "traceback": [
      "Traceback \u001b[0;36m(most recent call last)\u001b[0m:\n",
      "\u001b[0;36m  File \u001b[0;32m\"<ipython-input-9-af5fee3f12bb>\"\u001b[0;36m, line \u001b[0;32m1\u001b[0;36m, in \u001b[0;35m<module>\u001b[0;36m\u001b[0m\n\u001b[0;31m    colleges[10]\u001b[0m\n",
      "\u001b[0;31mIndexError\u001b[0m\u001b[0;31m:\u001b[0m list index out of range\n"
     ]
    }
   ],
   "source": [
    "colleges[10]"
   ]
  },
  {
   "cell_type": "markdown",
   "metadata": {},
   "source": [
    "We can access items by counting back from the end of a list:"
   ]
  },
  {
   "cell_type": "code",
   "execution_count": 10,
   "metadata": {},
   "outputs": [
    {
     "data": {
      "text/plain": [
       "\"St Hugh's\""
      ]
     },
     "execution_count": 10,
     "metadata": {},
     "output_type": "execute_result"
    }
   ],
   "source": [
    "colleges[-3]"
   ]
  },
  {
   "cell_type": "markdown",
   "metadata": {},
   "source": [
    "We can also slice a list, to get a subset of its items.  `l[lower:upper]` returns a list of items in `l` with indexes between `lower` (inclusive) and `upper` (exclusive).  For instance:"
   ]
  },
  {
   "cell_type": "code",
   "execution_count": 11,
   "metadata": {},
   "outputs": [
    {
     "data": {
      "text/plain": [
       "[\"St Benet's\", \"St Catherine's\", 'St Cross']"
      ]
     },
     "execution_count": 11,
     "metadata": {},
     "output_type": "execute_result"
    }
   ],
   "source": [
    "colleges[2:5]"
   ]
  },
  {
   "cell_type": "markdown",
   "metadata": {},
   "source": [
    "If we want the first part of a list, `lower` is 0, and we can omit it altogether:"
   ]
  },
  {
   "cell_type": "code",
   "execution_count": 12,
   "metadata": {},
   "outputs": [
    {
     "data": {
      "text/plain": [
       "[\"St Anne's\", \"St Antony's\", \"St Benet's\", \"St Catherine's\", 'St Cross']"
      ]
     },
     "execution_count": 12,
     "metadata": {},
     "output_type": "execute_result"
    }
   ],
   "source": [
    "colleges[:5]"
   ]
  },
  {
   "cell_type": "markdown",
   "metadata": {},
   "source": [
    "Similarly, if we want the last part of the list, we can omit `upper`:"
   ]
  },
  {
   "cell_type": "code",
   "execution_count": 13,
   "metadata": {},
   "outputs": [
    {
     "data": {
      "text/plain": [
       "['St Edmund', \"St Hilda's\", \"St Hugh's\", \"St John's\", \"St Peter's\"]"
      ]
     },
     "execution_count": 13,
     "metadata": {},
     "output_type": "execute_result"
    }
   ],
   "source": [
    "colleges[5:]"
   ]
  },
  {
   "cell_type": "markdown",
   "metadata": {},
   "source": [
    "It's common to need to iterate over a list, and do something with each element.  For instance, here, we're displaying how many characters are in each college's name:"
   ]
  },
  {
   "cell_type": "code",
   "execution_count": 14,
   "metadata": {},
   "outputs": [
    {
     "name": "stdout",
     "output_type": "stream",
     "text": [
      "There are 9 characters in \"St Anne's\"\n",
      "There are 11 characters in \"St Antony's\"\n",
      "There are 10 characters in \"St Benet's\"\n",
      "There are 14 characters in \"St Catherine's\"\n",
      "There are 8 characters in \"St Cross\"\n"
     ]
    }
   ],
   "source": [
    "for c in colleges[:5]:\n",
    "    print('There are {} characters in \"{}\"'.format(len(c), c))"
   ]
  },
  {
   "cell_type": "markdown",
   "metadata": {},
   "source": [
    "We can modify a list by updating individual items:"
   ]
  },
  {
   "cell_type": "code",
   "execution_count": 15,
   "metadata": {},
   "outputs": [
    {
     "data": {
      "text/plain": [
       "[\"St Anne's\",\n",
       " \"St Anthony's\",\n",
       " \"St Benet's\",\n",
       " \"St Catherine's\",\n",
       " 'St Cross',\n",
       " 'St Edmund',\n",
       " \"St Hilda's\",\n",
       " \"St Hugh's\",\n",
       " \"St John's\",\n",
       " \"St Peter's\"]"
      ]
     },
     "execution_count": 15,
     "metadata": {},
     "output_type": "execute_result"
    }
   ],
   "source": [
    "colleges[1] = \"St Anthony's\"\n",
    "colleges"
   ]
  },
  {
   "cell_type": "markdown",
   "metadata": {},
   "source": [
    "We can also add or remove items from a list.  Take a look at the [Python documentation](https://docs.python.org/3.6/tutorial/datastructures.html#more-on-lists) for details of how to do this, and more."
   ]
  },
  {
   "cell_type": "markdown",
   "metadata": {},
   "source": [
    "### `dict`\n",
    "\n",
    "A Python dictionary is another kind of collection of items.  Rather than looking up items by their position in the collection (as with a list), we look them up by an associated key.  Unlike lists, dictionaries are not ordered.  (This is not actually true anymore: since Python 3.6 they are.  Additionally, you can use [`collections.OrderedDict`]() if you need an ordered dictionary with Python < 3.6.)"
   ]
  },
  {
   "cell_type": "markdown",
   "metadata": {},
   "source": [
    "We can define a dictionary directly in our code.  For instance, here's a dictionary of names of things in the BNF, keyed by BNF code:\n"
   ]
  },
  {
   "cell_type": "code",
   "execution_count": 16,
   "metadata": {},
   "outputs": [
    {
     "data": {
      "text/plain": [
       "{'010101000BBABA0': 'Langdales_Cinnamon Tab',\n",
       " '010101000BBADA0': 'Mylanta 11_Tab',\n",
       " '010101000BBAEA0': 'Mylanta 11_Liq',\n",
       " '010101000BBAFA0': 'Rennie Plus_Tab',\n",
       " '010101000BBAIA0': 'Sab Simplex_Susp'}"
      ]
     },
     "execution_count": 16,
     "metadata": {},
     "output_type": "execute_result"
    }
   ],
   "source": [
    "presentations = {\n",
    "    '010101000BBABA0': 'Langdales_Cinnamon Tab',\n",
    "    '010101000BBADA0': 'Mylanta 11_Tab',\n",
    "    '010101000BBAEA0': 'Mylanta 11_Liq',\n",
    "    '010101000BBAFA0': 'Rennie Plus_Tab',\n",
    "    '010101000BBAIA0': 'Sab Simplex_Susp',\n",
    "}\n",
    "presentations"
   ]
  },
  {
   "cell_type": "markdown",
   "metadata": {},
   "source": [
    "Given a dictionary, we can look up items by key:"
   ]
  },
  {
   "cell_type": "code",
   "execution_count": 17,
   "metadata": {},
   "outputs": [
    {
     "data": {
      "text/plain": [
       "'Langdales_Cinnamon Tab'"
      ]
     },
     "execution_count": 17,
     "metadata": {},
     "output_type": "execute_result"
    }
   ],
   "source": [
    "presentations['010101000BBABA0']"
   ]
  },
  {
   "cell_type": "markdown",
   "metadata": {},
   "source": [
    "If a key is not present, Python raises a `KeyError`:"
   ]
  },
  {
   "cell_type": "code",
   "execution_count": 18,
   "metadata": {},
   "outputs": [
    {
     "ename": "KeyError",
     "evalue": "'23990001111'",
     "output_type": "error",
     "traceback": [
      "Traceback \u001b[0;36m(most recent call last)\u001b[0m:\n",
      "\u001b[0;36m  File \u001b[0;32m\"<ipython-input-18-384abdcaa303>\"\u001b[0;36m, line \u001b[0;32m1\u001b[0;36m, in \u001b[0;35m<module>\u001b[0;36m\u001b[0m\n\u001b[0;31m    presentations['23990001111']\u001b[0m\n",
      "\u001b[0;31mKeyError\u001b[0m\u001b[0;31m:\u001b[0m '23990001111'\n"
     ]
    }
   ],
   "source": [
    "presentations['23990001111']"
   ]
  },
  {
   "cell_type": "markdown",
   "metadata": {},
   "source": [
    "Dictionaries are mutable, and we can add, remove, and update items:"
   ]
  },
  {
   "cell_type": "code",
   "execution_count": 19,
   "metadata": {},
   "outputs": [
    {
     "data": {
      "text/plain": [
       "{'010101000BBADA0': 'Mylanta 11 Tablet',\n",
       " '010101000BBAEA0': 'Mylanta 11_Liq',\n",
       " '010101000BBAFA0': 'Rennie Plus_Tab',\n",
       " '010101000BBAIA0': 'Sab Simplex_Susp',\n",
       " '010101000BBAJA0': 'Boots_Indigest Mix'}"
      ]
     },
     "execution_count": 19,
     "metadata": {},
     "output_type": "execute_result"
    }
   ],
   "source": [
    "presentations['010101000BBAJA0'] = 'Boots_Indigest Mix'\n",
    "del presentations['010101000BBABA0']\n",
    "presentations['010101000BBADA0'] = 'Mylanta 11 Tablet'\n",
    "\n",
    "presentations"
   ]
  },
  {
   "cell_type": "markdown",
   "metadata": {},
   "source": [
    "We can iterate over the items in a dictionary:"
   ]
  },
  {
   "cell_type": "code",
   "execution_count": 20,
   "metadata": {},
   "outputs": [
    {
     "name": "stdout",
     "output_type": "stream",
     "text": [
      "Mylanta 11 Tablet has BNF code 010101000BBADA0\n",
      "Mylanta 11_Liq has BNF code 010101000BBAEA0\n",
      "Rennie Plus_Tab has BNF code 010101000BBAFA0\n",
      "Sab Simplex_Susp has BNF code 010101000BBAIA0\n",
      "Boots_Indigest Mix has BNF code 010101000BBAJA0\n"
     ]
    }
   ],
   "source": [
    "for bnf_code, name in presentations.items():\n",
    "    print('{} has BNF code {}'.format(name, bnf_code))"
   ]
  },
  {
   "cell_type": "markdown",
   "metadata": {},
   "source": [
    "(Remember that before Python 3.6, dictionaries are not ordered, so the order of iteration will not be predictable.)"
   ]
  },
  {
   "cell_type": "markdown",
   "metadata": {},
   "source": [
    "### Types and `type()`"
   ]
  },
  {
   "cell_type": "markdown",
   "metadata": {},
   "source": [
    "Often, we will call a Python function and will want to use the return value of the function.  What we can do with a value depends on what type of thing it is.  There is a built-in function, `type`, that tells us what type of thing something is:"
   ]
  },
  {
   "cell_type": "code",
   "execution_count": 21,
   "metadata": {},
   "outputs": [
    {
     "data": {
      "text/plain": [
       "int"
      ]
     },
     "execution_count": 21,
     "metadata": {},
     "output_type": "execute_result"
    }
   ],
   "source": [
    "type(123)"
   ]
  },
  {
   "cell_type": "code",
   "execution_count": 22,
   "metadata": {},
   "outputs": [
    {
     "data": {
      "text/plain": [
       "float"
      ]
     },
     "execution_count": 22,
     "metadata": {},
     "output_type": "execute_result"
    }
   ],
   "source": [
    "type(123.0)"
   ]
  },
  {
   "cell_type": "code",
   "execution_count": 23,
   "metadata": {},
   "outputs": [
    {
     "data": {
      "text/plain": [
       "str"
      ]
     },
     "execution_count": 23,
     "metadata": {},
     "output_type": "execute_result"
    }
   ],
   "source": [
    "type('123')"
   ]
  },
  {
   "cell_type": "code",
   "execution_count": 24,
   "metadata": {},
   "outputs": [
    {
     "data": {
      "text/plain": [
       "list"
      ]
     },
     "execution_count": 24,
     "metadata": {},
     "output_type": "execute_result"
    }
   ],
   "source": [
    "type([123])"
   ]
  },
  {
   "cell_type": "code",
   "execution_count": 26,
   "metadata": {},
   "outputs": [
    {
     "data": {
      "text/plain": [
       "dict"
      ]
     },
     "execution_count": 26,
     "metadata": {},
     "output_type": "execute_result"
    }
   ],
   "source": [
    "type({123: '123'})"
   ]
  },
  {
   "cell_type": "markdown",
   "metadata": {},
   "source": [
    "## `Series`"
   ]
  },
  {
   "cell_type": "markdown",
   "metadata": {},
   "source": [
    "We're now ready to start talking about Pandas.\n",
    "\n",
    ":panda_face:"
   ]
  },
  {
   "cell_type": "code",
   "execution_count": 27,
   "metadata": {},
   "outputs": [],
   "source": [
    "import pandas as pd"
   ]
  },
  {
   "cell_type": "markdown",
   "metadata": {},
   "source": [
    "We'll begin by talking about `Series`, which behaves a bit like a cross between `list` and `dict`."
   ]
  },
  {
   "cell_type": "markdown",
   "metadata": {},
   "source": [
    "Here's a dictionary whose keys are practice identifiers, and whose values are quantities of something (I've lost my original query) prescribed by each practice in a given month:"
   ]
  },
  {
   "cell_type": "code",
   "execution_count": 28,
   "metadata": {},
   "outputs": [],
   "source": [
    "quantity_by_practice = {\n",
    "    'A81002': 70,\n",
    "    'A81004': 112,\n",
    "    'A81005': 28,\n",
    "    'A81006': 56,\n",
    "    'A81007': 56,\n",
    "    'A81013': 56,\n",
    "    'A81016': 28,\n",
    "    'A81020': 56,\n",
    "    'A81023': 28,\n",
    "    'A81029': 112,\n",
    "}"
   ]
  },
  {
   "cell_type": "markdown",
   "metadata": {},
   "source": [
    "We can create a `Series` from this dictionary.  (There are several other ways to create a `Series`, but most often you'll use them as a component of a `DataFrame`.)"
   ]
  },
  {
   "cell_type": "code",
   "execution_count": 29,
   "metadata": {},
   "outputs": [
    {
     "data": {
      "text/plain": [
       "A81002     70\n",
       "A81004    112\n",
       "A81005     28\n",
       "A81006     56\n",
       "A81007     56\n",
       "A81013     56\n",
       "A81016     28\n",
       "A81020     56\n",
       "A81023     28\n",
       "A81029    112\n",
       "dtype: int64"
      ]
     },
     "execution_count": 29,
     "metadata": {},
     "output_type": "execute_result"
    }
   ],
   "source": [
    "s = pd.Series(quantity_by_practice)\n",
    "s"
   ]
  },
  {
   "cell_type": "markdown",
   "metadata": {},
   "source": [
    "Let's check what kind of thing it is:"
   ]
  },
  {
   "cell_type": "code",
   "execution_count": 30,
   "metadata": {},
   "outputs": [
    {
     "data": {
      "text/plain": [
       "pandas.core.series.Series"
      ]
     },
     "execution_count": 30,
     "metadata": {},
     "output_type": "execute_result"
    }
   ],
   "source": [
    "type(s)"
   ]
  },
  {
   "cell_type": "markdown",
   "metadata": {},
   "source": [
    "Pandas has a useful way of showing us the first part of a `Series`, so that we can get a flavour for what it contains.  (This is particularly useful for large datasets.)"
   ]
  },
  {
   "cell_type": "code",
   "execution_count": 31,
   "metadata": {},
   "outputs": [
    {
     "data": {
      "text/plain": [
       "A81002     70\n",
       "A81004    112\n",
       "A81005     28\n",
       "A81006     56\n",
       "A81007     56\n",
       "dtype: int64"
      ]
     },
     "execution_count": 31,
     "metadata": {},
     "output_type": "execute_result"
    }
   ],
   "source": [
    "s.head()"
   ]
  },
  {
   "cell_type": "markdown",
   "metadata": {},
   "source": [
    "The `.dtype` attribute tells us what kind of thing the `Series` contains.  (Note that it's a numpy data type, which isn't the sme as a Python type.)"
   ]
  },
  {
   "cell_type": "code",
   "execution_count": 32,
   "metadata": {},
   "outputs": [
    {
     "data": {
      "text/plain": [
       "dtype('int64')"
      ]
     },
     "execution_count": 32,
     "metadata": {},
     "output_type": "execute_result"
    }
   ],
   "source": [
    "s.dtype"
   ]
  },
  {
   "cell_type": "markdown",
   "metadata": {},
   "source": [
    "### Indexing and slicing (and `.loc()` and `.iloc()`)"
   ]
  },
  {
   "cell_type": "markdown",
   "metadata": {},
   "source": [
    "We said that `Series` behaves a bit like `list`.  `Series` actually wraps a numpy `array`, which is like an efficient implementation of `list`.  We can access the underlying `array`:"
   ]
  },
  {
   "cell_type": "code",
   "execution_count": 33,
   "metadata": {},
   "outputs": [
    {
     "data": {
      "text/plain": [
       "array([ 70, 112,  28,  56,  56,  56,  28,  56,  28, 112])"
      ]
     },
     "execution_count": 33,
     "metadata": {},
     "output_type": "execute_result"
    }
   ],
   "source": [
    "s.values"
   ]
  },
  {
   "cell_type": "markdown",
   "metadata": {},
   "source": [
    "And as with `list`, we can access individual items by index:"
   ]
  },
  {
   "cell_type": "code",
   "execution_count": 34,
   "metadata": {},
   "outputs": [
    {
     "data": {
      "text/plain": [
       "70"
      ]
     },
     "execution_count": 34,
     "metadata": {},
     "output_type": "execute_result"
    }
   ],
   "source": [
    "s[0]"
   ]
  },
  {
   "cell_type": "code",
   "execution_count": 35,
   "metadata": {},
   "outputs": [
    {
     "ename": "IndexError",
     "evalue": "index out of bounds",
     "output_type": "error",
     "traceback": [
      "Traceback \u001b[0;36m(most recent call last)\u001b[0m:\n",
      "  File \u001b[1;32m\"<ipython-input-35-34c622ab6870>\"\u001b[0m, line \u001b[1;32m1\u001b[0m, in \u001b[1;35m<module>\u001b[0m\n    s[10]\n",
      "  File \u001b[1;32m\"/Users/inglesp/.pyenv/versions/3.6.4/envs/ebmdatalab-data-science/lib/python3.6/site-packages/pandas/core/series.py\"\u001b[0m, line \u001b[1;32m623\u001b[0m, in \u001b[1;35m__getitem__\u001b[0m\n    result = self.index.get_value(self, key)\n",
      "  File \u001b[1;32m\"/Users/inglesp/.pyenv/versions/3.6.4/envs/ebmdatalab-data-science/lib/python3.6/site-packages/pandas/core/indexes/base.py\"\u001b[0m, line \u001b[1;32m2566\u001b[0m, in \u001b[1;35mget_value\u001b[0m\n    return libts.get_value_box(s, key)\n",
      "  File \u001b[1;32m\"pandas/_libs/tslib.pyx\"\u001b[0m, line \u001b[1;32m1017\u001b[0m, in \u001b[1;35mpandas._libs.tslib.get_value_box\u001b[0m\n",
      "\u001b[0;36m  File \u001b[0;32m\"pandas/_libs/tslib.pyx\"\u001b[0;36m, line \u001b[0;32m1032\u001b[0;36m, in \u001b[0;35mpandas._libs.tslib.get_value_box\u001b[0;36m\u001b[0m\n",
      "\u001b[0;31mIndexError\u001b[0m\u001b[0;31m:\u001b[0m index out of bounds\n"
     ]
    }
   ],
   "source": [
    "s[10]"
   ]
  },
  {
   "cell_type": "markdown",
   "metadata": {},
   "source": [
    "But a `Series` also has keys, which like `dict` we can use to access items:"
   ]
  },
  {
   "cell_type": "code",
   "execution_count": 36,
   "metadata": {},
   "outputs": [
    {
     "data": {
      "text/plain": [
       "112"
      ]
     },
     "execution_count": 36,
     "metadata": {},
     "output_type": "execute_result"
    }
   ],
   "source": [
    "s['A81004']"
   ]
  },
  {
   "cell_type": "code",
   "execution_count": 37,
   "metadata": {},
   "outputs": [
    {
     "ename": "KeyError",
     "evalue": "'Y05364'",
     "output_type": "error",
     "traceback": [
      "Traceback \u001b[0;36m(most recent call last)\u001b[0m:\n",
      "  File \u001b[1;32m\"<ipython-input-37-a8db4b11d8c3>\"\u001b[0m, line \u001b[1;32m1\u001b[0m, in \u001b[1;35m<module>\u001b[0m\n    s['Y05364']\n",
      "  File \u001b[1;32m\"/Users/inglesp/.pyenv/versions/3.6.4/envs/ebmdatalab-data-science/lib/python3.6/site-packages/pandas/core/series.py\"\u001b[0m, line \u001b[1;32m623\u001b[0m, in \u001b[1;35m__getitem__\u001b[0m\n    result = self.index.get_value(self, key)\n",
      "  File \u001b[1;32m\"/Users/inglesp/.pyenv/versions/3.6.4/envs/ebmdatalab-data-science/lib/python3.6/site-packages/pandas/core/indexes/base.py\"\u001b[0m, line \u001b[1;32m2574\u001b[0m, in \u001b[1;35mget_value\u001b[0m\n    raise e1\n",
      "  File \u001b[1;32m\"/Users/inglesp/.pyenv/versions/3.6.4/envs/ebmdatalab-data-science/lib/python3.6/site-packages/pandas/core/indexes/base.py\"\u001b[0m, line \u001b[1;32m2560\u001b[0m, in \u001b[1;35mget_value\u001b[0m\n    tz=getattr(series.dtype, 'tz', None))\n",
      "  File \u001b[1;32m\"pandas/_libs/index.pyx\"\u001b[0m, line \u001b[1;32m83\u001b[0m, in \u001b[1;35mpandas._libs.index.IndexEngine.get_value\u001b[0m\n",
      "  File \u001b[1;32m\"pandas/_libs/index.pyx\"\u001b[0m, line \u001b[1;32m91\u001b[0m, in \u001b[1;35mpandas._libs.index.IndexEngine.get_value\u001b[0m\n",
      "  File \u001b[1;32m\"pandas/_libs/index.pyx\"\u001b[0m, line \u001b[1;32m139\u001b[0m, in \u001b[1;35mpandas._libs.index.IndexEngine.get_loc\u001b[0m\n",
      "  File \u001b[1;32m\"pandas/_libs/hashtable_class_helper.pxi\"\u001b[0m, line \u001b[1;32m1265\u001b[0m, in \u001b[1;35mpandas._libs.hashtable.PyObjectHashTable.get_item\u001b[0m\n",
      "\u001b[0;36m  File \u001b[0;32m\"pandas/_libs/hashtable_class_helper.pxi\"\u001b[0;36m, line \u001b[0;32m1273\u001b[0;36m, in \u001b[0;35mpandas._libs.hashtable.PyObjectHashTable.get_item\u001b[0;36m\u001b[0m\n",
      "\u001b[0;31mKeyError\u001b[0m\u001b[0;31m:\u001b[0m 'Y05364'\n"
     ]
    }
   ],
   "source": [
    "s['Y05364']"
   ]
  },
  {
   "cell_type": "markdown",
   "metadata": {},
   "source": [
    "To save a few keystrokes, Pandas allows us to access items as if they were attributes using the dot notation:"
   ]
  },
  {
   "cell_type": "code",
   "execution_count": 38,
   "metadata": {},
   "outputs": [
    {
     "data": {
      "text/plain": [
       "112"
      ]
     },
     "execution_count": 38,
     "metadata": {},
     "output_type": "execute_result"
    }
   ],
   "source": [
    "s.A81004"
   ]
  },
  {
   "cell_type": "markdown",
   "metadata": {},
   "source": [
    "Question: What problems might this cause?"
   ]
  },
  {
   "cell_type": "markdown",
   "metadata": {},
   "source": [
    "Using the square bracket notation to access items in a `Series` by position and by key might cause problems if the keys of the series are integers.\n",
    "\n",
    "Here's an example:"
   ]
  },
  {
   "cell_type": "code",
   "execution_count": 43,
   "metadata": {},
   "outputs": [
    {
     "data": {
      "text/plain": [
       "1     1\n",
       "3     9\n",
       "5    25\n",
       "7    49\n",
       "dtype: int64"
      ]
     },
     "execution_count": 43,
     "metadata": {},
     "output_type": "execute_result"
    }
   ],
   "source": [
    "s1 = pd.Series({1: 1, 3: 9, 5: 25, 7: 49})\n",
    "s1"
   ]
  },
  {
   "cell_type": "code",
   "execution_count": 44,
   "metadata": {},
   "outputs": [
    {
     "data": {
      "text/plain": [
       "9"
      ]
     },
     "execution_count": 44,
     "metadata": {},
     "output_type": "execute_result"
    }
   ],
   "source": [
    "s1[3]"
   ]
  },
  {
   "cell_type": "markdown",
   "metadata": {},
   "source": [
    "Question: in the line above, is `3` a position or a key?"
   ]
  },
  {
   "cell_type": "markdown",
   "metadata": {},
   "source": [
    "To resolve the amibiguity, a `Series` has a pair of attributes to access items by key (`.loc`) or by position (`.iloc`).  The \"i\" in \"iloc\" is for \"implicit\".\n",
    "\n",
    "Here are some examples:"
   ]
  },
  {
   "cell_type": "code",
   "execution_count": 46,
   "metadata": {},
   "outputs": [
    {
     "data": {
      "text/plain": [
       "9"
      ]
     },
     "execution_count": 46,
     "metadata": {},
     "output_type": "execute_result"
    }
   ],
   "source": [
    "s1.loc[3]"
   ]
  },
  {
   "cell_type": "code",
   "execution_count": 47,
   "metadata": {},
   "outputs": [
    {
     "data": {
      "text/plain": [
       "49"
      ]
     },
     "execution_count": 47,
     "metadata": {},
     "output_type": "execute_result"
    }
   ],
   "source": [
    "s1.iloc[3]"
   ]
  },
  {
   "cell_type": "code",
   "execution_count": 48,
   "metadata": {},
   "outputs": [
    {
     "ename": "KeyError",
     "evalue": "'the label [2] is not in the [index]'",
     "output_type": "error",
     "traceback": [
      "Traceback \u001b[0;36m(most recent call last)\u001b[0m:\n",
      "  File \u001b[1;32m\"<ipython-input-48-f42d414686a9>\"\u001b[0m, line \u001b[1;32m1\u001b[0m, in \u001b[1;35m<module>\u001b[0m\n    s1.loc[2]\n",
      "  File \u001b[1;32m\"/Users/inglesp/.pyenv/versions/3.6.4/envs/ebmdatalab-data-science/lib/python3.6/site-packages/pandas/core/indexing.py\"\u001b[0m, line \u001b[1;32m1373\u001b[0m, in \u001b[1;35m__getitem__\u001b[0m\n    return self._getitem_axis(maybe_callable, axis=axis)\n",
      "  File \u001b[1;32m\"/Users/inglesp/.pyenv/versions/3.6.4/envs/ebmdatalab-data-science/lib/python3.6/site-packages/pandas/core/indexing.py\"\u001b[0m, line \u001b[1;32m1626\u001b[0m, in \u001b[1;35m_getitem_axis\u001b[0m\n    self._has_valid_type(key, axis)\n",
      "  File \u001b[1;32m\"/Users/inglesp/.pyenv/versions/3.6.4/envs/ebmdatalab-data-science/lib/python3.6/site-packages/pandas/core/indexing.py\"\u001b[0m, line \u001b[1;32m1514\u001b[0m, in \u001b[1;35m_has_valid_type\u001b[0m\n    error()\n",
      "\u001b[0;36m  File \u001b[0;32m\"/Users/inglesp/.pyenv/versions/3.6.4/envs/ebmdatalab-data-science/lib/python3.6/site-packages/pandas/core/indexing.py\"\u001b[0;36m, line \u001b[0;32m1501\u001b[0;36m, in \u001b[0;35merror\u001b[0;36m\u001b[0m\n\u001b[0;31m    axis=self.obj._get_axis_name(axis)))\u001b[0m\n",
      "\u001b[0;31mKeyError\u001b[0m\u001b[0;31m:\u001b[0m 'the label [2] is not in the [index]'\n"
     ]
    }
   ],
   "source": [
    "s1.loc[2]"
   ]
  },
  {
   "cell_type": "code",
   "execution_count": 49,
   "metadata": {},
   "outputs": [
    {
     "ename": "IndexError",
     "evalue": "single positional indexer is out-of-bounds",
     "output_type": "error",
     "traceback": [
      "Traceback \u001b[0;36m(most recent call last)\u001b[0m:\n",
      "  File \u001b[1;32m\"<ipython-input-49-1deb44b97c10>\"\u001b[0m, line \u001b[1;32m1\u001b[0m, in \u001b[1;35m<module>\u001b[0m\n    s1.iloc[5]\n",
      "  File \u001b[1;32m\"/Users/inglesp/.pyenv/versions/3.6.4/envs/ebmdatalab-data-science/lib/python3.6/site-packages/pandas/core/indexing.py\"\u001b[0m, line \u001b[1;32m1373\u001b[0m, in \u001b[1;35m__getitem__\u001b[0m\n    return self._getitem_axis(maybe_callable, axis=axis)\n",
      "  File \u001b[1;32m\"/Users/inglesp/.pyenv/versions/3.6.4/envs/ebmdatalab-data-science/lib/python3.6/site-packages/pandas/core/indexing.py\"\u001b[0m, line \u001b[1;32m1830\u001b[0m, in \u001b[1;35m_getitem_axis\u001b[0m\n    self._is_valid_integer(key, axis)\n",
      "\u001b[0;36m  File \u001b[0;32m\"/Users/inglesp/.pyenv/versions/3.6.4/envs/ebmdatalab-data-science/lib/python3.6/site-packages/pandas/core/indexing.py\"\u001b[0;36m, line \u001b[0;32m1713\u001b[0;36m, in \u001b[0;35m_is_valid_integer\u001b[0;36m\u001b[0m\n\u001b[0;31m    raise IndexError(\"single positional indexer is out-of-bounds\")\u001b[0m\n",
      "\u001b[0;31mIndexError\u001b[0m\u001b[0;31m:\u001b[0m single positional indexer is out-of-bounds\n"
     ]
    }
   ],
   "source": [
    "s1.iloc[5]"
   ]
  },
  {
   "cell_type": "markdown",
   "metadata": {},
   "source": [
    "And here are `.loc` and `.iloc` with our original `Series`:"
   ]
  },
  {
   "cell_type": "code",
   "execution_count": 50,
   "metadata": {},
   "outputs": [
    {
     "data": {
      "text/plain": [
       "112"
      ]
     },
     "execution_count": 50,
     "metadata": {},
     "output_type": "execute_result"
    }
   ],
   "source": [
    "s.loc['A81004']"
   ]
  },
  {
   "cell_type": "code",
   "execution_count": 51,
   "metadata": {},
   "outputs": [
    {
     "ename": "TypeError",
     "evalue": "cannot do label indexing on <class 'pandas.core.indexes.base.Index'> with these indexers [1] of <class 'int'>",
     "output_type": "error",
     "traceback": [
      "Traceback \u001b[0;36m(most recent call last)\u001b[0m:\n",
      "  File \u001b[1;32m\"<ipython-input-51-a7c868f8fb38>\"\u001b[0m, line \u001b[1;32m1\u001b[0m, in \u001b[1;35m<module>\u001b[0m\n    s.loc[1]\n",
      "  File \u001b[1;32m\"/Users/inglesp/.pyenv/versions/3.6.4/envs/ebmdatalab-data-science/lib/python3.6/site-packages/pandas/core/indexing.py\"\u001b[0m, line \u001b[1;32m1373\u001b[0m, in \u001b[1;35m__getitem__\u001b[0m\n    return self._getitem_axis(maybe_callable, axis=axis)\n",
      "  File \u001b[1;32m\"/Users/inglesp/.pyenv/versions/3.6.4/envs/ebmdatalab-data-science/lib/python3.6/site-packages/pandas/core/indexing.py\"\u001b[0m, line \u001b[1;32m1626\u001b[0m, in \u001b[1;35m_getitem_axis\u001b[0m\n    self._has_valid_type(key, axis)\n",
      "  File \u001b[1;32m\"/Users/inglesp/.pyenv/versions/3.6.4/envs/ebmdatalab-data-science/lib/python3.6/site-packages/pandas/core/indexing.py\"\u001b[0m, line \u001b[1;32m1504\u001b[0m, in \u001b[1;35m_has_valid_type\u001b[0m\n    key = self._convert_scalar_indexer(key, axis)\n",
      "  File \u001b[1;32m\"/Users/inglesp/.pyenv/versions/3.6.4/envs/ebmdatalab-data-science/lib/python3.6/site-packages/pandas/core/indexing.py\"\u001b[0m, line \u001b[1;32m256\u001b[0m, in \u001b[1;35m_convert_scalar_indexer\u001b[0m\n    return ax._convert_scalar_indexer(key, kind=self.name)\n",
      "  File \u001b[1;32m\"/Users/inglesp/.pyenv/versions/3.6.4/envs/ebmdatalab-data-science/lib/python3.6/site-packages/pandas/core/indexes/base.py\"\u001b[0m, line \u001b[1;32m1392\u001b[0m, in \u001b[1;35m_convert_scalar_indexer\u001b[0m\n    return self._invalid_indexer('label', key)\n",
      "\u001b[0;36m  File \u001b[0;32m\"/Users/inglesp/.pyenv/versions/3.6.4/envs/ebmdatalab-data-science/lib/python3.6/site-packages/pandas/core/indexes/base.py\"\u001b[0;36m, line \u001b[0;32m1576\u001b[0;36m, in \u001b[0;35m_invalid_indexer\u001b[0;36m\u001b[0m\n\u001b[0;31m    kind=type(key)))\u001b[0m\n",
      "\u001b[0;31mTypeError\u001b[0m\u001b[0;31m:\u001b[0m cannot do label indexing on <class 'pandas.core.indexes.base.Index'> with these indexers [1] of <class 'int'>\n"
     ]
    }
   ],
   "source": [
    "s.loc[1]"
   ]
  },
  {
   "cell_type": "code",
   "execution_count": 52,
   "metadata": {},
   "outputs": [
    {
     "data": {
      "text/plain": [
       "112"
      ]
     },
     "execution_count": 52,
     "metadata": {},
     "output_type": "execute_result"
    }
   ],
   "source": [
    "s.iloc[1]"
   ]
  },
  {
   "cell_type": "code",
   "execution_count": 53,
   "metadata": {},
   "outputs": [
    {
     "ename": "TypeError",
     "evalue": "cannot do positional indexing on <class 'pandas.core.indexes.base.Index'> with these indexers [A81004] of <class 'str'>",
     "output_type": "error",
     "traceback": [
      "Traceback \u001b[0;36m(most recent call last)\u001b[0m:\n",
      "  File \u001b[1;32m\"<ipython-input-53-69f806ac4256>\"\u001b[0m, line \u001b[1;32m1\u001b[0m, in \u001b[1;35m<module>\u001b[0m\n    s.iloc['A81004']\n",
      "  File \u001b[1;32m\"/Users/inglesp/.pyenv/versions/3.6.4/envs/ebmdatalab-data-science/lib/python3.6/site-packages/pandas/core/indexing.py\"\u001b[0m, line \u001b[1;32m1373\u001b[0m, in \u001b[1;35m__getitem__\u001b[0m\n    return self._getitem_axis(maybe_callable, axis=axis)\n",
      "  File \u001b[1;32m\"/Users/inglesp/.pyenv/versions/3.6.4/envs/ebmdatalab-data-science/lib/python3.6/site-packages/pandas/core/indexing.py\"\u001b[0m, line \u001b[1;32m1823\u001b[0m, in \u001b[1;35m_getitem_axis\u001b[0m\n    key = self._convert_scalar_indexer(key, axis)\n",
      "  File \u001b[1;32m\"/Users/inglesp/.pyenv/versions/3.6.4/envs/ebmdatalab-data-science/lib/python3.6/site-packages/pandas/core/indexing.py\"\u001b[0m, line \u001b[1;32m256\u001b[0m, in \u001b[1;35m_convert_scalar_indexer\u001b[0m\n    return ax._convert_scalar_indexer(key, kind=self.name)\n",
      "  File \u001b[1;32m\"/Users/inglesp/.pyenv/versions/3.6.4/envs/ebmdatalab-data-science/lib/python3.6/site-packages/pandas/core/indexes/base.py\"\u001b[0m, line \u001b[1;32m1365\u001b[0m, in \u001b[1;35m_convert_scalar_indexer\u001b[0m\n    return self._validate_indexer('positional', key, kind)\n",
      "  File \u001b[1;32m\"/Users/inglesp/.pyenv/versions/3.6.4/envs/ebmdatalab-data-science/lib/python3.6/site-packages/pandas/core/indexes/base.py\"\u001b[0m, line \u001b[1;32m3495\u001b[0m, in \u001b[1;35m_validate_indexer\u001b[0m\n    self._invalid_indexer(form, key)\n",
      "\u001b[0;36m  File \u001b[0;32m\"/Users/inglesp/.pyenv/versions/3.6.4/envs/ebmdatalab-data-science/lib/python3.6/site-packages/pandas/core/indexes/base.py\"\u001b[0;36m, line \u001b[0;32m1576\u001b[0;36m, in \u001b[0;35m_invalid_indexer\u001b[0;36m\u001b[0m\n\u001b[0;31m    kind=type(key)))\u001b[0m\n",
      "\u001b[0;31mTypeError\u001b[0m\u001b[0;31m:\u001b[0m cannot do positional indexing on <class 'pandas.core.indexes.base.Index'> with these indexers [A81004] of <class 'str'>\n"
     ]
    }
   ],
   "source": [
    "s.iloc['A81004']"
   ]
  },
  {
   "cell_type": "markdown",
   "metadata": {},
   "source": [
    "Like `list`, we can slice `Series`:"
   ]
  },
  {
   "cell_type": "code",
   "execution_count": 54,
   "metadata": {},
   "outputs": [
    {
     "data": {
      "text/plain": [
       "A81005    28\n",
       "A81006    56\n",
       "A81007    56\n",
       "A81013    56\n",
       "dtype: int64"
      ]
     },
     "execution_count": 54,
     "metadata": {},
     "output_type": "execute_result"
    }
   ],
   "source": [
    "s['A81005':'A81013']"
   ]
  },
  {
   "cell_type": "code",
   "execution_count": 55,
   "metadata": {},
   "outputs": [
    {
     "data": {
      "text/plain": [
       "A81005    28\n",
       "A81006    56\n",
       "A81007    56\n",
       "A81013    56\n",
       "dtype: int64"
      ]
     },
     "execution_count": 55,
     "metadata": {},
     "output_type": "execute_result"
    }
   ],
   "source": [
    "s.loc['A81005':'A81013']"
   ]
  },
  {
   "cell_type": "code",
   "execution_count": 56,
   "metadata": {},
   "outputs": [
    {
     "data": {
      "text/plain": [
       "A81005    28\n",
       "A81006    56\n",
       "A81007    56\n",
       "A81013    56\n",
       "dtype: int64"
      ]
     },
     "execution_count": 56,
     "metadata": {},
     "output_type": "execute_result"
    }
   ],
   "source": [
    "s.iloc[2:6]"
   ]
  },
  {
   "cell_type": "markdown",
   "metadata": {},
   "source": [
    "Slicing, without `.loc` or `.iloc` is always done by position:"
   ]
  },
  {
   "cell_type": "code",
   "execution_count": 57,
   "metadata": {},
   "outputs": [
    {
     "data": {
      "text/plain": [
       "1     1\n",
       "3     9\n",
       "5    25\n",
       "7    49\n",
       "dtype: int64"
      ]
     },
     "execution_count": 57,
     "metadata": {},
     "output_type": "execute_result"
    }
   ],
   "source": [
    "s1"
   ]
  },
  {
   "cell_type": "code",
   "execution_count": 58,
   "metadata": {},
   "outputs": [
    {
     "data": {
      "text/plain": [
       "3     9\n",
       "5    25\n",
       "dtype: int64"
      ]
     },
     "execution_count": 58,
     "metadata": {},
     "output_type": "execute_result"
    }
   ],
   "source": [
    "s1[1:3]"
   ]
  },
  {
   "cell_type": "code",
   "execution_count": 59,
   "metadata": {},
   "outputs": [
    {
     "data": {
      "text/plain": [
       "1    1\n",
       "3    9\n",
       "dtype: int64"
      ]
     },
     "execution_count": 59,
     "metadata": {},
     "output_type": "execute_result"
    }
   ],
   "source": [
    "s1.loc[1:3]"
   ]
  },
  {
   "cell_type": "code",
   "execution_count": 60,
   "metadata": {},
   "outputs": [
    {
     "data": {
      "text/plain": [
       "3     9\n",
       "5    25\n",
       "dtype: int64"
      ]
     },
     "execution_count": 60,
     "metadata": {},
     "output_type": "execute_result"
    }
   ],
   "source": [
    "s1.iloc[1:3]"
   ]
  },
  {
   "cell_type": "markdown",
   "metadata": {},
   "source": [
    "We can also index a `Series` by a `list`.\n",
    "\n",
    "Question: what does this do?"
   ]
  },
  {
   "cell_type": "code",
   "execution_count": 61,
   "metadata": {},
   "outputs": [
    {
     "data": {
      "text/plain": [
       "A81005    28\n",
       "A81013    56\n",
       "dtype: int64"
      ]
     },
     "execution_count": 61,
     "metadata": {},
     "output_type": "execute_result"
    }
   ],
   "source": [
    "s[['A81005', 'A81013']]"
   ]
  },
  {
   "cell_type": "code",
   "execution_count": 63,
   "metadata": {},
   "outputs": [
    {
     "data": {
      "text/plain": [
       "pandas.core.series.Series"
      ]
     },
     "execution_count": 63,
     "metadata": {},
     "output_type": "execute_result"
    }
   ],
   "source": [
    "type(s[['A81005', 'A81013']])"
   ]
  },
  {
   "cell_type": "markdown",
   "metadata": {},
   "source": [
    "Another way to index a `Series` by a `list` is to use a list of boolean values.\n",
    "\n",
    "Question: what does this do?"
   ]
  },
  {
   "cell_type": "code",
   "execution_count": 64,
   "metadata": {},
   "outputs": [
    {
     "data": {
      "text/plain": [
       "A81002    70\n",
       "A81005    28\n",
       "A81007    56\n",
       "A81016    28\n",
       "A81023    28\n",
       "dtype: int64"
      ]
     },
     "execution_count": 64,
     "metadata": {},
     "output_type": "execute_result"
    }
   ],
   "source": [
    "s[[True, False, True, False, True, False, True, False, True, False]]"
   ]
  },
  {
   "cell_type": "code",
   "execution_count": 65,
   "metadata": {},
   "outputs": [
    {
     "data": {
      "text/plain": [
       "1     1\n",
       "3     9\n",
       "5    25\n",
       "7    49\n",
       "dtype: int64"
      ]
     },
     "execution_count": 65,
     "metadata": {},
     "output_type": "execute_result"
    }
   ],
   "source": [
    "s1"
   ]
  },
  {
   "cell_type": "code",
   "execution_count": 66,
   "metadata": {},
   "outputs": [
    {
     "data": {
      "text/plain": [
       "1    1\n",
       "3    9\n",
       "dtype: int64"
      ]
     },
     "execution_count": 66,
     "metadata": {},
     "output_type": "execute_result"
    }
   ],
   "source": [
    "s1[[True, True, False, False]]"
   ]
  },
  {
   "cell_type": "markdown",
   "metadata": {},
   "source": [
    "### Universal fuctions (\"ufuncs\")"
   ]
  },
  {
   "cell_type": "markdown",
   "metadata": {},
   "source": [
    "Here's our `Series`:"
   ]
  },
  {
   "cell_type": "code",
   "execution_count": 67,
   "metadata": {},
   "outputs": [
    {
     "data": {
      "text/plain": [
       "A81002     70\n",
       "A81004    112\n",
       "A81005     28\n",
       "A81006     56\n",
       "A81007     56\n",
       "A81013     56\n",
       "A81016     28\n",
       "A81020     56\n",
       "A81023     28\n",
       "A81029    112\n",
       "dtype: int64"
      ]
     },
     "execution_count": 67,
     "metadata": {},
     "output_type": "execute_result"
    }
   ],
   "source": [
    "s"
   ]
  },
  {
   "cell_type": "markdown",
   "metadata": {},
   "source": [
    "Here's some magic: we can perform an operation on every item in the `Series` at once:"
   ]
  },
  {
   "cell_type": "code",
   "execution_count": 68,
   "metadata": {},
   "outputs": [
    {
     "data": {
      "text/plain": [
       "A81002    2.5\n",
       "A81004    4.0\n",
       "A81005    1.0\n",
       "A81006    2.0\n",
       "A81007    2.0\n",
       "A81013    2.0\n",
       "A81016    1.0\n",
       "A81020    2.0\n",
       "A81023    1.0\n",
       "A81029    4.0\n",
       "dtype: float64"
      ]
     },
     "execution_count": 68,
     "metadata": {},
     "output_type": "execute_result"
    }
   ],
   "source": [
    "s / 28"
   ]
  },
  {
   "cell_type": "code",
   "execution_count": 69,
   "metadata": {},
   "outputs": [
    {
     "data": {
      "text/plain": [
       "A81002     80\n",
       "A81004    122\n",
       "A81005     38\n",
       "A81006     66\n",
       "A81007     66\n",
       "A81013     66\n",
       "A81016     38\n",
       "A81020     66\n",
       "A81023     38\n",
       "A81029    122\n",
       "dtype: int64"
      ]
     },
     "execution_count": 69,
     "metadata": {},
     "output_type": "execute_result"
    }
   ],
   "source": [
    "s + 10"
   ]
  },
  {
   "cell_type": "code",
   "execution_count": 70,
   "metadata": {},
   "outputs": [
    {
     "data": {
      "text/plain": [
       "A81002     4900\n",
       "A81004    12544\n",
       "A81005      784\n",
       "A81006     3136\n",
       "A81007     3136\n",
       "A81013     3136\n",
       "A81016      784\n",
       "A81020     3136\n",
       "A81023      784\n",
       "A81029    12544\n",
       "dtype: int64"
      ]
     },
     "execution_count": 70,
     "metadata": {},
     "output_type": "execute_result"
    }
   ],
   "source": [
    "s * s"
   ]
  },
  {
   "cell_type": "code",
   "execution_count": 71,
   "metadata": {},
   "outputs": [
    {
     "data": {
      "text/plain": [
       "A81002    -70\n",
       "A81004   -112\n",
       "A81005    -28\n",
       "A81006    -56\n",
       "A81007    -56\n",
       "A81013    -56\n",
       "A81016    -28\n",
       "A81020    -56\n",
       "A81023    -28\n",
       "A81029   -112\n",
       "dtype: int64"
      ]
     },
     "execution_count": 71,
     "metadata": {},
     "output_type": "execute_result"
    }
   ],
   "source": [
    "-s"
   ]
  },
  {
   "cell_type": "code",
   "execution_count": 72,
   "metadata": {},
   "outputs": [
    {
     "data": {
      "text/plain": [
       "A81002     True\n",
       "A81004     True\n",
       "A81005    False\n",
       "A81006    False\n",
       "A81007    False\n",
       "A81013    False\n",
       "A81016    False\n",
       "A81020    False\n",
       "A81023    False\n",
       "A81029     True\n",
       "dtype: bool"
      ]
     },
     "execution_count": 72,
     "metadata": {},
     "output_type": "execute_result"
    }
   ],
   "source": [
    "s > 60"
   ]
  },
  {
   "cell_type": "markdown",
   "metadata": {},
   "source": [
    "Functions or operators that operate on a whole `Series` in one go are called \"universal functions\", and they come from numpy.  Read more about them [here](https://jakevdp.github.io/PythonDataScienceHandbook/02.03-computation-on-arrays-ufuncs.html)."
   ]
  },
  {
   "cell_type": "markdown",
   "metadata": {},
   "source": [
    "### Masking"
   ]
  },
  {
   "cell_type": "markdown",
   "metadata": {},
   "source": [
    "We saw how we could use a `list` of boolean values to filter a `Series`.  We can use the same principle to filter a `Series` by a condition."
   ]
  },
  {
   "cell_type": "code",
   "execution_count": 73,
   "metadata": {},
   "outputs": [
    {
     "data": {
      "text/plain": [
       "A81002     70\n",
       "A81004    112\n",
       "A81029    112\n",
       "dtype: int64"
      ]
     },
     "execution_count": 73,
     "metadata": {},
     "output_type": "execute_result"
    }
   ],
   "source": [
    "s[s > 60]"
   ]
  },
  {
   "cell_type": "code",
   "execution_count": 74,
   "metadata": {},
   "outputs": [
    {
     "data": {
      "text/plain": [
       "A81002    70\n",
       "dtype: int64"
      ]
     },
     "execution_count": 74,
     "metadata": {},
     "output_type": "execute_result"
    }
   ],
   "source": [
    "s[s == 70]"
   ]
  },
  {
   "cell_type": "code",
   "execution_count": 75,
   "metadata": {},
   "outputs": [
    {
     "data": {
      "text/plain": [
       "A81005    28\n",
       "A81016    28\n",
       "A81023    28\n",
       "dtype: int64"
      ]
     },
     "execution_count": 75,
     "metadata": {},
     "output_type": "execute_result"
    }
   ],
   "source": [
    "s[s < 30]"
   ]
  },
  {
   "cell_type": "markdown",
   "metadata": {},
   "source": [
    "This is called \"masking\".  Again, it comes from numpy, and you can read more [here](https://jakevdp.github.io/PythonDataScienceHandbook/02.06-boolean-arrays-and-masks.html)."
   ]
  },
  {
   "cell_type": "markdown",
   "metadata": {},
   "source": [
    "## `DataFrame`\n",
    "\n",
    "Now we can talk about Pandas' main data type: `DataFrame`.  A `DataFrame` behave a bit like a `list` of `list`s, or a `dict` of `dict`s.\n",
    "\n",
    "Here we have several `dict`s with data about the same ten practices.  We can create a `DataFrame` to combine this data.  Each row corresponds to a practice, and each column to the type of data."
   ]
  },
  {
   "cell_type": "code",
   "execution_count": 76,
   "metadata": {},
   "outputs": [
    {
     "data": {
      "text/html": [
       "<div>\n",
       "<style scoped>\n",
       "    .dataframe tbody tr th:only-of-type {\n",
       "        vertical-align: middle;\n",
       "    }\n",
       "\n",
       "    .dataframe tbody tr th {\n",
       "        vertical-align: top;\n",
       "    }\n",
       "\n",
       "    .dataframe thead th {\n",
       "        text-align: right;\n",
       "    }\n",
       "</style>\n",
       "<table border=\"1\" class=\"dataframe\">\n",
       "  <thead>\n",
       "    <tr style=\"text-align: right;\">\n",
       "      <th></th>\n",
       "      <th>name</th>\n",
       "      <th>quantity</th>\n",
       "      <th>cost</th>\n",
       "    </tr>\n",
       "  </thead>\n",
       "  <tbody>\n",
       "    <tr>\n",
       "      <th>A81002</th>\n",
       "      <td>Queens Park Medical Centre</td>\n",
       "      <td>70</td>\n",
       "      <td>15.00</td>\n",
       "    </tr>\n",
       "    <tr>\n",
       "      <th>A81004</th>\n",
       "      <td>Bluebell Medical Centre</td>\n",
       "      <td>112</td>\n",
       "      <td>56.96</td>\n",
       "    </tr>\n",
       "    <tr>\n",
       "      <th>A81005</th>\n",
       "      <td>Springwood Surgery</td>\n",
       "      <td>28</td>\n",
       "      <td>14.24</td>\n",
       "    </tr>\n",
       "    <tr>\n",
       "      <th>A81006</th>\n",
       "      <td>Tennant Street Medical Practice</td>\n",
       "      <td>56</td>\n",
       "      <td>28.48</td>\n",
       "    </tr>\n",
       "    <tr>\n",
       "      <th>A81007</th>\n",
       "      <td>Bankhouse Surgery</td>\n",
       "      <td>56</td>\n",
       "      <td>28.48</td>\n",
       "    </tr>\n",
       "    <tr>\n",
       "      <th>A81013</th>\n",
       "      <td>Brotton Surgery</td>\n",
       "      <td>56</td>\n",
       "      <td>28.47</td>\n",
       "    </tr>\n",
       "    <tr>\n",
       "      <th>A81016</th>\n",
       "      <td>Park Surgery</td>\n",
       "      <td>28</td>\n",
       "      <td>14.24</td>\n",
       "    </tr>\n",
       "    <tr>\n",
       "      <th>A81020</th>\n",
       "      <td>Martonside Medical Centre</td>\n",
       "      <td>56</td>\n",
       "      <td>28.48</td>\n",
       "    </tr>\n",
       "    <tr>\n",
       "      <th>A81023</th>\n",
       "      <td>The Endeavour Practice</td>\n",
       "      <td>28</td>\n",
       "      <td>14.24</td>\n",
       "    </tr>\n",
       "    <tr>\n",
       "      <th>A81029</th>\n",
       "      <td>Prospect Surgery</td>\n",
       "      <td>112</td>\n",
       "      <td>56.96</td>\n",
       "    </tr>\n",
       "  </tbody>\n",
       "</table>\n",
       "</div>"
      ],
      "text/plain": [
       "                                   name  quantity   cost\n",
       "A81002       Queens Park Medical Centre        70  15.00\n",
       "A81004          Bluebell Medical Centre       112  56.96\n",
       "A81005               Springwood Surgery        28  14.24\n",
       "A81006  Tennant Street Medical Practice        56  28.48\n",
       "A81007                Bankhouse Surgery        56  28.48\n",
       "A81013                  Brotton Surgery        56  28.47\n",
       "A81016                     Park Surgery        28  14.24\n",
       "A81020        Martonside Medical Centre        56  28.48\n",
       "A81023           The Endeavour Practice        28  14.24\n",
       "A81029                 Prospect Surgery       112  56.96"
      ]
     },
     "execution_count": 76,
     "metadata": {},
     "output_type": "execute_result"
    }
   ],
   "source": [
    "names = {\n",
    "    'A81002': 'Queens Park Medical Centre',\n",
    "    'A81004': 'Bluebell Medical Centre',\n",
    "    'A81005': 'Springwood Surgery',\n",
    "    'A81006': 'Tennant Street Medical Practice',\n",
    "    'A81007': 'Bankhouse Surgery',\n",
    "    'A81013': 'Brotton Surgery',\n",
    "    'A81016': 'Park Surgery',\n",
    "    'A81020': 'Martonside Medical Centre',\n",
    "    'A81023': 'The Endeavour Practice',\n",
    "    'A81029': 'Prospect Surgery',\n",
    "}\n",
    "\n",
    "quantities = {\n",
    "    'A81002': 70,\n",
    "    'A81004': 112,\n",
    "    'A81005': 28,\n",
    "    'A81006': 56,\n",
    "    'A81007': 56,\n",
    "    'A81013': 56,\n",
    "    'A81016': 28,\n",
    "    'A81020': 56,\n",
    "    'A81023': 28,\n",
    "    'A81029': 112,\n",
    "}\n",
    "\n",
    "costs = {\n",
    "    'A81002': 15,\n",
    "    'A81004': 56.96,\n",
    "    'A81005': 14.24,\n",
    "    'A81006': 28.48,\n",
    "    'A81007': 28.48,\n",
    "    'A81013': 28.47,\n",
    "    'A81016': 14.24,\n",
    "    'A81020': 28.48,\n",
    "    'A81023': 14.24,\n",
    "    'A81029': 56.96,\n",
    "}\n",
    "\n",
    "df = pd.DataFrame({'name': names, 'quantity': quantities, 'cost': costs}, columns=['name', 'quantity', 'cost'])\n",
    "\n",
    "df"
   ]
  },
  {
   "cell_type": "markdown",
   "metadata": {},
   "source": [
    "Again, we can check what type of thing it is:"
   ]
  },
  {
   "cell_type": "code",
   "execution_count": 77,
   "metadata": {},
   "outputs": [
    {
     "data": {
      "text/plain": [
       "pandas.core.frame.DataFrame"
      ]
     },
     "execution_count": 77,
     "metadata": {},
     "output_type": "execute_result"
    }
   ],
   "source": [
    "type(df)"
   ]
  },
  {
   "cell_type": "markdown",
   "metadata": {},
   "source": [
    "And we can see just the head:"
   ]
  },
  {
   "cell_type": "code",
   "execution_count": 78,
   "metadata": {},
   "outputs": [
    {
     "data": {
      "text/html": [
       "<div>\n",
       "<style scoped>\n",
       "    .dataframe tbody tr th:only-of-type {\n",
       "        vertical-align: middle;\n",
       "    }\n",
       "\n",
       "    .dataframe tbody tr th {\n",
       "        vertical-align: top;\n",
       "    }\n",
       "\n",
       "    .dataframe thead th {\n",
       "        text-align: right;\n",
       "    }\n",
       "</style>\n",
       "<table border=\"1\" class=\"dataframe\">\n",
       "  <thead>\n",
       "    <tr style=\"text-align: right;\">\n",
       "      <th></th>\n",
       "      <th>name</th>\n",
       "      <th>quantity</th>\n",
       "      <th>cost</th>\n",
       "    </tr>\n",
       "  </thead>\n",
       "  <tbody>\n",
       "    <tr>\n",
       "      <th>A81002</th>\n",
       "      <td>Queens Park Medical Centre</td>\n",
       "      <td>70</td>\n",
       "      <td>15.00</td>\n",
       "    </tr>\n",
       "    <tr>\n",
       "      <th>A81004</th>\n",
       "      <td>Bluebell Medical Centre</td>\n",
       "      <td>112</td>\n",
       "      <td>56.96</td>\n",
       "    </tr>\n",
       "    <tr>\n",
       "      <th>A81005</th>\n",
       "      <td>Springwood Surgery</td>\n",
       "      <td>28</td>\n",
       "      <td>14.24</td>\n",
       "    </tr>\n",
       "    <tr>\n",
       "      <th>A81006</th>\n",
       "      <td>Tennant Street Medical Practice</td>\n",
       "      <td>56</td>\n",
       "      <td>28.48</td>\n",
       "    </tr>\n",
       "    <tr>\n",
       "      <th>A81007</th>\n",
       "      <td>Bankhouse Surgery</td>\n",
       "      <td>56</td>\n",
       "      <td>28.48</td>\n",
       "    </tr>\n",
       "  </tbody>\n",
       "</table>\n",
       "</div>"
      ],
      "text/plain": [
       "                                   name  quantity   cost\n",
       "A81002       Queens Park Medical Centre        70  15.00\n",
       "A81004          Bluebell Medical Centre       112  56.96\n",
       "A81005               Springwood Surgery        28  14.24\n",
       "A81006  Tennant Street Medical Practice        56  28.48\n",
       "A81007                Bankhouse Surgery        56  28.48"
      ]
     },
     "execution_count": 78,
     "metadata": {},
     "output_type": "execute_result"
    }
   ],
   "source": [
    "df.head()"
   ]
  },
  {
   "cell_type": "markdown",
   "metadata": {},
   "source": [
    "The `.shape` attribute gives us some useful information about how many rows and columns the `DataFrame` has:"
   ]
  },
  {
   "cell_type": "code",
   "execution_count": 79,
   "metadata": {},
   "outputs": [
    {
     "data": {
      "text/plain": [
       "(10, 3)"
      ]
     },
     "execution_count": 79,
     "metadata": {},
     "output_type": "execute_result"
    }
   ],
   "source": [
    "df.shape"
   ]
  },
  {
   "cell_type": "markdown",
   "metadata": {},
   "source": [
    "And `.dtypes` tells us the `dtype` of each column:"
   ]
  },
  {
   "cell_type": "code",
   "execution_count": 80,
   "metadata": {},
   "outputs": [
    {
     "data": {
      "text/plain": [
       "name         object\n",
       "quantity      int64\n",
       "cost        float64\n",
       "dtype: object"
      ]
     },
     "execution_count": 80,
     "metadata": {},
     "output_type": "execute_result"
    }
   ],
   "source": [
    "df.dtypes"
   ]
  },
  {
   "cell_type": "markdown",
   "metadata": {},
   "source": [
    "### Indexing and slicing (and .loc() and .iloc())"
   ]
  },
  {
   "cell_type": "markdown",
   "metadata": {},
   "source": [
    "Like `Series`, `DataFrame` is a wrapper around a numpy object.  Specifically, it's a wrapper around an `array` of `array`s.  We can access this with `.values`:"
   ]
  },
  {
   "cell_type": "code",
   "execution_count": 81,
   "metadata": {},
   "outputs": [
    {
     "data": {
      "text/plain": [
       "array([['Queens Park Medical Centre', 70, 15.0],\n",
       "       ['Bluebell Medical Centre', 112, 56.96],\n",
       "       ['Springwood Surgery', 28, 14.24],\n",
       "       ['Tennant Street Medical Practice', 56, 28.48],\n",
       "       ['Bankhouse Surgery', 56, 28.48],\n",
       "       ['Brotton Surgery', 56, 28.47],\n",
       "       ['Park Surgery', 28, 14.24],\n",
       "       ['Martonside Medical Centre', 56, 28.48],\n",
       "       ['The Endeavour Practice', 28, 14.24],\n",
       "       ['Prospect Surgery', 112, 56.96]], dtype=object)"
      ]
     },
     "execution_count": 81,
     "metadata": {},
     "output_type": "execute_result"
    }
   ],
   "source": [
    "df.values"
   ]
  },
  {
   "cell_type": "markdown",
   "metadata": {},
   "source": [
    "Now you might think that because of this you can access the first row using by using square brackets and index `0`.  But:"
   ]
  },
  {
   "cell_type": "code",
   "execution_count": 82,
   "metadata": {},
   "outputs": [
    {
     "ename": "KeyError",
     "evalue": "0",
     "output_type": "error",
     "traceback": [
      "Traceback \u001b[0;36m(most recent call last)\u001b[0m:\n",
      "  File \u001b[1;32m\"<ipython-input-82-ad11118bc8f3>\"\u001b[0m, line \u001b[1;32m1\u001b[0m, in \u001b[1;35m<module>\u001b[0m\n    df[0]\n",
      "  File \u001b[1;32m\"/Users/inglesp/.pyenv/versions/3.6.4/envs/ebmdatalab-data-science/lib/python3.6/site-packages/pandas/core/frame.py\"\u001b[0m, line \u001b[1;32m2139\u001b[0m, in \u001b[1;35m__getitem__\u001b[0m\n    return self._getitem_column(key)\n",
      "  File \u001b[1;32m\"/Users/inglesp/.pyenv/versions/3.6.4/envs/ebmdatalab-data-science/lib/python3.6/site-packages/pandas/core/frame.py\"\u001b[0m, line \u001b[1;32m2146\u001b[0m, in \u001b[1;35m_getitem_column\u001b[0m\n    return self._get_item_cache(key)\n",
      "  File \u001b[1;32m\"/Users/inglesp/.pyenv/versions/3.6.4/envs/ebmdatalab-data-science/lib/python3.6/site-packages/pandas/core/generic.py\"\u001b[0m, line \u001b[1;32m1842\u001b[0m, in \u001b[1;35m_get_item_cache\u001b[0m\n    values = self._data.get(item)\n",
      "  File \u001b[1;32m\"/Users/inglesp/.pyenv/versions/3.6.4/envs/ebmdatalab-data-science/lib/python3.6/site-packages/pandas/core/internals.py\"\u001b[0m, line \u001b[1;32m3843\u001b[0m, in \u001b[1;35mget\u001b[0m\n    loc = self.items.get_loc(item)\n",
      "  File \u001b[1;32m\"/Users/inglesp/.pyenv/versions/3.6.4/envs/ebmdatalab-data-science/lib/python3.6/site-packages/pandas/core/indexes/base.py\"\u001b[0m, line \u001b[1;32m2527\u001b[0m, in \u001b[1;35mget_loc\u001b[0m\n    return self._engine.get_loc(self._maybe_cast_indexer(key))\n",
      "  File \u001b[1;32m\"pandas/_libs/index.pyx\"\u001b[0m, line \u001b[1;32m117\u001b[0m, in \u001b[1;35mpandas._libs.index.IndexEngine.get_loc\u001b[0m\n",
      "  File \u001b[1;32m\"pandas/_libs/index.pyx\"\u001b[0m, line \u001b[1;32m139\u001b[0m, in \u001b[1;35mpandas._libs.index.IndexEngine.get_loc\u001b[0m\n",
      "  File \u001b[1;32m\"pandas/_libs/hashtable_class_helper.pxi\"\u001b[0m, line \u001b[1;32m1265\u001b[0m, in \u001b[1;35mpandas._libs.hashtable.PyObjectHashTable.get_item\u001b[0m\n",
      "\u001b[0;36m  File \u001b[0;32m\"pandas/_libs/hashtable_class_helper.pxi\"\u001b[0;36m, line \u001b[0;32m1273\u001b[0;36m, in \u001b[0;35mpandas._libs.hashtable.PyObjectHashTable.get_item\u001b[0;36m\u001b[0m\n",
      "\u001b[0;31mKeyError\u001b[0m\u001b[0;31m:\u001b[0m 0\n"
     ]
    }
   ],
   "source": [
    "df[0]"
   ]
  },
  {
   "cell_type": "markdown",
   "metadata": {},
   "source": [
    "Intead, the square brackets let use access a column:"
   ]
  },
  {
   "cell_type": "code",
   "execution_count": 83,
   "metadata": {},
   "outputs": [
    {
     "data": {
      "text/plain": [
       "A81002         Queens Park Medical Centre\n",
       "A81004            Bluebell Medical Centre\n",
       "A81005                 Springwood Surgery\n",
       "A81006    Tennant Street Medical Practice\n",
       "A81007                  Bankhouse Surgery\n",
       "A81013                    Brotton Surgery\n",
       "A81016                       Park Surgery\n",
       "A81020          Martonside Medical Centre\n",
       "A81023             The Endeavour Practice\n",
       "A81029                   Prospect Surgery\n",
       "Name: name, dtype: object"
      ]
     },
     "execution_count": 83,
     "metadata": {},
     "output_type": "execute_result"
    }
   ],
   "source": [
    "df['name']"
   ]
  },
  {
   "cell_type": "markdown",
   "metadata": {},
   "source": [
    "What kind of thing is a column?"
   ]
  },
  {
   "cell_type": "code",
   "execution_count": 84,
   "metadata": {},
   "outputs": [
    {
     "data": {
      "text/plain": [
       "pandas.core.series.Series"
      ]
     },
     "execution_count": 84,
     "metadata": {},
     "output_type": "execute_result"
    }
   ],
   "source": [
    "type(df['name'])"
   ]
  },
  {
   "cell_type": "code",
   "execution_count": 85,
   "metadata": {},
   "outputs": [
    {
     "data": {
      "text/plain": [
       "'Queens Park Medical Centre'"
      ]
     },
     "execution_count": 85,
     "metadata": {},
     "output_type": "execute_result"
    }
   ],
   "source": [
    "df['name']['A81002']"
   ]
  },
  {
   "cell_type": "code",
   "execution_count": 86,
   "metadata": {},
   "outputs": [
    {
     "data": {
      "text/plain": [
       "'Queens Park Medical Centre'"
      ]
     },
     "execution_count": 86,
     "metadata": {},
     "output_type": "execute_result"
    }
   ],
   "source": [
    "df['name'][0]"
   ]
  },
  {
   "cell_type": "markdown",
   "metadata": {},
   "source": [
    "We can also access columns by attribute lookup (but again, this is generally not a good idea):"
   ]
  },
  {
   "cell_type": "code",
   "execution_count": 87,
   "metadata": {},
   "outputs": [
    {
     "data": {
      "text/plain": [
       "A81002         Queens Park Medical Centre\n",
       "A81004            Bluebell Medical Centre\n",
       "A81005                 Springwood Surgery\n",
       "A81006    Tennant Street Medical Practice\n",
       "A81007                  Bankhouse Surgery\n",
       "A81013                    Brotton Surgery\n",
       "A81016                       Park Surgery\n",
       "A81020          Martonside Medical Centre\n",
       "A81023             The Endeavour Practice\n",
       "A81029                   Prospect Surgery\n",
       "Name: name, dtype: object"
      ]
     },
     "execution_count": 87,
     "metadata": {},
     "output_type": "execute_result"
    }
   ],
   "source": [
    "df.name"
   ]
  },
  {
   "cell_type": "markdown",
   "metadata": {},
   "source": [
    "We can look up multiple columns at once:"
   ]
  },
  {
   "cell_type": "code",
   "execution_count": 88,
   "metadata": {},
   "outputs": [
    {
     "data": {
      "text/html": [
       "<div>\n",
       "<style scoped>\n",
       "    .dataframe tbody tr th:only-of-type {\n",
       "        vertical-align: middle;\n",
       "    }\n",
       "\n",
       "    .dataframe tbody tr th {\n",
       "        vertical-align: top;\n",
       "    }\n",
       "\n",
       "    .dataframe thead th {\n",
       "        text-align: right;\n",
       "    }\n",
       "</style>\n",
       "<table border=\"1\" class=\"dataframe\">\n",
       "  <thead>\n",
       "    <tr style=\"text-align: right;\">\n",
       "      <th></th>\n",
       "      <th>name</th>\n",
       "      <th>quantity</th>\n",
       "    </tr>\n",
       "  </thead>\n",
       "  <tbody>\n",
       "    <tr>\n",
       "      <th>A81002</th>\n",
       "      <td>Queens Park Medical Centre</td>\n",
       "      <td>70</td>\n",
       "    </tr>\n",
       "    <tr>\n",
       "      <th>A81004</th>\n",
       "      <td>Bluebell Medical Centre</td>\n",
       "      <td>112</td>\n",
       "    </tr>\n",
       "    <tr>\n",
       "      <th>A81005</th>\n",
       "      <td>Springwood Surgery</td>\n",
       "      <td>28</td>\n",
       "    </tr>\n",
       "    <tr>\n",
       "      <th>A81006</th>\n",
       "      <td>Tennant Street Medical Practice</td>\n",
       "      <td>56</td>\n",
       "    </tr>\n",
       "    <tr>\n",
       "      <th>A81007</th>\n",
       "      <td>Bankhouse Surgery</td>\n",
       "      <td>56</td>\n",
       "    </tr>\n",
       "    <tr>\n",
       "      <th>A81013</th>\n",
       "      <td>Brotton Surgery</td>\n",
       "      <td>56</td>\n",
       "    </tr>\n",
       "    <tr>\n",
       "      <th>A81016</th>\n",
       "      <td>Park Surgery</td>\n",
       "      <td>28</td>\n",
       "    </tr>\n",
       "    <tr>\n",
       "      <th>A81020</th>\n",
       "      <td>Martonside Medical Centre</td>\n",
       "      <td>56</td>\n",
       "    </tr>\n",
       "    <tr>\n",
       "      <th>A81023</th>\n",
       "      <td>The Endeavour Practice</td>\n",
       "      <td>28</td>\n",
       "    </tr>\n",
       "    <tr>\n",
       "      <th>A81029</th>\n",
       "      <td>Prospect Surgery</td>\n",
       "      <td>112</td>\n",
       "    </tr>\n",
       "  </tbody>\n",
       "</table>\n",
       "</div>"
      ],
      "text/plain": [
       "                                   name  quantity\n",
       "A81002       Queens Park Medical Centre        70\n",
       "A81004          Bluebell Medical Centre       112\n",
       "A81005               Springwood Surgery        28\n",
       "A81006  Tennant Street Medical Practice        56\n",
       "A81007                Bankhouse Surgery        56\n",
       "A81013                  Brotton Surgery        56\n",
       "A81016                     Park Surgery        28\n",
       "A81020        Martonside Medical Centre        56\n",
       "A81023           The Endeavour Practice        28\n",
       "A81029                 Prospect Surgery       112"
      ]
     },
     "execution_count": 88,
     "metadata": {},
     "output_type": "execute_result"
    }
   ],
   "source": [
    "df[['name', 'quantity']]"
   ]
  },
  {
   "cell_type": "code",
   "execution_count": 89,
   "metadata": {},
   "outputs": [
    {
     "data": {
      "text/plain": [
       "pandas.core.frame.DataFrame"
      ]
     },
     "execution_count": 89,
     "metadata": {},
     "output_type": "execute_result"
    }
   ],
   "source": [
    "type(df[['name', 'quantity']])"
   ]
  },
  {
   "cell_type": "markdown",
   "metadata": {},
   "source": [
    "If we want to access a row, we have to use `.loc()` to access rows by key:"
   ]
  },
  {
   "cell_type": "code",
   "execution_count": 90,
   "metadata": {},
   "outputs": [
    {
     "data": {
      "text/plain": [
       "name        Queens Park Medical Centre\n",
       "quantity                            70\n",
       "cost                                15\n",
       "Name: A81002, dtype: object"
      ]
     },
     "execution_count": 90,
     "metadata": {},
     "output_type": "execute_result"
    }
   ],
   "source": [
    "df.loc['A81002']"
   ]
  },
  {
   "cell_type": "code",
   "execution_count": 91,
   "metadata": {},
   "outputs": [
    {
     "data": {
      "text/plain": [
       "pandas.core.series.Series"
      ]
     },
     "execution_count": 91,
     "metadata": {},
     "output_type": "execute_result"
    }
   ],
   "source": [
    "type(df.loc['A81002'])"
   ]
  },
  {
   "cell_type": "markdown",
   "metadata": {},
   "source": [
    "We can use a slice with `.loc()`:"
   ]
  },
  {
   "cell_type": "code",
   "execution_count": 92,
   "metadata": {},
   "outputs": [
    {
     "data": {
      "text/html": [
       "<div>\n",
       "<style scoped>\n",
       "    .dataframe tbody tr th:only-of-type {\n",
       "        vertical-align: middle;\n",
       "    }\n",
       "\n",
       "    .dataframe tbody tr th {\n",
       "        vertical-align: top;\n",
       "    }\n",
       "\n",
       "    .dataframe thead th {\n",
       "        text-align: right;\n",
       "    }\n",
       "</style>\n",
       "<table border=\"1\" class=\"dataframe\">\n",
       "  <thead>\n",
       "    <tr style=\"text-align: right;\">\n",
       "      <th></th>\n",
       "      <th>name</th>\n",
       "      <th>quantity</th>\n",
       "      <th>cost</th>\n",
       "    </tr>\n",
       "  </thead>\n",
       "  <tbody>\n",
       "    <tr>\n",
       "      <th>A81005</th>\n",
       "      <td>Springwood Surgery</td>\n",
       "      <td>28</td>\n",
       "      <td>14.24</td>\n",
       "    </tr>\n",
       "    <tr>\n",
       "      <th>A81006</th>\n",
       "      <td>Tennant Street Medical Practice</td>\n",
       "      <td>56</td>\n",
       "      <td>28.48</td>\n",
       "    </tr>\n",
       "    <tr>\n",
       "      <th>A81007</th>\n",
       "      <td>Bankhouse Surgery</td>\n",
       "      <td>56</td>\n",
       "      <td>28.48</td>\n",
       "    </tr>\n",
       "    <tr>\n",
       "      <th>A81013</th>\n",
       "      <td>Brotton Surgery</td>\n",
       "      <td>56</td>\n",
       "      <td>28.47</td>\n",
       "    </tr>\n",
       "  </tbody>\n",
       "</table>\n",
       "</div>"
      ],
      "text/plain": [
       "                                   name  quantity   cost\n",
       "A81005               Springwood Surgery        28  14.24\n",
       "A81006  Tennant Street Medical Practice        56  28.48\n",
       "A81007                Bankhouse Surgery        56  28.48\n",
       "A81013                  Brotton Surgery        56  28.47"
      ]
     },
     "execution_count": 92,
     "metadata": {},
     "output_type": "execute_result"
    }
   ],
   "source": [
    "df.loc['A81005':'A81013']"
   ]
  },
  {
   "cell_type": "markdown",
   "metadata": {},
   "source": [
    "And we can use `iloc()` to access rows by position:"
   ]
  },
  {
   "cell_type": "code",
   "execution_count": 93,
   "metadata": {},
   "outputs": [
    {
     "data": {
      "text/plain": [
       "name        Queens Park Medical Centre\n",
       "quantity                            70\n",
       "cost                                15\n",
       "Name: A81002, dtype: object"
      ]
     },
     "execution_count": 93,
     "metadata": {},
     "output_type": "execute_result"
    }
   ],
   "source": [
    "df.iloc[0]"
   ]
  },
  {
   "cell_type": "markdown",
   "metadata": {},
   "source": [
    "If we want a slice of a `DataFrame`, we don't need to use `.loc()` or `.iloc()` (but `.iloc()` is more explicit):"
   ]
  },
  {
   "cell_type": "code",
   "execution_count": 94,
   "metadata": {},
   "outputs": [
    {
     "data": {
      "text/html": [
       "<div>\n",
       "<style scoped>\n",
       "    .dataframe tbody tr th:only-of-type {\n",
       "        vertical-align: middle;\n",
       "    }\n",
       "\n",
       "    .dataframe tbody tr th {\n",
       "        vertical-align: top;\n",
       "    }\n",
       "\n",
       "    .dataframe thead th {\n",
       "        text-align: right;\n",
       "    }\n",
       "</style>\n",
       "<table border=\"1\" class=\"dataframe\">\n",
       "  <thead>\n",
       "    <tr style=\"text-align: right;\">\n",
       "      <th></th>\n",
       "      <th>name</th>\n",
       "      <th>quantity</th>\n",
       "      <th>cost</th>\n",
       "    </tr>\n",
       "  </thead>\n",
       "  <tbody>\n",
       "    <tr>\n",
       "      <th>A81002</th>\n",
       "      <td>Queens Park Medical Centre</td>\n",
       "      <td>70</td>\n",
       "      <td>15.00</td>\n",
       "    </tr>\n",
       "    <tr>\n",
       "      <th>A81004</th>\n",
       "      <td>Bluebell Medical Centre</td>\n",
       "      <td>112</td>\n",
       "      <td>56.96</td>\n",
       "    </tr>\n",
       "    <tr>\n",
       "      <th>A81005</th>\n",
       "      <td>Springwood Surgery</td>\n",
       "      <td>28</td>\n",
       "      <td>14.24</td>\n",
       "    </tr>\n",
       "    <tr>\n",
       "      <th>A81006</th>\n",
       "      <td>Tennant Street Medical Practice</td>\n",
       "      <td>56</td>\n",
       "      <td>28.48</td>\n",
       "    </tr>\n",
       "    <tr>\n",
       "      <th>A81007</th>\n",
       "      <td>Bankhouse Surgery</td>\n",
       "      <td>56</td>\n",
       "      <td>28.48</td>\n",
       "    </tr>\n",
       "  </tbody>\n",
       "</table>\n",
       "</div>"
      ],
      "text/plain": [
       "                                   name  quantity   cost\n",
       "A81002       Queens Park Medical Centre        70  15.00\n",
       "A81004          Bluebell Medical Centre       112  56.96\n",
       "A81005               Springwood Surgery        28  14.24\n",
       "A81006  Tennant Street Medical Practice        56  28.48\n",
       "A81007                Bankhouse Surgery        56  28.48"
      ]
     },
     "execution_count": 94,
     "metadata": {},
     "output_type": "execute_result"
    }
   ],
   "source": [
    "df[0:5]"
   ]
  },
  {
   "cell_type": "markdown",
   "metadata": {},
   "source": [
    "As with `Series`, we can filter a `DataFrame` by indexing with a `list` of boolean values:"
   ]
  },
  {
   "cell_type": "code",
   "execution_count": 95,
   "metadata": {},
   "outputs": [
    {
     "data": {
      "text/html": [
       "<div>\n",
       "<style scoped>\n",
       "    .dataframe tbody tr th:only-of-type {\n",
       "        vertical-align: middle;\n",
       "    }\n",
       "\n",
       "    .dataframe tbody tr th {\n",
       "        vertical-align: top;\n",
       "    }\n",
       "\n",
       "    .dataframe thead th {\n",
       "        text-align: right;\n",
       "    }\n",
       "</style>\n",
       "<table border=\"1\" class=\"dataframe\">\n",
       "  <thead>\n",
       "    <tr style=\"text-align: right;\">\n",
       "      <th></th>\n",
       "      <th>name</th>\n",
       "      <th>quantity</th>\n",
       "      <th>cost</th>\n",
       "    </tr>\n",
       "  </thead>\n",
       "  <tbody>\n",
       "    <tr>\n",
       "      <th>A81002</th>\n",
       "      <td>Queens Park Medical Centre</td>\n",
       "      <td>70</td>\n",
       "      <td>15.00</td>\n",
       "    </tr>\n",
       "    <tr>\n",
       "      <th>A81005</th>\n",
       "      <td>Springwood Surgery</td>\n",
       "      <td>28</td>\n",
       "      <td>14.24</td>\n",
       "    </tr>\n",
       "    <tr>\n",
       "      <th>A81007</th>\n",
       "      <td>Bankhouse Surgery</td>\n",
       "      <td>56</td>\n",
       "      <td>28.48</td>\n",
       "    </tr>\n",
       "    <tr>\n",
       "      <th>A81016</th>\n",
       "      <td>Park Surgery</td>\n",
       "      <td>28</td>\n",
       "      <td>14.24</td>\n",
       "    </tr>\n",
       "    <tr>\n",
       "      <th>A81023</th>\n",
       "      <td>The Endeavour Practice</td>\n",
       "      <td>28</td>\n",
       "      <td>14.24</td>\n",
       "    </tr>\n",
       "  </tbody>\n",
       "</table>\n",
       "</div>"
      ],
      "text/plain": [
       "                              name  quantity   cost\n",
       "A81002  Queens Park Medical Centre        70  15.00\n",
       "A81005          Springwood Surgery        28  14.24\n",
       "A81007           Bankhouse Surgery        56  28.48\n",
       "A81016                Park Surgery        28  14.24\n",
       "A81023      The Endeavour Practice        28  14.24"
      ]
     },
     "execution_count": 95,
     "metadata": {},
     "output_type": "execute_result"
    }
   ],
   "source": [
    "df[[True, False, True, False, True, False, True, False, True, False]]"
   ]
  },
  {
   "cell_type": "markdown",
   "metadata": {},
   "source": [
    "### Ufuncs"
   ]
  },
  {
   "cell_type": "markdown",
   "metadata": {},
   "source": [
    "As `DataFrame` columns are `Series` objects, we can use ufuncs:"
   ]
  },
  {
   "cell_type": "code",
   "execution_count": 96,
   "metadata": {},
   "outputs": [
    {
     "data": {
      "text/plain": [
       "A81002    0.214286\n",
       "A81004    0.508571\n",
       "A81005    0.508571\n",
       "A81006    0.508571\n",
       "A81007    0.508571\n",
       "A81013    0.508393\n",
       "A81016    0.508571\n",
       "A81020    0.508571\n",
       "A81023    0.508571\n",
       "A81029    0.508571\n",
       "dtype: float64"
      ]
     },
     "execution_count": 96,
     "metadata": {},
     "output_type": "execute_result"
    }
   ],
   "source": [
    "df['cost'] / df['quantity']"
   ]
  },
  {
   "cell_type": "code",
   "execution_count": 97,
   "metadata": {},
   "outputs": [
    {
     "data": {
      "text/plain": [
       "pandas.core.series.Series"
      ]
     },
     "execution_count": 97,
     "metadata": {},
     "output_type": "execute_result"
    }
   ],
   "source": [
    "type(df['cost'] / df['quantity'])"
   ]
  },
  {
   "cell_type": "markdown",
   "metadata": {},
   "source": [
    "It is common to assign the result of a ufunc to a new column in a `DataFrame`:"
   ]
  },
  {
   "cell_type": "code",
   "execution_count": 98,
   "metadata": {},
   "outputs": [],
   "source": [
    "df['unit cost'] = df['cost'] / df['quantity']"
   ]
  },
  {
   "cell_type": "code",
   "execution_count": 99,
   "metadata": {},
   "outputs": [
    {
     "data": {
      "text/html": [
       "<div>\n",
       "<style scoped>\n",
       "    .dataframe tbody tr th:only-of-type {\n",
       "        vertical-align: middle;\n",
       "    }\n",
       "\n",
       "    .dataframe tbody tr th {\n",
       "        vertical-align: top;\n",
       "    }\n",
       "\n",
       "    .dataframe thead th {\n",
       "        text-align: right;\n",
       "    }\n",
       "</style>\n",
       "<table border=\"1\" class=\"dataframe\">\n",
       "  <thead>\n",
       "    <tr style=\"text-align: right;\">\n",
       "      <th></th>\n",
       "      <th>name</th>\n",
       "      <th>quantity</th>\n",
       "      <th>cost</th>\n",
       "      <th>unit cost</th>\n",
       "    </tr>\n",
       "  </thead>\n",
       "  <tbody>\n",
       "    <tr>\n",
       "      <th>A81002</th>\n",
       "      <td>Queens Park Medical Centre</td>\n",
       "      <td>70</td>\n",
       "      <td>15.00</td>\n",
       "      <td>0.214286</td>\n",
       "    </tr>\n",
       "    <tr>\n",
       "      <th>A81004</th>\n",
       "      <td>Bluebell Medical Centre</td>\n",
       "      <td>112</td>\n",
       "      <td>56.96</td>\n",
       "      <td>0.508571</td>\n",
       "    </tr>\n",
       "    <tr>\n",
       "      <th>A81005</th>\n",
       "      <td>Springwood Surgery</td>\n",
       "      <td>28</td>\n",
       "      <td>14.24</td>\n",
       "      <td>0.508571</td>\n",
       "    </tr>\n",
       "    <tr>\n",
       "      <th>A81006</th>\n",
       "      <td>Tennant Street Medical Practice</td>\n",
       "      <td>56</td>\n",
       "      <td>28.48</td>\n",
       "      <td>0.508571</td>\n",
       "    </tr>\n",
       "    <tr>\n",
       "      <th>A81007</th>\n",
       "      <td>Bankhouse Surgery</td>\n",
       "      <td>56</td>\n",
       "      <td>28.48</td>\n",
       "      <td>0.508571</td>\n",
       "    </tr>\n",
       "    <tr>\n",
       "      <th>A81013</th>\n",
       "      <td>Brotton Surgery</td>\n",
       "      <td>56</td>\n",
       "      <td>28.47</td>\n",
       "      <td>0.508393</td>\n",
       "    </tr>\n",
       "    <tr>\n",
       "      <th>A81016</th>\n",
       "      <td>Park Surgery</td>\n",
       "      <td>28</td>\n",
       "      <td>14.24</td>\n",
       "      <td>0.508571</td>\n",
       "    </tr>\n",
       "    <tr>\n",
       "      <th>A81020</th>\n",
       "      <td>Martonside Medical Centre</td>\n",
       "      <td>56</td>\n",
       "      <td>28.48</td>\n",
       "      <td>0.508571</td>\n",
       "    </tr>\n",
       "    <tr>\n",
       "      <th>A81023</th>\n",
       "      <td>The Endeavour Practice</td>\n",
       "      <td>28</td>\n",
       "      <td>14.24</td>\n",
       "      <td>0.508571</td>\n",
       "    </tr>\n",
       "    <tr>\n",
       "      <th>A81029</th>\n",
       "      <td>Prospect Surgery</td>\n",
       "      <td>112</td>\n",
       "      <td>56.96</td>\n",
       "      <td>0.508571</td>\n",
       "    </tr>\n",
       "  </tbody>\n",
       "</table>\n",
       "</div>"
      ],
      "text/plain": [
       "                                   name  quantity   cost  unit cost\n",
       "A81002       Queens Park Medical Centre        70  15.00   0.214286\n",
       "A81004          Bluebell Medical Centre       112  56.96   0.508571\n",
       "A81005               Springwood Surgery        28  14.24   0.508571\n",
       "A81006  Tennant Street Medical Practice        56  28.48   0.508571\n",
       "A81007                Bankhouse Surgery        56  28.48   0.508571\n",
       "A81013                  Brotton Surgery        56  28.47   0.508393\n",
       "A81016                     Park Surgery        28  14.24   0.508571\n",
       "A81020        Martonside Medical Centre        56  28.48   0.508571\n",
       "A81023           The Endeavour Practice        28  14.24   0.508571\n",
       "A81029                 Prospect Surgery       112  56.96   0.508571"
      ]
     },
     "execution_count": 99,
     "metadata": {},
     "output_type": "execute_result"
    }
   ],
   "source": [
    "df"
   ]
  },
  {
   "cell_type": "markdown",
   "metadata": {},
   "source": [
    "### Masking"
   ]
  },
  {
   "cell_type": "markdown",
   "metadata": {},
   "source": [
    "Masking works in much the same way as with `Series`:"
   ]
  },
  {
   "cell_type": "code",
   "execution_count": 100,
   "metadata": {
    "scrolled": true
   },
   "outputs": [
    {
     "data": {
      "text/plain": [
       "A81002     True\n",
       "A81004     True\n",
       "A81005    False\n",
       "A81006    False\n",
       "A81007    False\n",
       "A81013    False\n",
       "A81016    False\n",
       "A81020    False\n",
       "A81023    False\n",
       "A81029     True\n",
       "Name: quantity, dtype: bool"
      ]
     },
     "execution_count": 100,
     "metadata": {},
     "output_type": "execute_result"
    }
   ],
   "source": [
    "df['quantity'] > 60"
   ]
  },
  {
   "cell_type": "code",
   "execution_count": 101,
   "metadata": {
    "scrolled": true
   },
   "outputs": [
    {
     "data": {
      "text/html": [
       "<div>\n",
       "<style scoped>\n",
       "    .dataframe tbody tr th:only-of-type {\n",
       "        vertical-align: middle;\n",
       "    }\n",
       "\n",
       "    .dataframe tbody tr th {\n",
       "        vertical-align: top;\n",
       "    }\n",
       "\n",
       "    .dataframe thead th {\n",
       "        text-align: right;\n",
       "    }\n",
       "</style>\n",
       "<table border=\"1\" class=\"dataframe\">\n",
       "  <thead>\n",
       "    <tr style=\"text-align: right;\">\n",
       "      <th></th>\n",
       "      <th>name</th>\n",
       "      <th>quantity</th>\n",
       "      <th>cost</th>\n",
       "      <th>unit cost</th>\n",
       "    </tr>\n",
       "  </thead>\n",
       "  <tbody>\n",
       "    <tr>\n",
       "      <th>A81002</th>\n",
       "      <td>Queens Park Medical Centre</td>\n",
       "      <td>70</td>\n",
       "      <td>15.00</td>\n",
       "      <td>0.214286</td>\n",
       "    </tr>\n",
       "    <tr>\n",
       "      <th>A81004</th>\n",
       "      <td>Bluebell Medical Centre</td>\n",
       "      <td>112</td>\n",
       "      <td>56.96</td>\n",
       "      <td>0.508571</td>\n",
       "    </tr>\n",
       "    <tr>\n",
       "      <th>A81029</th>\n",
       "      <td>Prospect Surgery</td>\n",
       "      <td>112</td>\n",
       "      <td>56.96</td>\n",
       "      <td>0.508571</td>\n",
       "    </tr>\n",
       "  </tbody>\n",
       "</table>\n",
       "</div>"
      ],
      "text/plain": [
       "                              name  quantity   cost  unit cost\n",
       "A81002  Queens Park Medical Centre        70  15.00   0.214286\n",
       "A81004     Bluebell Medical Centre       112  56.96   0.508571\n",
       "A81029            Prospect Surgery       112  56.96   0.508571"
      ]
     },
     "execution_count": 101,
     "metadata": {},
     "output_type": "execute_result"
    }
   ],
   "source": [
    "df[df['quantity'] > 60]"
   ]
  },
  {
   "cell_type": "markdown",
   "metadata": {},
   "source": [
    "The expression used to do the masking can be arbitrarily complicated:"
   ]
  },
  {
   "cell_type": "code",
   "execution_count": 102,
   "metadata": {},
   "outputs": [
    {
     "data": {
      "text/html": [
       "<div>\n",
       "<style scoped>\n",
       "    .dataframe tbody tr th:only-of-type {\n",
       "        vertical-align: middle;\n",
       "    }\n",
       "\n",
       "    .dataframe tbody tr th {\n",
       "        vertical-align: top;\n",
       "    }\n",
       "\n",
       "    .dataframe thead th {\n",
       "        text-align: right;\n",
       "    }\n",
       "</style>\n",
       "<table border=\"1\" class=\"dataframe\">\n",
       "  <thead>\n",
       "    <tr style=\"text-align: right;\">\n",
       "      <th></th>\n",
       "      <th>name</th>\n",
       "      <th>quantity</th>\n",
       "      <th>cost</th>\n",
       "      <th>unit cost</th>\n",
       "    </tr>\n",
       "  </thead>\n",
       "  <tbody>\n",
       "    <tr>\n",
       "      <th>A81002</th>\n",
       "      <td>Queens Park Medical Centre</td>\n",
       "      <td>70</td>\n",
       "      <td>15.0</td>\n",
       "      <td>0.214286</td>\n",
       "    </tr>\n",
       "  </tbody>\n",
       "</table>\n",
       "</div>"
      ],
      "text/plain": [
       "                              name  quantity  cost  unit cost\n",
       "A81002  Queens Park Medical Centre        70  15.0   0.214286"
      ]
     },
     "execution_count": 102,
     "metadata": {},
     "output_type": "execute_result"
    }
   ],
   "source": [
    "df[(df['cost'] / df['quantity']) < 0.3]"
   ]
  },
  {
   "cell_type": "markdown",
   "metadata": {},
   "source": [
    "But it's probably better (for readability) to assign some or all of the expression to a variable:"
   ]
  },
  {
   "cell_type": "code",
   "execution_count": 103,
   "metadata": {},
   "outputs": [
    {
     "data": {
      "text/html": [
       "<div>\n",
       "<style scoped>\n",
       "    .dataframe tbody tr th:only-of-type {\n",
       "        vertical-align: middle;\n",
       "    }\n",
       "\n",
       "    .dataframe tbody tr th {\n",
       "        vertical-align: top;\n",
       "    }\n",
       "\n",
       "    .dataframe thead th {\n",
       "        text-align: right;\n",
       "    }\n",
       "</style>\n",
       "<table border=\"1\" class=\"dataframe\">\n",
       "  <thead>\n",
       "    <tr style=\"text-align: right;\">\n",
       "      <th></th>\n",
       "      <th>name</th>\n",
       "      <th>quantity</th>\n",
       "      <th>cost</th>\n",
       "      <th>unit cost</th>\n",
       "    </tr>\n",
       "  </thead>\n",
       "  <tbody>\n",
       "    <tr>\n",
       "      <th>A81002</th>\n",
       "      <td>Queens Park Medical Centre</td>\n",
       "      <td>70</td>\n",
       "      <td>15.0</td>\n",
       "      <td>0.214286</td>\n",
       "    </tr>\n",
       "  </tbody>\n",
       "</table>\n",
       "</div>"
      ],
      "text/plain": [
       "                              name  quantity  cost  unit cost\n",
       "A81002  Queens Park Medical Centre        70  15.0   0.214286"
      ]
     },
     "execution_count": 103,
     "metadata": {},
     "output_type": "execute_result"
    }
   ],
   "source": [
    "unit_cost = df['cost'] / df['quantity']\n",
    "df[unit_cost < 0.3]"
   ]
  },
  {
   "cell_type": "markdown",
   "metadata": {},
   "source": [
    "## The Zen of Python"
   ]
  },
  {
   "cell_type": "code",
   "execution_count": 104,
   "metadata": {},
   "outputs": [
    {
     "name": "stdout",
     "output_type": "stream",
     "text": [
      "The Zen of Python, by Tim Peters\n",
      "\n",
      "Beautiful is better than ugly.\n",
      "Explicit is better than implicit.\n",
      "Simple is better than complex.\n",
      "Complex is better than complicated.\n",
      "Flat is better than nested.\n",
      "Sparse is better than dense.\n",
      "Readability counts.\n",
      "Special cases aren't special enough to break the rules.\n",
      "Although practicality beats purity.\n",
      "Errors should never pass silently.\n",
      "Unless explicitly silenced.\n",
      "In the face of ambiguity, refuse the temptation to guess.\n",
      "There should be one-- and preferably only one --obvious way to do it.\n",
      "Although that way may not be obvious at first unless you're Dutch.\n",
      "Now is better than never.\n",
      "Although never is often better than *right* now.\n",
      "If the implementation is hard to explain, it's a bad idea.\n",
      "If the implementation is easy to explain, it may be a good idea.\n",
      "Namespaces are one honking great idea -- let's do more of those!\n"
     ]
    }
   ],
   "source": [
    "import this"
   ]
  },
  {
   "cell_type": "code",
   "execution_count": null,
   "metadata": {},
   "outputs": [],
   "source": []
  }
 ],
 "metadata": {
  "kernelspec": {
   "display_name": "Python 3",
   "language": "python",
   "name": "python3"
  },
  "language_info": {
   "codemirror_mode": {
    "name": "ipython",
    "version": 3
   },
   "file_extension": ".py",
   "mimetype": "text/x-python",
   "name": "python",
   "nbconvert_exporter": "python",
   "pygments_lexer": "ipython3",
   "version": "3.6.4"
  }
 },
 "nbformat": 4,
 "nbformat_minor": 2
}
