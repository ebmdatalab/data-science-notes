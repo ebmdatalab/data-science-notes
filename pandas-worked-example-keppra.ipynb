{
 "cells": [
  {
   "cell_type": "markdown",
   "metadata": {},
   "source": [
    "## Pandas worked example: computing measure percentiles"
   ]
  },
  {
   "cell_type": "markdown",
   "metadata": {},
   "source": [
    "In this worked example we recreate some of the analysis for the [Keppra](https://openprescribing.net/measure/keppra/) measure.\n",
    "\n",
    "Specifically, we're going to take the practice-level prescribing data for Levetiracetam one month from BigQuery, and rank the CCGs by the ratio of Keppra vs Levetiracetam.\n",
    "\n",
    "Along the way, we'll talk about breaking up a big problem into smaller chunks, and we'll look at [grouping](http://nbviewer.jupyter.org/github/jakevdp/PythonDataScienceHandbook/blob/master/notebooks/03.08-Aggregation-and-Grouping.ipynb), [working with strings in Pandas](http://nbviewer.jupyter.org/github/jakevdp/PythonDataScienceHandbook/blob/master/notebooks/03.10-Working-With-Strings.ipynb), and [handling missing values](http://nbviewer.jupyter.org/github/jakevdp/PythonDataScienceHandbook/blob/master/notebooks/03.04-Missing-Values.ipynb)."
   ]
  },
  {
   "cell_type": "markdown",
   "metadata": {},
   "source": [
    "### Setup"
   ]
  },
  {
   "cell_type": "code",
   "execution_count": 1,
   "metadata": {},
   "outputs": [
    {
     "name": "stdout",
     "output_type": "stream",
     "text": [
      "Exception reporting mode: Plain\n"
     ]
    }
   ],
   "source": [
    "%xmode Plain"
   ]
  },
  {
   "cell_type": "markdown",
   "metadata": {},
   "source": [
    "To run this code, you will need `pandas` and `pandas-gbq` installed, and when you first run `pd.read_gbq()` you will need to authorise Pandas to access our BigQuery project."
   ]
  },
  {
   "cell_type": "code",
   "execution_count": 2,
   "metadata": {},
   "outputs": [],
   "source": [
    "import pandas as pd"
   ]
  },
  {
   "cell_type": "markdown",
   "metadata": {},
   "source": [
    "### Getting the data"
   ]
  },
  {
   "cell_type": "code",
   "execution_count": 3,
   "metadata": {},
   "outputs": [],
   "source": [
    "sql = '''\n",
    "SELECT\n",
    "  ccgs.code AS ccg,\n",
    "  ccgs.name AS ccg_name,\n",
    "  practices.code AS practice,\n",
    "  practices.name AS practice_name,\n",
    "  bnf_code,\n",
    "  bnf_name,\n",
    "  items\n",
    "FROM\n",
    "  hscic.normalised_prescribing_standard AS prescriptions\n",
    "INNER JOIN\n",
    "  hscic.ccgs\n",
    "ON\n",
    "  prescriptions.pct = ccgs.code\n",
    "INNER JOIN\n",
    "  hscic.practices\n",
    "ON\n",
    "  prescriptions.practice = practices.code\n",
    "WHERE\n",
    "  bnf_code LIKE '0408010A0%'\n",
    "  AND month = TIMESTAMP('2018-02-01')\n",
    "  AND ccgs.org_type = 'CCG'\n",
    "ORDER BY\n",
    "  ccg,\n",
    "  practice,\n",
    "  bnf_code\n",
    "'''\n",
    "prescriptions = pd.read_gbq(sql, project_id='ebmdatalab', dialect='standard')"
   ]
  },
  {
   "cell_type": "markdown",
   "metadata": {},
   "source": [
    "### Exploring the data"
   ]
  },
  {
   "cell_type": "code",
   "execution_count": 4,
   "metadata": {},
   "outputs": [
    {
     "data": {
      "text/html": [
       "<div>\n",
       "<style scoped>\n",
       "    .dataframe tbody tr th:only-of-type {\n",
       "        vertical-align: middle;\n",
       "    }\n",
       "\n",
       "    .dataframe tbody tr th {\n",
       "        vertical-align: top;\n",
       "    }\n",
       "\n",
       "    .dataframe thead th {\n",
       "        text-align: right;\n",
       "    }\n",
       "</style>\n",
       "<table border=\"1\" class=\"dataframe\">\n",
       "  <thead>\n",
       "    <tr style=\"text-align: right;\">\n",
       "      <th></th>\n",
       "      <th>ccg</th>\n",
       "      <th>ccg_name</th>\n",
       "      <th>practice</th>\n",
       "      <th>practice_name</th>\n",
       "      <th>bnf_code</th>\n",
       "      <th>bnf_name</th>\n",
       "      <th>items</th>\n",
       "    </tr>\n",
       "  </thead>\n",
       "  <tbody>\n",
       "    <tr>\n",
       "      <th>0</th>\n",
       "      <td>00C</td>\n",
       "      <td>NHS DARLINGTON CCG</td>\n",
       "      <td>A83005</td>\n",
       "      <td>WHINFIELD MEDICAL PRACTICE</td>\n",
       "      <td>0408010A0AAAAAA</td>\n",
       "      <td>Levetiracetam_Tab 250mg</td>\n",
       "      <td>9</td>\n",
       "    </tr>\n",
       "    <tr>\n",
       "      <th>1</th>\n",
       "      <td>00C</td>\n",
       "      <td>NHS DARLINGTON CCG</td>\n",
       "      <td>A83005</td>\n",
       "      <td>WHINFIELD MEDICAL PRACTICE</td>\n",
       "      <td>0408010A0AAABAB</td>\n",
       "      <td>Levetiracetam_Tab 500mg</td>\n",
       "      <td>8</td>\n",
       "    </tr>\n",
       "    <tr>\n",
       "      <th>2</th>\n",
       "      <td>00C</td>\n",
       "      <td>NHS DARLINGTON CCG</td>\n",
       "      <td>A83005</td>\n",
       "      <td>WHINFIELD MEDICAL PRACTICE</td>\n",
       "      <td>0408010A0AAACAC</td>\n",
       "      <td>Levetiracetam_Tab 1g</td>\n",
       "      <td>8</td>\n",
       "    </tr>\n",
       "    <tr>\n",
       "      <th>3</th>\n",
       "      <td>00C</td>\n",
       "      <td>NHS DARLINGTON CCG</td>\n",
       "      <td>A83005</td>\n",
       "      <td>WHINFIELD MEDICAL PRACTICE</td>\n",
       "      <td>0408010A0AAAHAH</td>\n",
       "      <td>Levetiracetam_Oral Soln 500mg/5ml S/F</td>\n",
       "      <td>2</td>\n",
       "    </tr>\n",
       "    <tr>\n",
       "      <th>4</th>\n",
       "      <td>00C</td>\n",
       "      <td>NHS DARLINGTON CCG</td>\n",
       "      <td>A83005</td>\n",
       "      <td>WHINFIELD MEDICAL PRACTICE</td>\n",
       "      <td>0408010A0AAAIAI</td>\n",
       "      <td>Levetiracetam_Tab 750mg</td>\n",
       "      <td>6</td>\n",
       "    </tr>\n",
       "  </tbody>\n",
       "</table>\n",
       "</div>"
      ],
      "text/plain": [
       "   ccg            ccg_name practice               practice_name  \\\n",
       "0  00C  NHS DARLINGTON CCG   A83005  WHINFIELD MEDICAL PRACTICE   \n",
       "1  00C  NHS DARLINGTON CCG   A83005  WHINFIELD MEDICAL PRACTICE   \n",
       "2  00C  NHS DARLINGTON CCG   A83005  WHINFIELD MEDICAL PRACTICE   \n",
       "3  00C  NHS DARLINGTON CCG   A83005  WHINFIELD MEDICAL PRACTICE   \n",
       "4  00C  NHS DARLINGTON CCG   A83005  WHINFIELD MEDICAL PRACTICE   \n",
       "\n",
       "          bnf_code                               bnf_name  items  \n",
       "0  0408010A0AAAAAA                Levetiracetam_Tab 250mg      9  \n",
       "1  0408010A0AAABAB                Levetiracetam_Tab 500mg      8  \n",
       "2  0408010A0AAACAC                   Levetiracetam_Tab 1g      8  \n",
       "3  0408010A0AAAHAH  Levetiracetam_Oral Soln 500mg/5ml S/F      2  \n",
       "4  0408010A0AAAIAI                Levetiracetam_Tab 750mg      6  "
      ]
     },
     "execution_count": 4,
     "metadata": {},
     "output_type": "execute_result"
    }
   ],
   "source": [
    "prescriptions.head()"
   ]
  },
  {
   "cell_type": "code",
   "execution_count": 5,
   "metadata": {},
   "outputs": [
    {
     "data": {
      "text/html": [
       "<div>\n",
       "<style scoped>\n",
       "    .dataframe tbody tr th:only-of-type {\n",
       "        vertical-align: middle;\n",
       "    }\n",
       "\n",
       "    .dataframe tbody tr th {\n",
       "        vertical-align: top;\n",
       "    }\n",
       "\n",
       "    .dataframe thead th {\n",
       "        text-align: right;\n",
       "    }\n",
       "</style>\n",
       "<table border=\"1\" class=\"dataframe\">\n",
       "  <thead>\n",
       "    <tr style=\"text-align: right;\">\n",
       "      <th></th>\n",
       "      <th>ccg</th>\n",
       "      <th>ccg_name</th>\n",
       "      <th>practice</th>\n",
       "      <th>practice_name</th>\n",
       "      <th>bnf_code</th>\n",
       "      <th>bnf_name</th>\n",
       "      <th>items</th>\n",
       "    </tr>\n",
       "  </thead>\n",
       "  <tbody>\n",
       "    <tr>\n",
       "      <th>0</th>\n",
       "      <td>00C</td>\n",
       "      <td>NHS DARLINGTON CCG</td>\n",
       "      <td>A83005</td>\n",
       "      <td>WHINFIELD MEDICAL PRACTICE</td>\n",
       "      <td>0408010A0AAAAAA</td>\n",
       "      <td>Levetiracetam_Tab 250mg</td>\n",
       "      <td>9</td>\n",
       "    </tr>\n",
       "    <tr>\n",
       "      <th>1</th>\n",
       "      <td>00C</td>\n",
       "      <td>NHS DARLINGTON CCG</td>\n",
       "      <td>A83005</td>\n",
       "      <td>WHINFIELD MEDICAL PRACTICE</td>\n",
       "      <td>0408010A0AAABAB</td>\n",
       "      <td>Levetiracetam_Tab 500mg</td>\n",
       "      <td>8</td>\n",
       "    </tr>\n",
       "    <tr>\n",
       "      <th>2</th>\n",
       "      <td>00C</td>\n",
       "      <td>NHS DARLINGTON CCG</td>\n",
       "      <td>A83005</td>\n",
       "      <td>WHINFIELD MEDICAL PRACTICE</td>\n",
       "      <td>0408010A0AAACAC</td>\n",
       "      <td>Levetiracetam_Tab 1g</td>\n",
       "      <td>8</td>\n",
       "    </tr>\n",
       "    <tr>\n",
       "      <th>3</th>\n",
       "      <td>00C</td>\n",
       "      <td>NHS DARLINGTON CCG</td>\n",
       "      <td>A83005</td>\n",
       "      <td>WHINFIELD MEDICAL PRACTICE</td>\n",
       "      <td>0408010A0AAAHAH</td>\n",
       "      <td>Levetiracetam_Oral Soln 500mg/5ml S/F</td>\n",
       "      <td>2</td>\n",
       "    </tr>\n",
       "    <tr>\n",
       "      <th>4</th>\n",
       "      <td>00C</td>\n",
       "      <td>NHS DARLINGTON CCG</td>\n",
       "      <td>A83005</td>\n",
       "      <td>WHINFIELD MEDICAL PRACTICE</td>\n",
       "      <td>0408010A0AAAIAI</td>\n",
       "      <td>Levetiracetam_Tab 750mg</td>\n",
       "      <td>6</td>\n",
       "    </tr>\n",
       "    <tr>\n",
       "      <th>5</th>\n",
       "      <td>00C</td>\n",
       "      <td>NHS DARLINGTON CCG</td>\n",
       "      <td>A83005</td>\n",
       "      <td>WHINFIELD MEDICAL PRACTICE</td>\n",
       "      <td>0408010A0BBAAAA</td>\n",
       "      <td>Keppra_Tab 250mg</td>\n",
       "      <td>1</td>\n",
       "    </tr>\n",
       "    <tr>\n",
       "      <th>6</th>\n",
       "      <td>00C</td>\n",
       "      <td>NHS DARLINGTON CCG</td>\n",
       "      <td>A83005</td>\n",
       "      <td>WHINFIELD MEDICAL PRACTICE</td>\n",
       "      <td>0408010A0BBACAC</td>\n",
       "      <td>Keppra_Tab 1g</td>\n",
       "      <td>1</td>\n",
       "    </tr>\n",
       "  </tbody>\n",
       "</table>\n",
       "</div>"
      ],
      "text/plain": [
       "   ccg            ccg_name practice               practice_name  \\\n",
       "0  00C  NHS DARLINGTON CCG   A83005  WHINFIELD MEDICAL PRACTICE   \n",
       "1  00C  NHS DARLINGTON CCG   A83005  WHINFIELD MEDICAL PRACTICE   \n",
       "2  00C  NHS DARLINGTON CCG   A83005  WHINFIELD MEDICAL PRACTICE   \n",
       "3  00C  NHS DARLINGTON CCG   A83005  WHINFIELD MEDICAL PRACTICE   \n",
       "4  00C  NHS DARLINGTON CCG   A83005  WHINFIELD MEDICAL PRACTICE   \n",
       "5  00C  NHS DARLINGTON CCG   A83005  WHINFIELD MEDICAL PRACTICE   \n",
       "6  00C  NHS DARLINGTON CCG   A83005  WHINFIELD MEDICAL PRACTICE   \n",
       "\n",
       "          bnf_code                               bnf_name  items  \n",
       "0  0408010A0AAAAAA                Levetiracetam_Tab 250mg      9  \n",
       "1  0408010A0AAABAB                Levetiracetam_Tab 500mg      8  \n",
       "2  0408010A0AAACAC                   Levetiracetam_Tab 1g      8  \n",
       "3  0408010A0AAAHAH  Levetiracetam_Oral Soln 500mg/5ml S/F      2  \n",
       "4  0408010A0AAAIAI                Levetiracetam_Tab 750mg      6  \n",
       "5  0408010A0BBAAAA                       Keppra_Tab 250mg      1  \n",
       "6  0408010A0BBACAC                          Keppra_Tab 1g      1  "
      ]
     },
     "execution_count": 5,
     "metadata": {},
     "output_type": "execute_result"
    }
   ],
   "source": [
    "prescriptions[prescriptions['practice'] == 'A83005']"
   ]
  },
  {
   "cell_type": "code",
   "execution_count": 6,
   "metadata": {},
   "outputs": [
    {
     "data": {
      "text/plain": [
       "(37412, 7)"
      ]
     },
     "execution_count": 6,
     "metadata": {},
     "output_type": "execute_result"
    }
   ],
   "source": [
    "prescriptions.shape"
   ]
  },
  {
   "cell_type": "code",
   "execution_count": 7,
   "metadata": {},
   "outputs": [
    {
     "data": {
      "text/plain": [
       "bnf_name\n",
       "Levetiracetam_Tab 500mg                   6775\n",
       "Levetiracetam_Tab 250mg                   6546\n",
       "Levetiracetam_Tab 1g                      5474\n",
       "Levetiracetam_Tab 750mg                   4151\n",
       "Levetiracetam_Oral Soln 500mg/5ml S/F     4011\n",
       "Keppra_Tab 500mg                          3113\n",
       "Keppra_Tab 250mg                          2245\n",
       "Keppra_Tab 1g                             2008\n",
       "Keppra_Oral Soln 100mg/ml                 1323\n",
       "Keppra_Tab 750mg                          1037\n",
       "Levetiracetam_Gran Sach 250mg S/F          251\n",
       "Levetiracetam_Gran Sach 500mg S/F          237\n",
       "Levetiracetam_Gran Sach 1g S/F              77\n",
       "Desitrend_Gran Sach 500mg                   50\n",
       "Desitrend_Gran Sach 250mg                   40\n",
       "Desitrend_Gran Sach 1g                      36\n",
       "Levetiracetam_I/V Inf 100mg/ml 5ml Vl       18\n",
       "Levetiracetam_I/V Inf 100mg/ml 5ml Amp      14\n",
       "Keppra_I/V Inf 100mg/ml 5ml Vl               3\n",
       "Desitrend_Oral Soln 100mg/ml                 2\n",
       "Matever_Tab 500mg                            1\n",
       "dtype: int64"
      ]
     },
     "execution_count": 7,
     "metadata": {},
     "output_type": "execute_result"
    }
   ],
   "source": [
    "prescriptions.groupby('bnf_name').size().sort_values(ascending=False)"
   ]
  },
  {
   "cell_type": "code",
   "execution_count": 8,
   "metadata": {},
   "outputs": [
    {
     "data": {
      "text/plain": [
       "ccg\n",
       "99P    2711\n",
       "11M    2410\n",
       "06H    2409\n",
       "11H    2248\n",
       "06K    1954\n",
       "Name: items, dtype: int64"
      ]
     },
     "execution_count": 8,
     "metadata": {},
     "output_type": "execute_result"
    }
   ],
   "source": [
    "prescriptions.groupby('ccg')['items'].sum().sort_values(ascending=False).head()"
   ]
  },
  {
   "cell_type": "markdown",
   "metadata": {},
   "source": [
    "### Aggregating the data"
   ]
  },
  {
   "cell_type": "markdown",
   "metadata": {},
   "source": [
    "First, we'll create a new DataFrame with one row per CCG."
   ]
  },
  {
   "cell_type": "code",
   "execution_count": 12,
   "metadata": {},
   "outputs": [],
   "source": [
    "ccgs = prescriptions[['ccg', 'ccg_name']].drop_duplicates().set_index('ccg')"
   ]
  },
  {
   "cell_type": "code",
   "execution_count": 13,
   "metadata": {},
   "outputs": [
    {
     "data": {
      "text/html": [
       "<div>\n",
       "<style scoped>\n",
       "    .dataframe tbody tr th:only-of-type {\n",
       "        vertical-align: middle;\n",
       "    }\n",
       "\n",
       "    .dataframe tbody tr th {\n",
       "        vertical-align: top;\n",
       "    }\n",
       "\n",
       "    .dataframe thead th {\n",
       "        text-align: right;\n",
       "    }\n",
       "</style>\n",
       "<table border=\"1\" class=\"dataframe\">\n",
       "  <thead>\n",
       "    <tr style=\"text-align: right;\">\n",
       "      <th></th>\n",
       "      <th>ccg_name</th>\n",
       "    </tr>\n",
       "    <tr>\n",
       "      <th>ccg</th>\n",
       "      <th></th>\n",
       "    </tr>\n",
       "  </thead>\n",
       "  <tbody>\n",
       "    <tr>\n",
       "      <th>00C</th>\n",
       "      <td>NHS DARLINGTON CCG</td>\n",
       "    </tr>\n",
       "    <tr>\n",
       "      <th>00D</th>\n",
       "      <td>NHS DURHAM DALES, EASINGTON AND SEDGEFIELD CCG</td>\n",
       "    </tr>\n",
       "    <tr>\n",
       "      <th>00J</th>\n",
       "      <td>NHS NORTH DURHAM CCG</td>\n",
       "    </tr>\n",
       "    <tr>\n",
       "      <th>00K</th>\n",
       "      <td>NHS HARTLEPOOL AND STOCKTON-ON-TEES CCG</td>\n",
       "    </tr>\n",
       "    <tr>\n",
       "      <th>00L</th>\n",
       "      <td>NHS NORTHUMBERLAND CCG</td>\n",
       "    </tr>\n",
       "  </tbody>\n",
       "</table>\n",
       "</div>"
      ],
      "text/plain": [
       "                                           ccg_name\n",
       "ccg                                                \n",
       "00C                              NHS DARLINGTON CCG\n",
       "00D  NHS DURHAM DALES, EASINGTON AND SEDGEFIELD CCG\n",
       "00J                            NHS NORTH DURHAM CCG\n",
       "00K         NHS HARTLEPOOL AND STOCKTON-ON-TEES CCG\n",
       "00L                          NHS NORTHUMBERLAND CCG"
      ]
     },
     "execution_count": 13,
     "metadata": {},
     "output_type": "execute_result"
    }
   ],
   "source": [
    "ccgs.head()"
   ]
  },
  {
   "cell_type": "code",
   "execution_count": 16,
   "metadata": {},
   "outputs": [
    {
     "data": {
      "text/plain": [
       "ccg_name    NHS NORTHERN, EASTERN AND WESTERN DEVON CCG\n",
       "Name: 99P, dtype: object"
      ]
     },
     "execution_count": 16,
     "metadata": {},
     "output_type": "execute_result"
    }
   ],
   "source": [
    "ccgs.loc['99P']"
   ]
  },
  {
   "cell_type": "markdown",
   "metadata": {},
   "source": [
    "Now we can add a column to our new DataFrame, which contains the total number of prescribed items for each CCG."
   ]
  },
  {
   "cell_type": "code",
   "execution_count": 17,
   "metadata": {},
   "outputs": [],
   "source": [
    "ccgs['total_items'] = prescriptions.groupby('ccg')['items'].sum()"
   ]
  },
  {
   "cell_type": "code",
   "execution_count": 18,
   "metadata": {},
   "outputs": [
    {
     "data": {
      "text/html": [
       "<div>\n",
       "<style scoped>\n",
       "    .dataframe tbody tr th:only-of-type {\n",
       "        vertical-align: middle;\n",
       "    }\n",
       "\n",
       "    .dataframe tbody tr th {\n",
       "        vertical-align: top;\n",
       "    }\n",
       "\n",
       "    .dataframe thead th {\n",
       "        text-align: right;\n",
       "    }\n",
       "</style>\n",
       "<table border=\"1\" class=\"dataframe\">\n",
       "  <thead>\n",
       "    <tr style=\"text-align: right;\">\n",
       "      <th></th>\n",
       "      <th>ccg_name</th>\n",
       "      <th>total_items</th>\n",
       "    </tr>\n",
       "    <tr>\n",
       "      <th>ccg</th>\n",
       "      <th></th>\n",
       "      <th></th>\n",
       "    </tr>\n",
       "  </thead>\n",
       "  <tbody>\n",
       "    <tr>\n",
       "      <th>00C</th>\n",
       "      <td>NHS DARLINGTON CCG</td>\n",
       "      <td>455</td>\n",
       "    </tr>\n",
       "    <tr>\n",
       "      <th>00D</th>\n",
       "      <td>NHS DURHAM DALES, EASINGTON AND SEDGEFIELD CCG</td>\n",
       "      <td>1410</td>\n",
       "    </tr>\n",
       "    <tr>\n",
       "      <th>00J</th>\n",
       "      <td>NHS NORTH DURHAM CCG</td>\n",
       "      <td>871</td>\n",
       "    </tr>\n",
       "    <tr>\n",
       "      <th>00K</th>\n",
       "      <td>NHS HARTLEPOOL AND STOCKTON-ON-TEES CCG</td>\n",
       "      <td>905</td>\n",
       "    </tr>\n",
       "    <tr>\n",
       "      <th>00L</th>\n",
       "      <td>NHS NORTHUMBERLAND CCG</td>\n",
       "      <td>957</td>\n",
       "    </tr>\n",
       "  </tbody>\n",
       "</table>\n",
       "</div>"
      ],
      "text/plain": [
       "                                           ccg_name  total_items\n",
       "ccg                                                             \n",
       "00C                              NHS DARLINGTON CCG          455\n",
       "00D  NHS DURHAM DALES, EASINGTON AND SEDGEFIELD CCG         1410\n",
       "00J                            NHS NORTH DURHAM CCG          871\n",
       "00K         NHS HARTLEPOOL AND STOCKTON-ON-TEES CCG          905\n",
       "00L                          NHS NORTHUMBERLAND CCG          957"
      ]
     },
     "execution_count": 18,
     "metadata": {},
     "output_type": "execute_result"
    }
   ],
   "source": [
    "ccgs.head()"
   ]
  },
  {
   "cell_type": "markdown",
   "metadata": {},
   "source": [
    "We're interested in the Keppra prescriptions, so we want to filter the `prescriptions` DataFrame to just include rows whos `bnf_code` column starts with `\"0408010A0BB`\"."
   ]
  },
  {
   "cell_type": "code",
   "execution_count": 19,
   "metadata": {},
   "outputs": [],
   "source": [
    "keppra_prescriptions = prescriptions[prescriptions['bnf_code'].str.startswith('0408010A0BB')]"
   ]
  },
  {
   "cell_type": "code",
   "execution_count": 20,
   "metadata": {},
   "outputs": [
    {
     "data": {
      "text/html": [
       "<div>\n",
       "<style scoped>\n",
       "    .dataframe tbody tr th:only-of-type {\n",
       "        vertical-align: middle;\n",
       "    }\n",
       "\n",
       "    .dataframe tbody tr th {\n",
       "        vertical-align: top;\n",
       "    }\n",
       "\n",
       "    .dataframe thead th {\n",
       "        text-align: right;\n",
       "    }\n",
       "</style>\n",
       "<table border=\"1\" class=\"dataframe\">\n",
       "  <thead>\n",
       "    <tr style=\"text-align: right;\">\n",
       "      <th></th>\n",
       "      <th>ccg</th>\n",
       "      <th>ccg_name</th>\n",
       "      <th>practice</th>\n",
       "      <th>practice_name</th>\n",
       "      <th>bnf_code</th>\n",
       "      <th>bnf_name</th>\n",
       "      <th>items</th>\n",
       "    </tr>\n",
       "  </thead>\n",
       "  <tbody>\n",
       "    <tr>\n",
       "      <th>5</th>\n",
       "      <td>00C</td>\n",
       "      <td>NHS DARLINGTON CCG</td>\n",
       "      <td>A83005</td>\n",
       "      <td>WHINFIELD MEDICAL PRACTICE</td>\n",
       "      <td>0408010A0BBAAAA</td>\n",
       "      <td>Keppra_Tab 250mg</td>\n",
       "      <td>1</td>\n",
       "    </tr>\n",
       "    <tr>\n",
       "      <th>6</th>\n",
       "      <td>00C</td>\n",
       "      <td>NHS DARLINGTON CCG</td>\n",
       "      <td>A83005</td>\n",
       "      <td>WHINFIELD MEDICAL PRACTICE</td>\n",
       "      <td>0408010A0BBACAC</td>\n",
       "      <td>Keppra_Tab 1g</td>\n",
       "      <td>1</td>\n",
       "    </tr>\n",
       "    <tr>\n",
       "      <th>14</th>\n",
       "      <td>00C</td>\n",
       "      <td>NHS DARLINGTON CCG</td>\n",
       "      <td>A83010</td>\n",
       "      <td>MOORLANDS SURGERY</td>\n",
       "      <td>0408010A0BBABAB</td>\n",
       "      <td>Keppra_Tab 500mg</td>\n",
       "      <td>1</td>\n",
       "    </tr>\n",
       "    <tr>\n",
       "      <th>20</th>\n",
       "      <td>00C</td>\n",
       "      <td>NHS DARLINGTON CCG</td>\n",
       "      <td>A83013</td>\n",
       "      <td>NEASHAM ROAD SURGERY</td>\n",
       "      <td>0408010A0BBAAAA</td>\n",
       "      <td>Keppra_Tab 250mg</td>\n",
       "      <td>1</td>\n",
       "    </tr>\n",
       "    <tr>\n",
       "      <th>21</th>\n",
       "      <td>00C</td>\n",
       "      <td>NHS DARLINGTON CCG</td>\n",
       "      <td>A83013</td>\n",
       "      <td>NEASHAM ROAD SURGERY</td>\n",
       "      <td>0408010A0BBABAB</td>\n",
       "      <td>Keppra_Tab 500mg</td>\n",
       "      <td>1</td>\n",
       "    </tr>\n",
       "  </tbody>\n",
       "</table>\n",
       "</div>"
      ],
      "text/plain": [
       "    ccg            ccg_name practice               practice_name  \\\n",
       "5   00C  NHS DARLINGTON CCG   A83005  WHINFIELD MEDICAL PRACTICE   \n",
       "6   00C  NHS DARLINGTON CCG   A83005  WHINFIELD MEDICAL PRACTICE   \n",
       "14  00C  NHS DARLINGTON CCG   A83010           MOORLANDS SURGERY   \n",
       "20  00C  NHS DARLINGTON CCG   A83013        NEASHAM ROAD SURGERY   \n",
       "21  00C  NHS DARLINGTON CCG   A83013        NEASHAM ROAD SURGERY   \n",
       "\n",
       "           bnf_code          bnf_name  items  \n",
       "5   0408010A0BBAAAA  Keppra_Tab 250mg      1  \n",
       "6   0408010A0BBACAC     Keppra_Tab 1g      1  \n",
       "14  0408010A0BBABAB  Keppra_Tab 500mg      1  \n",
       "20  0408010A0BBAAAA  Keppra_Tab 250mg      1  \n",
       "21  0408010A0BBABAB  Keppra_Tab 500mg      1  "
      ]
     },
     "execution_count": 20,
     "metadata": {},
     "output_type": "execute_result"
    }
   ],
   "source": [
    "keppra_prescriptions.head()"
   ]
  },
  {
   "cell_type": "code",
   "execution_count": 21,
   "metadata": {},
   "outputs": [],
   "source": [
    "ccgs['keppra_items'] = keppra_prescriptions.groupby('ccg')['items'].sum()"
   ]
  },
  {
   "cell_type": "code",
   "execution_count": 22,
   "metadata": {},
   "outputs": [
    {
     "data": {
      "text/html": [
       "<div>\n",
       "<style scoped>\n",
       "    .dataframe tbody tr th:only-of-type {\n",
       "        vertical-align: middle;\n",
       "    }\n",
       "\n",
       "    .dataframe tbody tr th {\n",
       "        vertical-align: top;\n",
       "    }\n",
       "\n",
       "    .dataframe thead th {\n",
       "        text-align: right;\n",
       "    }\n",
       "</style>\n",
       "<table border=\"1\" class=\"dataframe\">\n",
       "  <thead>\n",
       "    <tr style=\"text-align: right;\">\n",
       "      <th></th>\n",
       "      <th>ccg_name</th>\n",
       "      <th>total_items</th>\n",
       "      <th>keppra_items</th>\n",
       "    </tr>\n",
       "    <tr>\n",
       "      <th>ccg</th>\n",
       "      <th></th>\n",
       "      <th></th>\n",
       "      <th></th>\n",
       "    </tr>\n",
       "  </thead>\n",
       "  <tbody>\n",
       "    <tr>\n",
       "      <th>00C</th>\n",
       "      <td>NHS DARLINGTON CCG</td>\n",
       "      <td>455</td>\n",
       "      <td>10</td>\n",
       "    </tr>\n",
       "    <tr>\n",
       "      <th>00D</th>\n",
       "      <td>NHS DURHAM DALES, EASINGTON AND SEDGEFIELD CCG</td>\n",
       "      <td>1410</td>\n",
       "      <td>92</td>\n",
       "    </tr>\n",
       "    <tr>\n",
       "      <th>00J</th>\n",
       "      <td>NHS NORTH DURHAM CCG</td>\n",
       "      <td>871</td>\n",
       "      <td>88</td>\n",
       "    </tr>\n",
       "    <tr>\n",
       "      <th>00K</th>\n",
       "      <td>NHS HARTLEPOOL AND STOCKTON-ON-TEES CCG</td>\n",
       "      <td>905</td>\n",
       "      <td>45</td>\n",
       "    </tr>\n",
       "    <tr>\n",
       "      <th>00L</th>\n",
       "      <td>NHS NORTHUMBERLAND CCG</td>\n",
       "      <td>957</td>\n",
       "      <td>44</td>\n",
       "    </tr>\n",
       "  </tbody>\n",
       "</table>\n",
       "</div>"
      ],
      "text/plain": [
       "                                           ccg_name  total_items  keppra_items\n",
       "ccg                                                                           \n",
       "00C                              NHS DARLINGTON CCG          455            10\n",
       "00D  NHS DURHAM DALES, EASINGTON AND SEDGEFIELD CCG         1410            92\n",
       "00J                            NHS NORTH DURHAM CCG          871            88\n",
       "00K         NHS HARTLEPOOL AND STOCKTON-ON-TEES CCG          905            45\n",
       "00L                          NHS NORTHUMBERLAND CCG          957            44"
      ]
     },
     "execution_count": 22,
     "metadata": {},
     "output_type": "execute_result"
    }
   ],
   "source": [
    "ccgs.head()"
   ]
  },
  {
   "cell_type": "markdown",
   "metadata": {},
   "source": [
    "We can now calculate the ratio of Keppra to Levetiracetam."
   ]
  },
  {
   "cell_type": "code",
   "execution_count": 23,
   "metadata": {},
   "outputs": [],
   "source": [
    "ccgs['keppra_ratio'] = ccgs['keppra_items'] / ccgs['total_items']"
   ]
  },
  {
   "cell_type": "code",
   "execution_count": 24,
   "metadata": {},
   "outputs": [
    {
     "data": {
      "text/html": [
       "<div>\n",
       "<style scoped>\n",
       "    .dataframe tbody tr th:only-of-type {\n",
       "        vertical-align: middle;\n",
       "    }\n",
       "\n",
       "    .dataframe tbody tr th {\n",
       "        vertical-align: top;\n",
       "    }\n",
       "\n",
       "    .dataframe thead th {\n",
       "        text-align: right;\n",
       "    }\n",
       "</style>\n",
       "<table border=\"1\" class=\"dataframe\">\n",
       "  <thead>\n",
       "    <tr style=\"text-align: right;\">\n",
       "      <th></th>\n",
       "      <th>ccg_name</th>\n",
       "      <th>total_items</th>\n",
       "      <th>keppra_items</th>\n",
       "      <th>keppra_ratio</th>\n",
       "    </tr>\n",
       "    <tr>\n",
       "      <th>ccg</th>\n",
       "      <th></th>\n",
       "      <th></th>\n",
       "      <th></th>\n",
       "      <th></th>\n",
       "    </tr>\n",
       "  </thead>\n",
       "  <tbody>\n",
       "    <tr>\n",
       "      <th>00C</th>\n",
       "      <td>NHS DARLINGTON CCG</td>\n",
       "      <td>455</td>\n",
       "      <td>10</td>\n",
       "      <td>0.021978</td>\n",
       "    </tr>\n",
       "    <tr>\n",
       "      <th>00D</th>\n",
       "      <td>NHS DURHAM DALES, EASINGTON AND SEDGEFIELD CCG</td>\n",
       "      <td>1410</td>\n",
       "      <td>92</td>\n",
       "      <td>0.065248</td>\n",
       "    </tr>\n",
       "    <tr>\n",
       "      <th>00J</th>\n",
       "      <td>NHS NORTH DURHAM CCG</td>\n",
       "      <td>871</td>\n",
       "      <td>88</td>\n",
       "      <td>0.101033</td>\n",
       "    </tr>\n",
       "    <tr>\n",
       "      <th>00K</th>\n",
       "      <td>NHS HARTLEPOOL AND STOCKTON-ON-TEES CCG</td>\n",
       "      <td>905</td>\n",
       "      <td>45</td>\n",
       "      <td>0.049724</td>\n",
       "    </tr>\n",
       "    <tr>\n",
       "      <th>00L</th>\n",
       "      <td>NHS NORTHUMBERLAND CCG</td>\n",
       "      <td>957</td>\n",
       "      <td>44</td>\n",
       "      <td>0.045977</td>\n",
       "    </tr>\n",
       "  </tbody>\n",
       "</table>\n",
       "</div>"
      ],
      "text/plain": [
       "                                           ccg_name  total_items  \\\n",
       "ccg                                                                \n",
       "00C                              NHS DARLINGTON CCG          455   \n",
       "00D  NHS DURHAM DALES, EASINGTON AND SEDGEFIELD CCG         1410   \n",
       "00J                            NHS NORTH DURHAM CCG          871   \n",
       "00K         NHS HARTLEPOOL AND STOCKTON-ON-TEES CCG          905   \n",
       "00L                          NHS NORTHUMBERLAND CCG          957   \n",
       "\n",
       "     keppra_items  keppra_ratio  \n",
       "ccg                              \n",
       "00C            10      0.021978  \n",
       "00D            92      0.065248  \n",
       "00J            88      0.101033  \n",
       "00K            45      0.049724  \n",
       "00L            44      0.045977  "
      ]
     },
     "execution_count": 24,
     "metadata": {},
     "output_type": "execute_result"
    }
   ],
   "source": [
    "ccgs.head()"
   ]
  },
  {
   "cell_type": "markdown",
   "metadata": {},
   "source": [
    "And we can see which CCGs perform worst..."
   ]
  },
  {
   "cell_type": "code",
   "execution_count": 25,
   "metadata": {},
   "outputs": [
    {
     "data": {
      "text/html": [
       "<div>\n",
       "<style scoped>\n",
       "    .dataframe tbody tr th:only-of-type {\n",
       "        vertical-align: middle;\n",
       "    }\n",
       "\n",
       "    .dataframe tbody tr th {\n",
       "        vertical-align: top;\n",
       "    }\n",
       "\n",
       "    .dataframe thead th {\n",
       "        text-align: right;\n",
       "    }\n",
       "</style>\n",
       "<table border=\"1\" class=\"dataframe\">\n",
       "  <thead>\n",
       "    <tr style=\"text-align: right;\">\n",
       "      <th></th>\n",
       "      <th>ccg_name</th>\n",
       "      <th>total_items</th>\n",
       "      <th>keppra_items</th>\n",
       "      <th>keppra_ratio</th>\n",
       "    </tr>\n",
       "    <tr>\n",
       "      <th>ccg</th>\n",
       "      <th></th>\n",
       "      <th></th>\n",
       "      <th></th>\n",
       "      <th></th>\n",
       "    </tr>\n",
       "  </thead>\n",
       "  <tbody>\n",
       "    <tr>\n",
       "      <th>05Y</th>\n",
       "      <td>NHS WALSALL CCG</td>\n",
       "      <td>882</td>\n",
       "      <td>366</td>\n",
       "      <td>0.414966</td>\n",
       "    </tr>\n",
       "    <tr>\n",
       "      <th>12F</th>\n",
       "      <td>NHS WIRRAL CCG</td>\n",
       "      <td>899</td>\n",
       "      <td>329</td>\n",
       "      <td>0.365962</td>\n",
       "    </tr>\n",
       "    <tr>\n",
       "      <th>05G</th>\n",
       "      <td>NHS NORTH STAFFORDSHIRE CCG</td>\n",
       "      <td>625</td>\n",
       "      <td>196</td>\n",
       "      <td>0.313600</td>\n",
       "    </tr>\n",
       "    <tr>\n",
       "      <th>00T</th>\n",
       "      <td>NHS BOLTON CCG</td>\n",
       "      <td>675</td>\n",
       "      <td>208</td>\n",
       "      <td>0.308148</td>\n",
       "    </tr>\n",
       "    <tr>\n",
       "      <th>05V</th>\n",
       "      <td>NHS STAFFORD AND SURROUNDS CCG</td>\n",
       "      <td>485</td>\n",
       "      <td>142</td>\n",
       "      <td>0.292784</td>\n",
       "    </tr>\n",
       "  </tbody>\n",
       "</table>\n",
       "</div>"
      ],
      "text/plain": [
       "                           ccg_name  total_items  keppra_items  keppra_ratio\n",
       "ccg                                                                         \n",
       "05Y                 NHS WALSALL CCG          882           366      0.414966\n",
       "12F                  NHS WIRRAL CCG          899           329      0.365962\n",
       "05G     NHS NORTH STAFFORDSHIRE CCG          625           196      0.313600\n",
       "00T                  NHS BOLTON CCG          675           208      0.308148\n",
       "05V  NHS STAFFORD AND SURROUNDS CCG          485           142      0.292784"
      ]
     },
     "execution_count": 25,
     "metadata": {},
     "output_type": "execute_result"
    }
   ],
   "source": [
    "ccgs.sort_values('keppra_ratio', ascending=False).head()"
   ]
  },
  {
   "cell_type": "markdown",
   "metadata": {},
   "source": [
    "...and best on this measure."
   ]
  },
  {
   "cell_type": "code",
   "execution_count": 26,
   "metadata": {},
   "outputs": [
    {
     "data": {
      "text/html": [
       "<div>\n",
       "<style scoped>\n",
       "    .dataframe tbody tr th:only-of-type {\n",
       "        vertical-align: middle;\n",
       "    }\n",
       "\n",
       "    .dataframe tbody tr th {\n",
       "        vertical-align: top;\n",
       "    }\n",
       "\n",
       "    .dataframe thead th {\n",
       "        text-align: right;\n",
       "    }\n",
       "</style>\n",
       "<table border=\"1\" class=\"dataframe\">\n",
       "  <thead>\n",
       "    <tr style=\"text-align: right;\">\n",
       "      <th></th>\n",
       "      <th>ccg_name</th>\n",
       "      <th>total_items</th>\n",
       "      <th>keppra_items</th>\n",
       "      <th>keppra_ratio</th>\n",
       "    </tr>\n",
       "    <tr>\n",
       "      <th>ccg</th>\n",
       "      <th></th>\n",
       "      <th></th>\n",
       "      <th></th>\n",
       "      <th></th>\n",
       "    </tr>\n",
       "  </thead>\n",
       "  <tbody>\n",
       "    <tr>\n",
       "      <th>10D</th>\n",
       "      <td>NHS SWALE CCG</td>\n",
       "      <td>270</td>\n",
       "      <td>1</td>\n",
       "      <td>0.003704</td>\n",
       "    </tr>\n",
       "    <tr>\n",
       "      <th>00C</th>\n",
       "      <td>NHS DARLINGTON CCG</td>\n",
       "      <td>455</td>\n",
       "      <td>10</td>\n",
       "      <td>0.021978</td>\n",
       "    </tr>\n",
       "    <tr>\n",
       "      <th>00M</th>\n",
       "      <td>NHS SOUTH TEES CCG</td>\n",
       "      <td>1328</td>\n",
       "      <td>37</td>\n",
       "      <td>0.027861</td>\n",
       "    </tr>\n",
       "    <tr>\n",
       "      <th>11T</th>\n",
       "      <td>NHS NORTH SOMERSET CCG</td>\n",
       "      <td>880</td>\n",
       "      <td>27</td>\n",
       "      <td>0.030682</td>\n",
       "    </tr>\n",
       "    <tr>\n",
       "      <th>13T</th>\n",
       "      <td>NHS NEWCASTLE GATESHEAD CCG</td>\n",
       "      <td>1851</td>\n",
       "      <td>61</td>\n",
       "      <td>0.032955</td>\n",
       "    </tr>\n",
       "  </tbody>\n",
       "</table>\n",
       "</div>"
      ],
      "text/plain": [
       "                        ccg_name  total_items  keppra_items  keppra_ratio\n",
       "ccg                                                                      \n",
       "10D                NHS SWALE CCG          270             1      0.003704\n",
       "00C           NHS DARLINGTON CCG          455            10      0.021978\n",
       "00M           NHS SOUTH TEES CCG         1328            37      0.027861\n",
       "11T       NHS NORTH SOMERSET CCG          880            27      0.030682\n",
       "13T  NHS NEWCASTLE GATESHEAD CCG         1851            61      0.032955"
      ]
     },
     "execution_count": 26,
     "metadata": {},
     "output_type": "execute_result"
    }
   ],
   "source": [
    "ccgs.sort_values('keppra_ratio', ascending=True).head()"
   ]
  },
  {
   "cell_type": "markdown",
   "metadata": {},
   "source": [
    "We can calculate percentiles too."
   ]
  },
  {
   "cell_type": "code",
   "execution_count": 27,
   "metadata": {},
   "outputs": [],
   "source": [
    "ccgs['percentile'] = ccgs['keppra_ratio'].rank(pct=True)"
   ]
  },
  {
   "cell_type": "code",
   "execution_count": 28,
   "metadata": {},
   "outputs": [
    {
     "data": {
      "text/html": [
       "<div>\n",
       "<style scoped>\n",
       "    .dataframe tbody tr th:only-of-type {\n",
       "        vertical-align: middle;\n",
       "    }\n",
       "\n",
       "    .dataframe tbody tr th {\n",
       "        vertical-align: top;\n",
       "    }\n",
       "\n",
       "    .dataframe thead th {\n",
       "        text-align: right;\n",
       "    }\n",
       "</style>\n",
       "<table border=\"1\" class=\"dataframe\">\n",
       "  <thead>\n",
       "    <tr style=\"text-align: right;\">\n",
       "      <th></th>\n",
       "      <th>ccg_name</th>\n",
       "      <th>total_items</th>\n",
       "      <th>keppra_items</th>\n",
       "      <th>keppra_ratio</th>\n",
       "      <th>percentile</th>\n",
       "    </tr>\n",
       "    <tr>\n",
       "      <th>ccg</th>\n",
       "      <th></th>\n",
       "      <th></th>\n",
       "      <th></th>\n",
       "      <th></th>\n",
       "      <th></th>\n",
       "    </tr>\n",
       "  </thead>\n",
       "  <tbody>\n",
       "    <tr>\n",
       "      <th>00C</th>\n",
       "      <td>NHS DARLINGTON CCG</td>\n",
       "      <td>455</td>\n",
       "      <td>10</td>\n",
       "      <td>0.021978</td>\n",
       "      <td>0.009662</td>\n",
       "    </tr>\n",
       "    <tr>\n",
       "      <th>00D</th>\n",
       "      <td>NHS DURHAM DALES, EASINGTON AND SEDGEFIELD CCG</td>\n",
       "      <td>1410</td>\n",
       "      <td>92</td>\n",
       "      <td>0.065248</td>\n",
       "      <td>0.212560</td>\n",
       "    </tr>\n",
       "    <tr>\n",
       "      <th>00J</th>\n",
       "      <td>NHS NORTH DURHAM CCG</td>\n",
       "      <td>871</td>\n",
       "      <td>88</td>\n",
       "      <td>0.101033</td>\n",
       "      <td>0.444444</td>\n",
       "    </tr>\n",
       "    <tr>\n",
       "      <th>00K</th>\n",
       "      <td>NHS HARTLEPOOL AND STOCKTON-ON-TEES CCG</td>\n",
       "      <td>905</td>\n",
       "      <td>45</td>\n",
       "      <td>0.049724</td>\n",
       "      <td>0.096618</td>\n",
       "    </tr>\n",
       "    <tr>\n",
       "      <th>00L</th>\n",
       "      <td>NHS NORTHUMBERLAND CCG</td>\n",
       "      <td>957</td>\n",
       "      <td>44</td>\n",
       "      <td>0.045977</td>\n",
       "      <td>0.077295</td>\n",
       "    </tr>\n",
       "  </tbody>\n",
       "</table>\n",
       "</div>"
      ],
      "text/plain": [
       "                                           ccg_name  total_items  \\\n",
       "ccg                                                                \n",
       "00C                              NHS DARLINGTON CCG          455   \n",
       "00D  NHS DURHAM DALES, EASINGTON AND SEDGEFIELD CCG         1410   \n",
       "00J                            NHS NORTH DURHAM CCG          871   \n",
       "00K         NHS HARTLEPOOL AND STOCKTON-ON-TEES CCG          905   \n",
       "00L                          NHS NORTHUMBERLAND CCG          957   \n",
       "\n",
       "     keppra_items  keppra_ratio  percentile  \n",
       "ccg                                          \n",
       "00C            10      0.021978    0.009662  \n",
       "00D            92      0.065248    0.212560  \n",
       "00J            88      0.101033    0.444444  \n",
       "00K            45      0.049724    0.096618  \n",
       "00L            44      0.045977    0.077295  "
      ]
     },
     "execution_count": 28,
     "metadata": {},
     "output_type": "execute_result"
    }
   ],
   "source": [
    "ccgs.head()"
   ]
  },
  {
   "cell_type": "code",
   "execution_count": 29,
   "metadata": {},
   "outputs": [
    {
     "data": {
      "text/html": [
       "<div>\n",
       "<style scoped>\n",
       "    .dataframe tbody tr th:only-of-type {\n",
       "        vertical-align: middle;\n",
       "    }\n",
       "\n",
       "    .dataframe tbody tr th {\n",
       "        vertical-align: top;\n",
       "    }\n",
       "\n",
       "    .dataframe thead th {\n",
       "        text-align: right;\n",
       "    }\n",
       "</style>\n",
       "<table border=\"1\" class=\"dataframe\">\n",
       "  <thead>\n",
       "    <tr style=\"text-align: right;\">\n",
       "      <th></th>\n",
       "      <th>ccg_name</th>\n",
       "      <th>total_items</th>\n",
       "      <th>keppra_items</th>\n",
       "      <th>keppra_ratio</th>\n",
       "      <th>percentile</th>\n",
       "    </tr>\n",
       "    <tr>\n",
       "      <th>ccg</th>\n",
       "      <th></th>\n",
       "      <th></th>\n",
       "      <th></th>\n",
       "      <th></th>\n",
       "      <th></th>\n",
       "    </tr>\n",
       "  </thead>\n",
       "  <tbody>\n",
       "    <tr>\n",
       "      <th>10D</th>\n",
       "      <td>NHS SWALE CCG</td>\n",
       "      <td>270</td>\n",
       "      <td>1</td>\n",
       "      <td>0.003704</td>\n",
       "      <td>0.004831</td>\n",
       "    </tr>\n",
       "    <tr>\n",
       "      <th>00C</th>\n",
       "      <td>NHS DARLINGTON CCG</td>\n",
       "      <td>455</td>\n",
       "      <td>10</td>\n",
       "      <td>0.021978</td>\n",
       "      <td>0.009662</td>\n",
       "    </tr>\n",
       "    <tr>\n",
       "      <th>00M</th>\n",
       "      <td>NHS SOUTH TEES CCG</td>\n",
       "      <td>1328</td>\n",
       "      <td>37</td>\n",
       "      <td>0.027861</td>\n",
       "      <td>0.014493</td>\n",
       "    </tr>\n",
       "    <tr>\n",
       "      <th>11T</th>\n",
       "      <td>NHS NORTH SOMERSET CCG</td>\n",
       "      <td>880</td>\n",
       "      <td>27</td>\n",
       "      <td>0.030682</td>\n",
       "      <td>0.019324</td>\n",
       "    </tr>\n",
       "    <tr>\n",
       "      <th>13T</th>\n",
       "      <td>NHS NEWCASTLE GATESHEAD CCG</td>\n",
       "      <td>1851</td>\n",
       "      <td>61</td>\n",
       "      <td>0.032955</td>\n",
       "      <td>0.024155</td>\n",
       "    </tr>\n",
       "    <tr>\n",
       "      <th>06W</th>\n",
       "      <td>NHS NORWICH CCG</td>\n",
       "      <td>696</td>\n",
       "      <td>23</td>\n",
       "      <td>0.033046</td>\n",
       "      <td>0.028986</td>\n",
       "    </tr>\n",
       "    <tr>\n",
       "      <th>08J</th>\n",
       "      <td>NHS KINGSTON CCG</td>\n",
       "      <td>443</td>\n",
       "      <td>15</td>\n",
       "      <td>0.033860</td>\n",
       "      <td>0.033816</td>\n",
       "    </tr>\n",
       "    <tr>\n",
       "      <th>08Y</th>\n",
       "      <td>NHS WEST LONDON CCG</td>\n",
       "      <td>591</td>\n",
       "      <td>21</td>\n",
       "      <td>0.035533</td>\n",
       "      <td>0.038647</td>\n",
       "    </tr>\n",
       "    <tr>\n",
       "      <th>10C</th>\n",
       "      <td>NHS SURREY HEATH CCG</td>\n",
       "      <td>182</td>\n",
       "      <td>7</td>\n",
       "      <td>0.038462</td>\n",
       "      <td>0.043478</td>\n",
       "    </tr>\n",
       "    <tr>\n",
       "      <th>99N</th>\n",
       "      <td>NHS WILTSHIRE CCG</td>\n",
       "      <td>1113</td>\n",
       "      <td>46</td>\n",
       "      <td>0.041330</td>\n",
       "      <td>0.048309</td>\n",
       "    </tr>\n",
       "    <tr>\n",
       "      <th>06N</th>\n",
       "      <td>NHS HERTS VALLEYS CCG</td>\n",
       "      <td>1801</td>\n",
       "      <td>79</td>\n",
       "      <td>0.043865</td>\n",
       "      <td>0.053140</td>\n",
       "    </tr>\n",
       "    <tr>\n",
       "      <th>05D</th>\n",
       "      <td>NHS EAST STAFFORDSHIRE CCG</td>\n",
       "      <td>452</td>\n",
       "      <td>20</td>\n",
       "      <td>0.044248</td>\n",
       "      <td>0.057971</td>\n",
       "    </tr>\n",
       "    <tr>\n",
       "      <th>08D</th>\n",
       "      <td>NHS HARINGEY CCG</td>\n",
       "      <td>925</td>\n",
       "      <td>42</td>\n",
       "      <td>0.045405</td>\n",
       "      <td>0.062802</td>\n",
       "    </tr>\n",
       "    <tr>\n",
       "      <th>08V</th>\n",
       "      <td>NHS TOWER HAMLETS CCG</td>\n",
       "      <td>989</td>\n",
       "      <td>45</td>\n",
       "      <td>0.045501</td>\n",
       "      <td>0.067633</td>\n",
       "    </tr>\n",
       "    <tr>\n",
       "      <th>08G</th>\n",
       "      <td>NHS HILLINGDON CCG</td>\n",
       "      <td>961</td>\n",
       "      <td>44</td>\n",
       "      <td>0.045786</td>\n",
       "      <td>0.072464</td>\n",
       "    </tr>\n",
       "    <tr>\n",
       "      <th>00L</th>\n",
       "      <td>NHS NORTHUMBERLAND CCG</td>\n",
       "      <td>957</td>\n",
       "      <td>44</td>\n",
       "      <td>0.045977</td>\n",
       "      <td>0.077295</td>\n",
       "    </tr>\n",
       "    <tr>\n",
       "      <th>06P</th>\n",
       "      <td>NHS LUTON CCG</td>\n",
       "      <td>444</td>\n",
       "      <td>21</td>\n",
       "      <td>0.047297</td>\n",
       "      <td>0.082126</td>\n",
       "    </tr>\n",
       "    <tr>\n",
       "      <th>06M</th>\n",
       "      <td>NHS GREAT YARMOUTH AND WAVENEY CCG</td>\n",
       "      <td>761</td>\n",
       "      <td>37</td>\n",
       "      <td>0.048620</td>\n",
       "      <td>0.086957</td>\n",
       "    </tr>\n",
       "    <tr>\n",
       "      <th>10L</th>\n",
       "      <td>NHS ISLE OF WIGHT CCG</td>\n",
       "      <td>263</td>\n",
       "      <td>13</td>\n",
       "      <td>0.049430</td>\n",
       "      <td>0.091787</td>\n",
       "    </tr>\n",
       "    <tr>\n",
       "      <th>00K</th>\n",
       "      <td>NHS HARTLEPOOL AND STOCKTON-ON-TEES CCG</td>\n",
       "      <td>905</td>\n",
       "      <td>45</td>\n",
       "      <td>0.049724</td>\n",
       "      <td>0.096618</td>\n",
       "    </tr>\n",
       "    <tr>\n",
       "      <th>06F</th>\n",
       "      <td>NHS BEDFORDSHIRE CCG</td>\n",
       "      <td>1008</td>\n",
       "      <td>51</td>\n",
       "      <td>0.050595</td>\n",
       "      <td>0.101449</td>\n",
       "    </tr>\n",
       "    <tr>\n",
       "      <th>08Q</th>\n",
       "      <td>NHS SOUTHWARK CCG</td>\n",
       "      <td>943</td>\n",
       "      <td>49</td>\n",
       "      <td>0.051962</td>\n",
       "      <td>0.106280</td>\n",
       "    </tr>\n",
       "    <tr>\n",
       "      <th>11D</th>\n",
       "      <td>NHS WOKINGHAM CCG</td>\n",
       "      <td>370</td>\n",
       "      <td>20</td>\n",
       "      <td>0.054054</td>\n",
       "      <td>0.111111</td>\n",
       "    </tr>\n",
       "    <tr>\n",
       "      <th>08K</th>\n",
       "      <td>NHS LAMBETH CCG</td>\n",
       "      <td>1443</td>\n",
       "      <td>79</td>\n",
       "      <td>0.054747</td>\n",
       "      <td>0.115942</td>\n",
       "    </tr>\n",
       "    <tr>\n",
       "      <th>08P</th>\n",
       "      <td>NHS RICHMOND CCG</td>\n",
       "      <td>617</td>\n",
       "      <td>34</td>\n",
       "      <td>0.055105</td>\n",
       "      <td>0.120773</td>\n",
       "    </tr>\n",
       "    <tr>\n",
       "      <th>04H</th>\n",
       "      <td>NHS NEWARK AND SHERWOOD CCG</td>\n",
       "      <td>356</td>\n",
       "      <td>20</td>\n",
       "      <td>0.056180</td>\n",
       "      <td>0.125604</td>\n",
       "    </tr>\n",
       "    <tr>\n",
       "      <th>03X</th>\n",
       "      <td>NHS EREWASH CCG</td>\n",
       "      <td>248</td>\n",
       "      <td>14</td>\n",
       "      <td>0.056452</td>\n",
       "      <td>0.130435</td>\n",
       "    </tr>\n",
       "    <tr>\n",
       "      <th>07Y</th>\n",
       "      <td>NHS HOUNSLOW CCG</td>\n",
       "      <td>891</td>\n",
       "      <td>51</td>\n",
       "      <td>0.057239</td>\n",
       "      <td>0.135266</td>\n",
       "    </tr>\n",
       "    <tr>\n",
       "      <th>00N</th>\n",
       "      <td>NHS SOUTH TYNESIDE CCG</td>\n",
       "      <td>576</td>\n",
       "      <td>33</td>\n",
       "      <td>0.057292</td>\n",
       "      <td>0.140097</td>\n",
       "    </tr>\n",
       "    <tr>\n",
       "      <th>08W</th>\n",
       "      <td>NHS WALTHAM FOREST CCG</td>\n",
       "      <td>550</td>\n",
       "      <td>32</td>\n",
       "      <td>0.058182</td>\n",
       "      <td>0.144928</td>\n",
       "    </tr>\n",
       "    <tr>\n",
       "      <th>...</th>\n",
       "      <td>...</td>\n",
       "      <td>...</td>\n",
       "      <td>...</td>\n",
       "      <td>...</td>\n",
       "      <td>...</td>\n",
       "    </tr>\n",
       "    <tr>\n",
       "      <th>01E</th>\n",
       "      <td>NHS GREATER PRESTON CCG</td>\n",
       "      <td>855</td>\n",
       "      <td>157</td>\n",
       "      <td>0.183626</td>\n",
       "      <td>0.859903</td>\n",
       "    </tr>\n",
       "    <tr>\n",
       "      <th>01W</th>\n",
       "      <td>NHS STOCKPORT CCG</td>\n",
       "      <td>872</td>\n",
       "      <td>161</td>\n",
       "      <td>0.184633</td>\n",
       "      <td>0.864734</td>\n",
       "    </tr>\n",
       "    <tr>\n",
       "      <th>99Q</th>\n",
       "      <td>NHS SOUTH DEVON AND TORBAY CCG</td>\n",
       "      <td>768</td>\n",
       "      <td>142</td>\n",
       "      <td>0.184896</td>\n",
       "      <td>0.869565</td>\n",
       "    </tr>\n",
       "    <tr>\n",
       "      <th>09J</th>\n",
       "      <td>NHS DARTFORD, GRAVESHAM AND SWANLEY CCG</td>\n",
       "      <td>704</td>\n",
       "      <td>131</td>\n",
       "      <td>0.186080</td>\n",
       "      <td>0.874396</td>\n",
       "    </tr>\n",
       "    <tr>\n",
       "      <th>04Q</th>\n",
       "      <td>NHS SOUTH WEST LINCOLNSHIRE CCG</td>\n",
       "      <td>424</td>\n",
       "      <td>82</td>\n",
       "      <td>0.193396</td>\n",
       "      <td>0.879227</td>\n",
       "    </tr>\n",
       "    <tr>\n",
       "      <th>06L</th>\n",
       "      <td>NHS IPSWICH AND EAST SUFFOLK CCG</td>\n",
       "      <td>1003</td>\n",
       "      <td>198</td>\n",
       "      <td>0.197408</td>\n",
       "      <td>0.884058</td>\n",
       "    </tr>\n",
       "    <tr>\n",
       "      <th>11N</th>\n",
       "      <td>NHS KERNOW CCG</td>\n",
       "      <td>1366</td>\n",
       "      <td>275</td>\n",
       "      <td>0.201318</td>\n",
       "      <td>0.888889</td>\n",
       "    </tr>\n",
       "    <tr>\n",
       "      <th>02X</th>\n",
       "      <td>NHS DONCASTER CCG</td>\n",
       "      <td>824</td>\n",
       "      <td>167</td>\n",
       "      <td>0.202670</td>\n",
       "      <td>0.893720</td>\n",
       "    </tr>\n",
       "    <tr>\n",
       "      <th>03A</th>\n",
       "      <td>NHS GREATER HUDDERSFIELD CCG</td>\n",
       "      <td>685</td>\n",
       "      <td>139</td>\n",
       "      <td>0.202920</td>\n",
       "      <td>0.898551</td>\n",
       "    </tr>\n",
       "    <tr>\n",
       "      <th>01G</th>\n",
       "      <td>NHS SALFORD CCG</td>\n",
       "      <td>1189</td>\n",
       "      <td>244</td>\n",
       "      <td>0.205214</td>\n",
       "      <td>0.903382</td>\n",
       "    </tr>\n",
       "    <tr>\n",
       "      <th>09P</th>\n",
       "      <td>NHS HASTINGS AND ROTHER CCG</td>\n",
       "      <td>528</td>\n",
       "      <td>109</td>\n",
       "      <td>0.206439</td>\n",
       "      <td>0.908213</td>\n",
       "    </tr>\n",
       "    <tr>\n",
       "      <th>05W</th>\n",
       "      <td>NHS STOKE ON TRENT CCG</td>\n",
       "      <td>1135</td>\n",
       "      <td>246</td>\n",
       "      <td>0.216740</td>\n",
       "      <td>0.913043</td>\n",
       "    </tr>\n",
       "    <tr>\n",
       "      <th>03M</th>\n",
       "      <td>NHS SCARBOROUGH AND RYEDALE CCG</td>\n",
       "      <td>350</td>\n",
       "      <td>76</td>\n",
       "      <td>0.217143</td>\n",
       "      <td>0.917874</td>\n",
       "    </tr>\n",
       "    <tr>\n",
       "      <th>09F</th>\n",
       "      <td>NHS EASTBOURNE, HAILSHAM AND SEAFORD CCG</td>\n",
       "      <td>510</td>\n",
       "      <td>111</td>\n",
       "      <td>0.217647</td>\n",
       "      <td>0.922705</td>\n",
       "    </tr>\n",
       "    <tr>\n",
       "      <th>02G</th>\n",
       "      <td>NHS WEST LANCASHIRE CCG</td>\n",
       "      <td>255</td>\n",
       "      <td>57</td>\n",
       "      <td>0.223529</td>\n",
       "      <td>0.927536</td>\n",
       "    </tr>\n",
       "    <tr>\n",
       "      <th>01K</th>\n",
       "      <td>NHS MORECAMBE BAY CCG</td>\n",
       "      <td>1193</td>\n",
       "      <td>267</td>\n",
       "      <td>0.223806</td>\n",
       "      <td>0.932367</td>\n",
       "    </tr>\n",
       "    <tr>\n",
       "      <th>03Q</th>\n",
       "      <td>NHS VALE OF YORK CCG</td>\n",
       "      <td>739</td>\n",
       "      <td>167</td>\n",
       "      <td>0.225981</td>\n",
       "      <td>0.937198</td>\n",
       "    </tr>\n",
       "    <tr>\n",
       "      <th>01T</th>\n",
       "      <td>NHS SOUTH SEFTON CCG</td>\n",
       "      <td>392</td>\n",
       "      <td>89</td>\n",
       "      <td>0.227041</td>\n",
       "      <td>0.942029</td>\n",
       "    </tr>\n",
       "    <tr>\n",
       "      <th>13P</th>\n",
       "      <td>NHS BIRMINGHAM CROSSCITY CCG</td>\n",
       "      <td>1784</td>\n",
       "      <td>418</td>\n",
       "      <td>0.234305</td>\n",
       "      <td>0.946860</td>\n",
       "    </tr>\n",
       "    <tr>\n",
       "      <th>09E</th>\n",
       "      <td>NHS CANTERBURY AND COASTAL CCG</td>\n",
       "      <td>556</td>\n",
       "      <td>132</td>\n",
       "      <td>0.237410</td>\n",
       "      <td>0.951691</td>\n",
       "    </tr>\n",
       "    <tr>\n",
       "      <th>09C</th>\n",
       "      <td>NHS ASHFORD CCG</td>\n",
       "      <td>327</td>\n",
       "      <td>82</td>\n",
       "      <td>0.250765</td>\n",
       "      <td>0.956522</td>\n",
       "    </tr>\n",
       "    <tr>\n",
       "      <th>00Q</th>\n",
       "      <td>NHS BLACKBURN WITH DARWEN CCG</td>\n",
       "      <td>462</td>\n",
       "      <td>121</td>\n",
       "      <td>0.261905</td>\n",
       "      <td>0.961353</td>\n",
       "    </tr>\n",
       "    <tr>\n",
       "      <th>01R</th>\n",
       "      <td>NHS SOUTH CHESHIRE CCG</td>\n",
       "      <td>408</td>\n",
       "      <td>109</td>\n",
       "      <td>0.267157</td>\n",
       "      <td>0.966184</td>\n",
       "    </tr>\n",
       "    <tr>\n",
       "      <th>01A</th>\n",
       "      <td>NHS EAST LANCASHIRE CCG</td>\n",
       "      <td>1203</td>\n",
       "      <td>332</td>\n",
       "      <td>0.275977</td>\n",
       "      <td>0.971014</td>\n",
       "    </tr>\n",
       "    <tr>\n",
       "      <th>01C</th>\n",
       "      <td>NHS EASTERN CHESHIRE CCG</td>\n",
       "      <td>584</td>\n",
       "      <td>163</td>\n",
       "      <td>0.279110</td>\n",
       "      <td>0.975845</td>\n",
       "    </tr>\n",
       "    <tr>\n",
       "      <th>05V</th>\n",
       "      <td>NHS STAFFORD AND SURROUNDS CCG</td>\n",
       "      <td>485</td>\n",
       "      <td>142</td>\n",
       "      <td>0.292784</td>\n",
       "      <td>0.980676</td>\n",
       "    </tr>\n",
       "    <tr>\n",
       "      <th>00T</th>\n",
       "      <td>NHS BOLTON CCG</td>\n",
       "      <td>675</td>\n",
       "      <td>208</td>\n",
       "      <td>0.308148</td>\n",
       "      <td>0.985507</td>\n",
       "    </tr>\n",
       "    <tr>\n",
       "      <th>05G</th>\n",
       "      <td>NHS NORTH STAFFORDSHIRE CCG</td>\n",
       "      <td>625</td>\n",
       "      <td>196</td>\n",
       "      <td>0.313600</td>\n",
       "      <td>0.990338</td>\n",
       "    </tr>\n",
       "    <tr>\n",
       "      <th>12F</th>\n",
       "      <td>NHS WIRRAL CCG</td>\n",
       "      <td>899</td>\n",
       "      <td>329</td>\n",
       "      <td>0.365962</td>\n",
       "      <td>0.995169</td>\n",
       "    </tr>\n",
       "    <tr>\n",
       "      <th>05Y</th>\n",
       "      <td>NHS WALSALL CCG</td>\n",
       "      <td>882</td>\n",
       "      <td>366</td>\n",
       "      <td>0.414966</td>\n",
       "      <td>1.000000</td>\n",
       "    </tr>\n",
       "  </tbody>\n",
       "</table>\n",
       "<p>207 rows × 5 columns</p>\n",
       "</div>"
      ],
      "text/plain": [
       "                                     ccg_name  total_items  keppra_items  \\\n",
       "ccg                                                                        \n",
       "10D                             NHS SWALE CCG          270             1   \n",
       "00C                        NHS DARLINGTON CCG          455            10   \n",
       "00M                        NHS SOUTH TEES CCG         1328            37   \n",
       "11T                    NHS NORTH SOMERSET CCG          880            27   \n",
       "13T               NHS NEWCASTLE GATESHEAD CCG         1851            61   \n",
       "06W                           NHS NORWICH CCG          696            23   \n",
       "08J                          NHS KINGSTON CCG          443            15   \n",
       "08Y                       NHS WEST LONDON CCG          591            21   \n",
       "10C                      NHS SURREY HEATH CCG          182             7   \n",
       "99N                         NHS WILTSHIRE CCG         1113            46   \n",
       "06N                     NHS HERTS VALLEYS CCG         1801            79   \n",
       "05D                NHS EAST STAFFORDSHIRE CCG          452            20   \n",
       "08D                          NHS HARINGEY CCG          925            42   \n",
       "08V                     NHS TOWER HAMLETS CCG          989            45   \n",
       "08G                        NHS HILLINGDON CCG          961            44   \n",
       "00L                    NHS NORTHUMBERLAND CCG          957            44   \n",
       "06P                             NHS LUTON CCG          444            21   \n",
       "06M        NHS GREAT YARMOUTH AND WAVENEY CCG          761            37   \n",
       "10L                     NHS ISLE OF WIGHT CCG          263            13   \n",
       "00K   NHS HARTLEPOOL AND STOCKTON-ON-TEES CCG          905            45   \n",
       "06F                      NHS BEDFORDSHIRE CCG         1008            51   \n",
       "08Q                         NHS SOUTHWARK CCG          943            49   \n",
       "11D                         NHS WOKINGHAM CCG          370            20   \n",
       "08K                           NHS LAMBETH CCG         1443            79   \n",
       "08P                          NHS RICHMOND CCG          617            34   \n",
       "04H               NHS NEWARK AND SHERWOOD CCG          356            20   \n",
       "03X                           NHS EREWASH CCG          248            14   \n",
       "07Y                          NHS HOUNSLOW CCG          891            51   \n",
       "00N                    NHS SOUTH TYNESIDE CCG          576            33   \n",
       "08W                    NHS WALTHAM FOREST CCG          550            32   \n",
       "..                                        ...          ...           ...   \n",
       "01E                   NHS GREATER PRESTON CCG          855           157   \n",
       "01W                         NHS STOCKPORT CCG          872           161   \n",
       "99Q            NHS SOUTH DEVON AND TORBAY CCG          768           142   \n",
       "09J   NHS DARTFORD, GRAVESHAM AND SWANLEY CCG          704           131   \n",
       "04Q           NHS SOUTH WEST LINCOLNSHIRE CCG          424            82   \n",
       "06L          NHS IPSWICH AND EAST SUFFOLK CCG         1003           198   \n",
       "11N                            NHS KERNOW CCG         1366           275   \n",
       "02X                         NHS DONCASTER CCG          824           167   \n",
       "03A              NHS GREATER HUDDERSFIELD CCG          685           139   \n",
       "01G                           NHS SALFORD CCG         1189           244   \n",
       "09P               NHS HASTINGS AND ROTHER CCG          528           109   \n",
       "05W                    NHS STOKE ON TRENT CCG         1135           246   \n",
       "03M           NHS SCARBOROUGH AND RYEDALE CCG          350            76   \n",
       "09F  NHS EASTBOURNE, HAILSHAM AND SEAFORD CCG          510           111   \n",
       "02G                   NHS WEST LANCASHIRE CCG          255            57   \n",
       "01K                     NHS MORECAMBE BAY CCG         1193           267   \n",
       "03Q                      NHS VALE OF YORK CCG          739           167   \n",
       "01T                      NHS SOUTH SEFTON CCG          392            89   \n",
       "13P              NHS BIRMINGHAM CROSSCITY CCG         1784           418   \n",
       "09E            NHS CANTERBURY AND COASTAL CCG          556           132   \n",
       "09C                           NHS ASHFORD CCG          327            82   \n",
       "00Q             NHS BLACKBURN WITH DARWEN CCG          462           121   \n",
       "01R                    NHS SOUTH CHESHIRE CCG          408           109   \n",
       "01A                   NHS EAST LANCASHIRE CCG         1203           332   \n",
       "01C                  NHS EASTERN CHESHIRE CCG          584           163   \n",
       "05V            NHS STAFFORD AND SURROUNDS CCG          485           142   \n",
       "00T                            NHS BOLTON CCG          675           208   \n",
       "05G               NHS NORTH STAFFORDSHIRE CCG          625           196   \n",
       "12F                            NHS WIRRAL CCG          899           329   \n",
       "05Y                           NHS WALSALL CCG          882           366   \n",
       "\n",
       "     keppra_ratio  percentile  \n",
       "ccg                            \n",
       "10D      0.003704    0.004831  \n",
       "00C      0.021978    0.009662  \n",
       "00M      0.027861    0.014493  \n",
       "11T      0.030682    0.019324  \n",
       "13T      0.032955    0.024155  \n",
       "06W      0.033046    0.028986  \n",
       "08J      0.033860    0.033816  \n",
       "08Y      0.035533    0.038647  \n",
       "10C      0.038462    0.043478  \n",
       "99N      0.041330    0.048309  \n",
       "06N      0.043865    0.053140  \n",
       "05D      0.044248    0.057971  \n",
       "08D      0.045405    0.062802  \n",
       "08V      0.045501    0.067633  \n",
       "08G      0.045786    0.072464  \n",
       "00L      0.045977    0.077295  \n",
       "06P      0.047297    0.082126  \n",
       "06M      0.048620    0.086957  \n",
       "10L      0.049430    0.091787  \n",
       "00K      0.049724    0.096618  \n",
       "06F      0.050595    0.101449  \n",
       "08Q      0.051962    0.106280  \n",
       "11D      0.054054    0.111111  \n",
       "08K      0.054747    0.115942  \n",
       "08P      0.055105    0.120773  \n",
       "04H      0.056180    0.125604  \n",
       "03X      0.056452    0.130435  \n",
       "07Y      0.057239    0.135266  \n",
       "00N      0.057292    0.140097  \n",
       "08W      0.058182    0.144928  \n",
       "..            ...         ...  \n",
       "01E      0.183626    0.859903  \n",
       "01W      0.184633    0.864734  \n",
       "99Q      0.184896    0.869565  \n",
       "09J      0.186080    0.874396  \n",
       "04Q      0.193396    0.879227  \n",
       "06L      0.197408    0.884058  \n",
       "11N      0.201318    0.888889  \n",
       "02X      0.202670    0.893720  \n",
       "03A      0.202920    0.898551  \n",
       "01G      0.205214    0.903382  \n",
       "09P      0.206439    0.908213  \n",
       "05W      0.216740    0.913043  \n",
       "03M      0.217143    0.917874  \n",
       "09F      0.217647    0.922705  \n",
       "02G      0.223529    0.927536  \n",
       "01K      0.223806    0.932367  \n",
       "03Q      0.225981    0.937198  \n",
       "01T      0.227041    0.942029  \n",
       "13P      0.234305    0.946860  \n",
       "09E      0.237410    0.951691  \n",
       "09C      0.250765    0.956522  \n",
       "00Q      0.261905    0.961353  \n",
       "01R      0.267157    0.966184  \n",
       "01A      0.275977    0.971014  \n",
       "01C      0.279110    0.975845  \n",
       "05V      0.292784    0.980676  \n",
       "00T      0.308148    0.985507  \n",
       "05G      0.313600    0.990338  \n",
       "12F      0.365962    0.995169  \n",
       "05Y      0.414966    1.000000  \n",
       "\n",
       "[207 rows x 5 columns]"
      ]
     },
     "execution_count": 29,
     "metadata": {},
     "output_type": "execute_result"
    }
   ],
   "source": [
    "ccgs.sort_values('percentile')"
   ]
  },
  {
   "cell_type": "markdown",
   "metadata": {},
   "source": [
    "### Dealing with missing data"
   ]
  },
  {
   "cell_type": "markdown",
   "metadata": {},
   "source": [
    "Let's look at practices in CCG 99P, and try to reproduce the above analysis."
   ]
  },
  {
   "cell_type": "code",
   "execution_count": 30,
   "metadata": {},
   "outputs": [],
   "source": [
    "prescriptions_for_99P = prescriptions[prescriptions['ccg'] == '99P']"
   ]
  },
  {
   "cell_type": "code",
   "execution_count": 31,
   "metadata": {},
   "outputs": [
    {
     "data": {
      "text/html": [
       "<div>\n",
       "<style scoped>\n",
       "    .dataframe tbody tr th:only-of-type {\n",
       "        vertical-align: middle;\n",
       "    }\n",
       "\n",
       "    .dataframe tbody tr th {\n",
       "        vertical-align: top;\n",
       "    }\n",
       "\n",
       "    .dataframe thead th {\n",
       "        text-align: right;\n",
       "    }\n",
       "</style>\n",
       "<table border=\"1\" class=\"dataframe\">\n",
       "  <thead>\n",
       "    <tr style=\"text-align: right;\">\n",
       "      <th></th>\n",
       "      <th>ccg</th>\n",
       "      <th>ccg_name</th>\n",
       "      <th>practice</th>\n",
       "      <th>practice_name</th>\n",
       "      <th>bnf_code</th>\n",
       "      <th>bnf_name</th>\n",
       "      <th>items</th>\n",
       "    </tr>\n",
       "  </thead>\n",
       "  <tbody>\n",
       "    <tr>\n",
       "      <th>36654</th>\n",
       "      <td>99P</td>\n",
       "      <td>NHS NORTHERN, EASTERN AND WESTERN DEVON CCG</td>\n",
       "      <td>L83002</td>\n",
       "      <td>HONITON SURGERY</td>\n",
       "      <td>0408010A0AAAAAA</td>\n",
       "      <td>Levetiracetam_Tab 250mg</td>\n",
       "      <td>15</td>\n",
       "    </tr>\n",
       "    <tr>\n",
       "      <th>36655</th>\n",
       "      <td>99P</td>\n",
       "      <td>NHS NORTHERN, EASTERN AND WESTERN DEVON CCG</td>\n",
       "      <td>L83002</td>\n",
       "      <td>HONITON SURGERY</td>\n",
       "      <td>0408010A0AAABAB</td>\n",
       "      <td>Levetiracetam_Tab 500mg</td>\n",
       "      <td>30</td>\n",
       "    </tr>\n",
       "    <tr>\n",
       "      <th>36656</th>\n",
       "      <td>99P</td>\n",
       "      <td>NHS NORTHERN, EASTERN AND WESTERN DEVON CCG</td>\n",
       "      <td>L83002</td>\n",
       "      <td>HONITON SURGERY</td>\n",
       "      <td>0408010A0AAACAC</td>\n",
       "      <td>Levetiracetam_Tab 1g</td>\n",
       "      <td>8</td>\n",
       "    </tr>\n",
       "    <tr>\n",
       "      <th>36657</th>\n",
       "      <td>99P</td>\n",
       "      <td>NHS NORTHERN, EASTERN AND WESTERN DEVON CCG</td>\n",
       "      <td>L83002</td>\n",
       "      <td>HONITON SURGERY</td>\n",
       "      <td>0408010A0AAAIAI</td>\n",
       "      <td>Levetiracetam_Tab 750mg</td>\n",
       "      <td>7</td>\n",
       "    </tr>\n",
       "    <tr>\n",
       "      <th>36658</th>\n",
       "      <td>99P</td>\n",
       "      <td>NHS NORTHERN, EASTERN AND WESTERN DEVON CCG</td>\n",
       "      <td>L83002</td>\n",
       "      <td>HONITON SURGERY</td>\n",
       "      <td>0408010A0BBABAB</td>\n",
       "      <td>Keppra_Tab 500mg</td>\n",
       "      <td>4</td>\n",
       "    </tr>\n",
       "  </tbody>\n",
       "</table>\n",
       "</div>"
      ],
      "text/plain": [
       "       ccg                                     ccg_name practice  \\\n",
       "36654  99P  NHS NORTHERN, EASTERN AND WESTERN DEVON CCG   L83002   \n",
       "36655  99P  NHS NORTHERN, EASTERN AND WESTERN DEVON CCG   L83002   \n",
       "36656  99P  NHS NORTHERN, EASTERN AND WESTERN DEVON CCG   L83002   \n",
       "36657  99P  NHS NORTHERN, EASTERN AND WESTERN DEVON CCG   L83002   \n",
       "36658  99P  NHS NORTHERN, EASTERN AND WESTERN DEVON CCG   L83002   \n",
       "\n",
       "         practice_name         bnf_code                 bnf_name  items  \n",
       "36654  HONITON SURGERY  0408010A0AAAAAA  Levetiracetam_Tab 250mg     15  \n",
       "36655  HONITON SURGERY  0408010A0AAABAB  Levetiracetam_Tab 500mg     30  \n",
       "36656  HONITON SURGERY  0408010A0AAACAC     Levetiracetam_Tab 1g      8  \n",
       "36657  HONITON SURGERY  0408010A0AAAIAI  Levetiracetam_Tab 750mg      7  \n",
       "36658  HONITON SURGERY  0408010A0BBABAB         Keppra_Tab 500mg      4  "
      ]
     },
     "execution_count": 31,
     "metadata": {},
     "output_type": "execute_result"
    }
   ],
   "source": [
    "prescriptions_for_99P.head()"
   ]
  },
  {
   "cell_type": "code",
   "execution_count": 32,
   "metadata": {},
   "outputs": [],
   "source": [
    "practices = prescriptions_for_99P[['practice', 'practice_name']].drop_duplicates().set_index('practice')"
   ]
  },
  {
   "cell_type": "code",
   "execution_count": 33,
   "metadata": {},
   "outputs": [
    {
     "data": {
      "text/html": [
       "<div>\n",
       "<style scoped>\n",
       "    .dataframe tbody tr th:only-of-type {\n",
       "        vertical-align: middle;\n",
       "    }\n",
       "\n",
       "    .dataframe tbody tr th {\n",
       "        vertical-align: top;\n",
       "    }\n",
       "\n",
       "    .dataframe thead th {\n",
       "        text-align: right;\n",
       "    }\n",
       "</style>\n",
       "<table border=\"1\" class=\"dataframe\">\n",
       "  <thead>\n",
       "    <tr style=\"text-align: right;\">\n",
       "      <th></th>\n",
       "      <th>practice_name</th>\n",
       "    </tr>\n",
       "    <tr>\n",
       "      <th>practice</th>\n",
       "      <th></th>\n",
       "    </tr>\n",
       "  </thead>\n",
       "  <tbody>\n",
       "    <tr>\n",
       "      <th>L83002</th>\n",
       "      <td>HONITON SURGERY</td>\n",
       "    </tr>\n",
       "    <tr>\n",
       "      <th>L83003</th>\n",
       "      <td>QUEEN'S MEDICAL CENTRE</td>\n",
       "    </tr>\n",
       "    <tr>\n",
       "      <th>L83006</th>\n",
       "      <td>ERNESETTLE PRIMARY CARE CENTRE</td>\n",
       "    </tr>\n",
       "    <tr>\n",
       "      <th>L83007</th>\n",
       "      <td>SEATON &amp; COLYTON MEDICAL PRACTICE</td>\n",
       "    </tr>\n",
       "    <tr>\n",
       "      <th>L83008</th>\n",
       "      <td>PATHFIELDS PRACTICE</td>\n",
       "    </tr>\n",
       "  </tbody>\n",
       "</table>\n",
       "</div>"
      ],
      "text/plain": [
       "                              practice_name\n",
       "practice                                   \n",
       "L83002                      HONITON SURGERY\n",
       "L83003               QUEEN'S MEDICAL CENTRE\n",
       "L83006       ERNESETTLE PRIMARY CARE CENTRE\n",
       "L83007    SEATON & COLYTON MEDICAL PRACTICE\n",
       "L83008                  PATHFIELDS PRACTICE"
      ]
     },
     "execution_count": 33,
     "metadata": {},
     "output_type": "execute_result"
    }
   ],
   "source": [
    "practices.head()"
   ]
  },
  {
   "cell_type": "code",
   "execution_count": 34,
   "metadata": {},
   "outputs": [],
   "source": [
    "practices['total_items'] = prescriptions_for_99P.groupby('practice')['items'].sum()"
   ]
  },
  {
   "cell_type": "code",
   "execution_count": 35,
   "metadata": {},
   "outputs": [
    {
     "data": {
      "text/html": [
       "<div>\n",
       "<style scoped>\n",
       "    .dataframe tbody tr th:only-of-type {\n",
       "        vertical-align: middle;\n",
       "    }\n",
       "\n",
       "    .dataframe tbody tr th {\n",
       "        vertical-align: top;\n",
       "    }\n",
       "\n",
       "    .dataframe thead th {\n",
       "        text-align: right;\n",
       "    }\n",
       "</style>\n",
       "<table border=\"1\" class=\"dataframe\">\n",
       "  <thead>\n",
       "    <tr style=\"text-align: right;\">\n",
       "      <th></th>\n",
       "      <th>practice_name</th>\n",
       "      <th>total_items</th>\n",
       "    </tr>\n",
       "    <tr>\n",
       "      <th>practice</th>\n",
       "      <th></th>\n",
       "      <th></th>\n",
       "    </tr>\n",
       "  </thead>\n",
       "  <tbody>\n",
       "    <tr>\n",
       "      <th>L83002</th>\n",
       "      <td>HONITON SURGERY</td>\n",
       "      <td>65</td>\n",
       "    </tr>\n",
       "    <tr>\n",
       "      <th>L83003</th>\n",
       "      <td>QUEEN'S MEDICAL CENTRE</td>\n",
       "      <td>16</td>\n",
       "    </tr>\n",
       "    <tr>\n",
       "      <th>L83006</th>\n",
       "      <td>ERNESETTLE PRIMARY CARE CENTRE</td>\n",
       "      <td>44</td>\n",
       "    </tr>\n",
       "    <tr>\n",
       "      <th>L83007</th>\n",
       "      <td>SEATON &amp; COLYTON MEDICAL PRACTICE</td>\n",
       "      <td>19</td>\n",
       "    </tr>\n",
       "    <tr>\n",
       "      <th>L83008</th>\n",
       "      <td>PATHFIELDS PRACTICE</td>\n",
       "      <td>82</td>\n",
       "    </tr>\n",
       "  </tbody>\n",
       "</table>\n",
       "</div>"
      ],
      "text/plain": [
       "                              practice_name  total_items\n",
       "practice                                                \n",
       "L83002                      HONITON SURGERY           65\n",
       "L83003               QUEEN'S MEDICAL CENTRE           16\n",
       "L83006       ERNESETTLE PRIMARY CARE CENTRE           44\n",
       "L83007    SEATON & COLYTON MEDICAL PRACTICE           19\n",
       "L83008                  PATHFIELDS PRACTICE           82"
      ]
     },
     "execution_count": 35,
     "metadata": {},
     "output_type": "execute_result"
    }
   ],
   "source": [
    "practices.head()"
   ]
  },
  {
   "cell_type": "code",
   "execution_count": 43,
   "metadata": {},
   "outputs": [],
   "source": [
    "keppra_prescriptions_for_99P = prescriptions_for_99P[prescriptions_for_99P['bnf_code'].str.startswith('0408010A0BB')]"
   ]
  },
  {
   "cell_type": "code",
   "execution_count": 50,
   "metadata": {},
   "outputs": [],
   "source": [
    "practices['keppra_items'] = keppra_prescriptions_for_99P.groupby('practice')['items'].sum()"
   ]
  },
  {
   "cell_type": "code",
   "execution_count": 51,
   "metadata": {},
   "outputs": [
    {
     "data": {
      "text/html": [
       "<div>\n",
       "<style scoped>\n",
       "    .dataframe tbody tr th:only-of-type {\n",
       "        vertical-align: middle;\n",
       "    }\n",
       "\n",
       "    .dataframe tbody tr th {\n",
       "        vertical-align: top;\n",
       "    }\n",
       "\n",
       "    .dataframe thead th {\n",
       "        text-align: right;\n",
       "    }\n",
       "</style>\n",
       "<table border=\"1\" class=\"dataframe\">\n",
       "  <thead>\n",
       "    <tr style=\"text-align: right;\">\n",
       "      <th></th>\n",
       "      <th>practice_name</th>\n",
       "      <th>total_items</th>\n",
       "      <th>keppra_items</th>\n",
       "    </tr>\n",
       "    <tr>\n",
       "      <th>practice</th>\n",
       "      <th></th>\n",
       "      <th></th>\n",
       "      <th></th>\n",
       "    </tr>\n",
       "  </thead>\n",
       "  <tbody>\n",
       "    <tr>\n",
       "      <th>L83002</th>\n",
       "      <td>HONITON SURGERY</td>\n",
       "      <td>65</td>\n",
       "      <td>4.0</td>\n",
       "    </tr>\n",
       "    <tr>\n",
       "      <th>L83003</th>\n",
       "      <td>QUEEN'S MEDICAL CENTRE</td>\n",
       "      <td>16</td>\n",
       "      <td>NaN</td>\n",
       "    </tr>\n",
       "    <tr>\n",
       "      <th>L83006</th>\n",
       "      <td>ERNESETTLE PRIMARY CARE CENTRE</td>\n",
       "      <td>44</td>\n",
       "      <td>8.0</td>\n",
       "    </tr>\n",
       "    <tr>\n",
       "      <th>L83007</th>\n",
       "      <td>SEATON &amp; COLYTON MEDICAL PRACTICE</td>\n",
       "      <td>19</td>\n",
       "      <td>NaN</td>\n",
       "    </tr>\n",
       "    <tr>\n",
       "      <th>L83008</th>\n",
       "      <td>PATHFIELDS PRACTICE</td>\n",
       "      <td>82</td>\n",
       "      <td>5.0</td>\n",
       "    </tr>\n",
       "  </tbody>\n",
       "</table>\n",
       "</div>"
      ],
      "text/plain": [
       "                              practice_name  total_items  keppra_items\n",
       "practice                                                              \n",
       "L83002                      HONITON SURGERY           65           4.0\n",
       "L83003               QUEEN'S MEDICAL CENTRE           16           NaN\n",
       "L83006       ERNESETTLE PRIMARY CARE CENTRE           44           8.0\n",
       "L83007    SEATON & COLYTON MEDICAL PRACTICE           19           NaN\n",
       "L83008                  PATHFIELDS PRACTICE           82           5.0"
      ]
     },
     "execution_count": 51,
     "metadata": {},
     "output_type": "execute_result"
    }
   ],
   "source": [
    "practices.head()"
   ]
  },
  {
   "cell_type": "markdown",
   "metadata": {},
   "source": [
    "What's going on here?"
   ]
  },
  {
   "cell_type": "code",
   "execution_count": 54,
   "metadata": {},
   "outputs": [],
   "source": [
    "practices.fillna({'keppra_items': 0}, inplace=True)"
   ]
  },
  {
   "cell_type": "code",
   "execution_count": 55,
   "metadata": {},
   "outputs": [
    {
     "data": {
      "text/html": [
       "<div>\n",
       "<style scoped>\n",
       "    .dataframe tbody tr th:only-of-type {\n",
       "        vertical-align: middle;\n",
       "    }\n",
       "\n",
       "    .dataframe tbody tr th {\n",
       "        vertical-align: top;\n",
       "    }\n",
       "\n",
       "    .dataframe thead th {\n",
       "        text-align: right;\n",
       "    }\n",
       "</style>\n",
       "<table border=\"1\" class=\"dataframe\">\n",
       "  <thead>\n",
       "    <tr style=\"text-align: right;\">\n",
       "      <th></th>\n",
       "      <th>practice_name</th>\n",
       "      <th>total_items</th>\n",
       "      <th>keppra_items</th>\n",
       "    </tr>\n",
       "    <tr>\n",
       "      <th>practice</th>\n",
       "      <th></th>\n",
       "      <th></th>\n",
       "      <th></th>\n",
       "    </tr>\n",
       "  </thead>\n",
       "  <tbody>\n",
       "    <tr>\n",
       "      <th>L83002</th>\n",
       "      <td>HONITON SURGERY</td>\n",
       "      <td>65</td>\n",
       "      <td>4.0</td>\n",
       "    </tr>\n",
       "    <tr>\n",
       "      <th>L83003</th>\n",
       "      <td>QUEEN'S MEDICAL CENTRE</td>\n",
       "      <td>16</td>\n",
       "      <td>0.0</td>\n",
       "    </tr>\n",
       "    <tr>\n",
       "      <th>L83006</th>\n",
       "      <td>ERNESETTLE PRIMARY CARE CENTRE</td>\n",
       "      <td>44</td>\n",
       "      <td>8.0</td>\n",
       "    </tr>\n",
       "    <tr>\n",
       "      <th>L83007</th>\n",
       "      <td>SEATON &amp; COLYTON MEDICAL PRACTICE</td>\n",
       "      <td>19</td>\n",
       "      <td>0.0</td>\n",
       "    </tr>\n",
       "    <tr>\n",
       "      <th>L83008</th>\n",
       "      <td>PATHFIELDS PRACTICE</td>\n",
       "      <td>82</td>\n",
       "      <td>5.0</td>\n",
       "    </tr>\n",
       "  </tbody>\n",
       "</table>\n",
       "</div>"
      ],
      "text/plain": [
       "                              practice_name  total_items  keppra_items\n",
       "practice                                                              \n",
       "L83002                      HONITON SURGERY           65           4.0\n",
       "L83003               QUEEN'S MEDICAL CENTRE           16           0.0\n",
       "L83006       ERNESETTLE PRIMARY CARE CENTRE           44           8.0\n",
       "L83007    SEATON & COLYTON MEDICAL PRACTICE           19           0.0\n",
       "L83008                  PATHFIELDS PRACTICE           82           5.0"
      ]
     },
     "execution_count": 55,
     "metadata": {},
     "output_type": "execute_result"
    }
   ],
   "source": [
    "practices.head()"
   ]
  },
  {
   "cell_type": "code",
   "execution_count": 56,
   "metadata": {},
   "outputs": [],
   "source": [
    "practices['keppra_items'] = practices['keppra_items'].astype(int)"
   ]
  },
  {
   "cell_type": "code",
   "execution_count": 57,
   "metadata": {},
   "outputs": [
    {
     "data": {
      "text/html": [
       "<div>\n",
       "<style scoped>\n",
       "    .dataframe tbody tr th:only-of-type {\n",
       "        vertical-align: middle;\n",
       "    }\n",
       "\n",
       "    .dataframe tbody tr th {\n",
       "        vertical-align: top;\n",
       "    }\n",
       "\n",
       "    .dataframe thead th {\n",
       "        text-align: right;\n",
       "    }\n",
       "</style>\n",
       "<table border=\"1\" class=\"dataframe\">\n",
       "  <thead>\n",
       "    <tr style=\"text-align: right;\">\n",
       "      <th></th>\n",
       "      <th>practice_name</th>\n",
       "      <th>total_items</th>\n",
       "      <th>keppra_items</th>\n",
       "    </tr>\n",
       "    <tr>\n",
       "      <th>practice</th>\n",
       "      <th></th>\n",
       "      <th></th>\n",
       "      <th></th>\n",
       "    </tr>\n",
       "  </thead>\n",
       "  <tbody>\n",
       "    <tr>\n",
       "      <th>L83002</th>\n",
       "      <td>HONITON SURGERY</td>\n",
       "      <td>65</td>\n",
       "      <td>4</td>\n",
       "    </tr>\n",
       "    <tr>\n",
       "      <th>L83003</th>\n",
       "      <td>QUEEN'S MEDICAL CENTRE</td>\n",
       "      <td>16</td>\n",
       "      <td>0</td>\n",
       "    </tr>\n",
       "    <tr>\n",
       "      <th>L83006</th>\n",
       "      <td>ERNESETTLE PRIMARY CARE CENTRE</td>\n",
       "      <td>44</td>\n",
       "      <td>8</td>\n",
       "    </tr>\n",
       "    <tr>\n",
       "      <th>L83007</th>\n",
       "      <td>SEATON &amp; COLYTON MEDICAL PRACTICE</td>\n",
       "      <td>19</td>\n",
       "      <td>0</td>\n",
       "    </tr>\n",
       "    <tr>\n",
       "      <th>L83008</th>\n",
       "      <td>PATHFIELDS PRACTICE</td>\n",
       "      <td>82</td>\n",
       "      <td>5</td>\n",
       "    </tr>\n",
       "  </tbody>\n",
       "</table>\n",
       "</div>"
      ],
      "text/plain": [
       "                              practice_name  total_items  keppra_items\n",
       "practice                                                              \n",
       "L83002                      HONITON SURGERY           65             4\n",
       "L83003               QUEEN'S MEDICAL CENTRE           16             0\n",
       "L83006       ERNESETTLE PRIMARY CARE CENTRE           44             8\n",
       "L83007    SEATON & COLYTON MEDICAL PRACTICE           19             0\n",
       "L83008                  PATHFIELDS PRACTICE           82             5"
      ]
     },
     "execution_count": 57,
     "metadata": {},
     "output_type": "execute_result"
    }
   ],
   "source": [
    "practices.head()"
   ]
  },
  {
   "cell_type": "markdown",
   "metadata": {},
   "source": [
    "We can now continue as above."
   ]
  },
  {
   "cell_type": "code",
   "execution_count": 58,
   "metadata": {},
   "outputs": [],
   "source": [
    "df = pd.DataFrame([[1, 2, 3], [1.4, 1.5, 1.6]])"
   ]
  },
  {
   "cell_type": "code",
   "execution_count": 59,
   "metadata": {},
   "outputs": [
    {
     "data": {
      "text/html": [
       "<div>\n",
       "<style scoped>\n",
       "    .dataframe tbody tr th:only-of-type {\n",
       "        vertical-align: middle;\n",
       "    }\n",
       "\n",
       "    .dataframe tbody tr th {\n",
       "        vertical-align: top;\n",
       "    }\n",
       "\n",
       "    .dataframe thead th {\n",
       "        text-align: right;\n",
       "    }\n",
       "</style>\n",
       "<table border=\"1\" class=\"dataframe\">\n",
       "  <thead>\n",
       "    <tr style=\"text-align: right;\">\n",
       "      <th></th>\n",
       "      <th>0</th>\n",
       "      <th>1</th>\n",
       "      <th>2</th>\n",
       "    </tr>\n",
       "  </thead>\n",
       "  <tbody>\n",
       "    <tr>\n",
       "      <th>0</th>\n",
       "      <td>1.0</td>\n",
       "      <td>2.0</td>\n",
       "      <td>3.0</td>\n",
       "    </tr>\n",
       "    <tr>\n",
       "      <th>1</th>\n",
       "      <td>1.4</td>\n",
       "      <td>1.5</td>\n",
       "      <td>1.6</td>\n",
       "    </tr>\n",
       "  </tbody>\n",
       "</table>\n",
       "</div>"
      ],
      "text/plain": [
       "     0    1    2\n",
       "0  1.0  2.0  3.0\n",
       "1  1.4  1.5  1.6"
      ]
     },
     "execution_count": 59,
     "metadata": {},
     "output_type": "execute_result"
    }
   ],
   "source": [
    "df"
   ]
  },
  {
   "cell_type": "code",
   "execution_count": 61,
   "metadata": {},
   "outputs": [
    {
     "data": {
      "text/html": [
       "<div>\n",
       "<style scoped>\n",
       "    .dataframe tbody tr th:only-of-type {\n",
       "        vertical-align: middle;\n",
       "    }\n",
       "\n",
       "    .dataframe tbody tr th {\n",
       "        vertical-align: top;\n",
       "    }\n",
       "\n",
       "    .dataframe thead th {\n",
       "        text-align: right;\n",
       "    }\n",
       "</style>\n",
       "<table border=\"1\" class=\"dataframe\">\n",
       "  <thead>\n",
       "    <tr style=\"text-align: right;\">\n",
       "      <th></th>\n",
       "      <th>0</th>\n",
       "      <th>1</th>\n",
       "    </tr>\n",
       "  </thead>\n",
       "  <tbody>\n",
       "    <tr>\n",
       "      <th>0</th>\n",
       "      <td>1.0</td>\n",
       "      <td>1.4</td>\n",
       "    </tr>\n",
       "    <tr>\n",
       "      <th>1</th>\n",
       "      <td>2.0</td>\n",
       "      <td>1.5</td>\n",
       "    </tr>\n",
       "    <tr>\n",
       "      <th>2</th>\n",
       "      <td>3.0</td>\n",
       "      <td>1.6</td>\n",
       "    </tr>\n",
       "  </tbody>\n",
       "</table>\n",
       "</div>"
      ],
      "text/plain": [
       "     0    1\n",
       "0  1.0  1.4\n",
       "1  2.0  1.5\n",
       "2  3.0  1.6"
      ]
     },
     "execution_count": 61,
     "metadata": {},
     "output_type": "execute_result"
    }
   ],
   "source": [
    "df.transpose()"
   ]
  },
  {
   "cell_type": "code",
   "execution_count": 62,
   "metadata": {},
   "outputs": [],
   "source": [
    "df = df.transpose()"
   ]
  },
  {
   "cell_type": "code",
   "execution_count": 63,
   "metadata": {},
   "outputs": [
    {
     "data": {
      "text/plain": [
       "0    1.0\n",
       "1    2.0\n",
       "2    3.0\n",
       "Name: 0, dtype: float64"
      ]
     },
     "execution_count": 63,
     "metadata": {},
     "output_type": "execute_result"
    }
   ],
   "source": [
    "df[0]"
   ]
  },
  {
   "cell_type": "code",
   "execution_count": 64,
   "metadata": {},
   "outputs": [
    {
     "data": {
      "text/plain": [
       "0    1\n",
       "1    2\n",
       "2    3\n",
       "Name: 0, dtype: int64"
      ]
     },
     "execution_count": 64,
     "metadata": {},
     "output_type": "execute_result"
    }
   ],
   "source": [
    "df[0].astype(int)"
   ]
  },
  {
   "cell_type": "code",
   "execution_count": 65,
   "metadata": {},
   "outputs": [
    {
     "data": {
      "text/plain": [
       "0    1\n",
       "1    1\n",
       "2    1\n",
       "Name: 1, dtype: int64"
      ]
     },
     "execution_count": 65,
     "metadata": {},
     "output_type": "execute_result"
    }
   ],
   "source": [
    "df[1].astype(int)"
   ]
  },
  {
   "cell_type": "code",
   "execution_count": 66,
   "metadata": {},
   "outputs": [],
   "source": [
    "df[2] = [-1.4, -1.5, -1.6]"
   ]
  },
  {
   "cell_type": "code",
   "execution_count": 67,
   "metadata": {},
   "outputs": [
    {
     "data": {
      "text/plain": [
       "0   -1.4\n",
       "1   -1.5\n",
       "2   -1.6\n",
       "Name: 2, dtype: float64"
      ]
     },
     "execution_count": 67,
     "metadata": {},
     "output_type": "execute_result"
    }
   ],
   "source": [
    "df[2]"
   ]
  },
  {
   "cell_type": "code",
   "execution_count": 68,
   "metadata": {},
   "outputs": [
    {
     "data": {
      "text/plain": [
       "0   -1\n",
       "1   -1\n",
       "2   -1\n",
       "Name: 2, dtype: int64"
      ]
     },
     "execution_count": 68,
     "metadata": {},
     "output_type": "execute_result"
    }
   ],
   "source": [
    "df[2].astype(int)"
   ]
  },
  {
   "cell_type": "code",
   "execution_count": 69,
   "metadata": {},
   "outputs": [
    {
     "data": {
      "text/html": [
       "<div>\n",
       "<style scoped>\n",
       "    .dataframe tbody tr th:only-of-type {\n",
       "        vertical-align: middle;\n",
       "    }\n",
       "\n",
       "    .dataframe tbody tr th {\n",
       "        vertical-align: top;\n",
       "    }\n",
       "\n",
       "    .dataframe thead th {\n",
       "        text-align: right;\n",
       "    }\n",
       "</style>\n",
       "<table border=\"1\" class=\"dataframe\">\n",
       "  <thead>\n",
       "    <tr style=\"text-align: right;\">\n",
       "      <th></th>\n",
       "      <th>0</th>\n",
       "      <th>1</th>\n",
       "      <th>2</th>\n",
       "    </tr>\n",
       "  </thead>\n",
       "  <tbody>\n",
       "    <tr>\n",
       "      <th>0</th>\n",
       "      <td>1.0</td>\n",
       "      <td>1.4</td>\n",
       "      <td>-1.4</td>\n",
       "    </tr>\n",
       "    <tr>\n",
       "      <th>1</th>\n",
       "      <td>2.0</td>\n",
       "      <td>1.5</td>\n",
       "      <td>-1.5</td>\n",
       "    </tr>\n",
       "    <tr>\n",
       "      <th>2</th>\n",
       "      <td>3.0</td>\n",
       "      <td>1.6</td>\n",
       "      <td>-1.6</td>\n",
       "    </tr>\n",
       "  </tbody>\n",
       "</table>\n",
       "</div>"
      ],
      "text/plain": [
       "     0    1    2\n",
       "0  1.0  1.4 -1.4\n",
       "1  2.0  1.5 -1.5\n",
       "2  3.0  1.6 -1.6"
      ]
     },
     "execution_count": 69,
     "metadata": {},
     "output_type": "execute_result"
    }
   ],
   "source": [
    "df"
   ]
  },
  {
   "cell_type": "code",
   "execution_count": 70,
   "metadata": {},
   "outputs": [
    {
     "data": {
      "text/plain": [
       "0  0    1.0\n",
       "   1    2.0\n",
       "   2    3.0\n",
       "1  0    1.4\n",
       "   1    1.5\n",
       "   2    1.6\n",
       "2  0   -1.4\n",
       "   1   -1.5\n",
       "   2   -1.6\n",
       "dtype: float64"
      ]
     },
     "execution_count": 70,
     "metadata": {},
     "output_type": "execute_result"
    }
   ],
   "source": [
    "df.unstack()"
   ]
  },
  {
   "cell_type": "code",
   "execution_count": 71,
   "metadata": {},
   "outputs": [
    {
     "data": {
      "text/plain": [
       "pandas.core.series.Series"
      ]
     },
     "execution_count": 71,
     "metadata": {},
     "output_type": "execute_result"
    }
   ],
   "source": [
    "type(df.unstack())"
   ]
  },
  {
   "cell_type": "code",
   "execution_count": 72,
   "metadata": {},
   "outputs": [],
   "source": [
    "s = df.unstack()"
   ]
  },
  {
   "cell_type": "code",
   "execution_count": 73,
   "metadata": {},
   "outputs": [
    {
     "data": {
      "text/plain": [
       "MultiIndex(levels=[[0, 1, 2], [0, 1, 2]],\n",
       "           labels=[[0, 0, 0, 1, 1, 1, 2, 2, 2], [0, 1, 2, 0, 1, 2, 0, 1, 2]])"
      ]
     },
     "execution_count": 73,
     "metadata": {},
     "output_type": "execute_result"
    }
   ],
   "source": [
    "s.index"
   ]
  },
  {
   "cell_type": "code",
   "execution_count": 74,
   "metadata": {},
   "outputs": [
    {
     "data": {
      "text/plain": [
       "0    1.0\n",
       "1    2.0\n",
       "2    3.0\n",
       "dtype: float64"
      ]
     },
     "execution_count": 74,
     "metadata": {},
     "output_type": "execute_result"
    }
   ],
   "source": [
    "s[0]"
   ]
  },
  {
   "cell_type": "code",
   "execution_count": 75,
   "metadata": {},
   "outputs": [
    {
     "data": {
      "text/plain": [
       "2.0"
      ]
     },
     "execution_count": 75,
     "metadata": {},
     "output_type": "execute_result"
    }
   ],
   "source": [
    "s[0][1]"
   ]
  },
  {
   "cell_type": "code",
   "execution_count": 76,
   "metadata": {},
   "outputs": [
    {
     "data": {
      "text/plain": [
       "0    3.0\n",
       "1    1.6\n",
       "2   -1.6\n",
       "dtype: float64"
      ]
     },
     "execution_count": 76,
     "metadata": {},
     "output_type": "execute_result"
    }
   ],
   "source": [
    "s[:, 2]"
   ]
  },
  {
   "cell_type": "code",
   "execution_count": 77,
   "metadata": {},
   "outputs": [
    {
     "data": {
      "text/plain": [
       "0  0    1.0\n",
       "   1    2.0\n",
       "   2    3.0\n",
       "1  0    1.4\n",
       "   1    1.5\n",
       "   2    1.6\n",
       "2  0   -1.4\n",
       "   1   -1.5\n",
       "   2   -1.6\n",
       "dtype: float64"
      ]
     },
     "execution_count": 77,
     "metadata": {},
     "output_type": "execute_result"
    }
   ],
   "source": [
    "s"
   ]
  },
  {
   "cell_type": "code",
   "execution_count": 78,
   "metadata": {},
   "outputs": [
    {
     "data": {
      "text/plain": [
       "1.6"
      ]
     },
     "execution_count": 78,
     "metadata": {},
     "output_type": "execute_result"
    }
   ],
   "source": [
    "s[1, 2]"
   ]
  },
  {
   "cell_type": "code",
   "execution_count": 93,
   "metadata": {},
   "outputs": [
    {
     "data": {
      "text/plain": [
       "0    3.0\n",
       "1    1.6\n",
       "dtype: float64"
      ]
     },
     "execution_count": 93,
     "metadata": {},
     "output_type": "execute_result"
    }
   ],
   "source": [
    "s.loc[0:1][:, 2]"
   ]
  },
  {
   "cell_type": "code",
   "execution_count": null,
   "metadata": {},
   "outputs": [],
   "source": []
  }
 ],
 "metadata": {
  "kernelspec": {
   "display_name": "Python 3",
   "language": "python",
   "name": "python3"
  },
  "language_info": {
   "codemirror_mode": {
    "name": "ipython",
    "version": 3
   },
   "file_extension": ".py",
   "mimetype": "text/x-python",
   "name": "python",
   "nbconvert_exporter": "python",
   "pygments_lexer": "ipython3",
   "version": "3.6.4"
  }
 },
 "nbformat": 4,
 "nbformat_minor": 2
}
